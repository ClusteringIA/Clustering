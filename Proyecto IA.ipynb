{
 "cells": [
  {
   "cell_type": "markdown",
   "metadata": {},
   "source": [
    "CLUSTERING CON INCERTIDUMBRE\n",
    "\n",
    "Primero, para poder ejecutar el código es necesario instalar los paquetes msotrados. Si no te deja, es necesario indicar en el comando de \"pip install\" el flag --User o -U"
   ]
  },
  {
   "cell_type": "code",
   "execution_count": 1,
   "metadata": {},
   "outputs": [],
   "source": [
    "#Packages to install\n",
    "\n",
    "#!pip install pandas\n",
    "#!pip install numpy\n",
    "#!pip install scipy\n",
    "#!pip install matplotlib\n",
    "#!pip install scikit-learn\n",
    "#!pip install ipywidgets"
   ]
  },
  {
   "cell_type": "markdown",
   "metadata": {},
   "source": [
    "A continuación los imports necesarios. De momento ipywidgtes no es necesario por lo que se puede comentar si da algún tipo de problema"
   ]
  },
  {
   "cell_type": "code",
   "execution_count": 2,
   "metadata": {},
   "outputs": [],
   "source": [
    "#Imports\n",
    "\n",
    "import math\n",
    "import pandas as pd\n",
    "import numpy as np\n",
    "import scipy as sp\n",
    "import random as rd\n",
    "import ipywidgets as widgets\n",
    "import matplotlib.pyplot as plt\n",
    "from sklearn import preprocessing\n",
    "\n",
    "#Interactive plot\n",
    "#%matplotlib notebook\n",
    "%matplotlib inline"
   ]
  },
  {
   "cell_type": "markdown",
   "metadata": {},
   "source": [
    "La primera clase creada es DataSet.\n",
    "\n",
    "Esta estructura de datos tiene como objetivo facilitar el cargar archivos haciendo uso de la librería pandas. \n",
    "\n",
    "En el constructor solo tienes que pasar la ruta de archivo deseada. De momento el código mostrado tiene rutas ed archivo locales y no relativas. Comprobar que las rutas están bien en caso de error.\n",
    "\n",
    "Para leer el archivo deseado, llamar al método Read el cual incluye como parámetro el carácter de separación, el cual siempre debe ser ','.\n",
    "\n",
    "La ventaja de esta estructura de datos es que podemos dibujar directamente los puntos del archivo csv."
   ]
  },
  {
   "cell_type": "code",
   "execution_count": 3,
   "metadata": {},
   "outputs": [],
   "source": [
    "class DataSet:\n",
    "    \n",
    "    data = []\n",
    "    list_points = []\n",
    "    drawPoint = []\n",
    "    \n",
    "    def __init__(self, file_path):\n",
    "        self.file_path = file_path\n",
    "        \n",
    "    #Derived\n",
    "    def Read(self, sep):\n",
    "        self.data = pd.read_csv(self.file_path, sep=sep,encoding='utf8')\n",
    "        \n",
    "        points = []\n",
    "        allX = []\n",
    "        allY =[]\n",
    "        \n",
    "        for index, row in self.data.iterrows():\n",
    "            p = Point(row['Coord X'],row['Coord Y'])\n",
    "            points.append(p)\n",
    "            allX.append(p.x)\n",
    "            allY.append(p.y)\n",
    "            \n",
    "        self.list_points = points\n",
    "        self.drawPoint.append(allX)\n",
    "        self.drawPoint.append(allY) \n",
    "        \n",
    "    def DrawData(self, drawType):       \n",
    "        plt.plot(self.drawPoint[0],self.drawPoint[1],drawType)"
   ]
  },
  {
   "cell_type": "markdown",
   "metadata": {},
   "source": [
    "La clase punto siemplemente se encarga de guardar dos valores, las componentes de una coordenada: posición x e y."
   ]
  },
  {
   "cell_type": "code",
   "execution_count": 29,
   "metadata": {},
   "outputs": [],
   "source": [
    "class Point:\n",
    "    def __init__(self, x, y):\n",
    "        self.x = x\n",
    "        self.y = y\n",
    "    \n",
    "    def getFurthestPoint(self,points):\n",
    "        \n",
    "        res = Point(0,0)\n",
    "        auxDis = 0.0\n",
    "        \n",
    "        for i in range(0,len(points)):\n",
    "            dis = self.CalculateDistanceToPoint(points[i])\n",
    "            \n",
    "            if(dis>auxDis):\n",
    "                auxDis = dis\n",
    "                res = points[i]\n",
    "            \n",
    "        return res\n",
    "    \n",
    "    def CalculateDistanceToCluster(self,c):\n",
    "        dis = self.CalculateDistanceToPoint(c.center)\n",
    "        return abs(dis - c.radius)\n",
    "    \n",
    "    def calcThresh(self,circles):\n",
    "        \n",
    "        distances = []\n",
    "        distances_n = []\n",
    "        \n",
    "        for i in range(0,len(circles)):\n",
    "            distances.append(self.CalculateDistanceToCluster(circles[i]))\n",
    "        \n",
    "        print()\n",
    "        \n",
    "        mod = 0.0\n",
    "        for i in range(0,len(distances)):\n",
    "            mod += distances[i]\n",
    "        \n",
    "        distances_n = np.array(distances)*(1/mod)\n",
    "\n",
    "        return distances_n\n",
    "    \n",
    "    def CalculatePerpendicular(self,p):\n",
    "        #Punto medio\n",
    "        xMean = (self.x + p.x)/2\n",
    "        yMean = (self.y + p.y)/2\n",
    "        \n",
    "        #Pendiente usando: y - y1 = m(x - x1) y  mp = -1/m\n",
    "        m = -1/((p.y - self.y)/(p.x - self.x))\n",
    "        \n",
    "        #Se devuelve [x,y,b]\n",
    "        perpendicular = ([-m,1,m*(-xMean)+yMean])\n",
    "        \n",
    "        return perpendicular\n",
    "    \n",
    "    def CalculateDistanceToPoint(self,p):\n",
    "        disX = p.x - self.x\n",
    "        disY = p.y - self.y\n",
    "        dis = math.sqrt(disX*disX + disY*disY)\n",
    "        \n",
    "        return dis"
   ]
  },
  {
   "cell_type": "markdown",
   "metadata": {},
   "source": [
    "La clase círculo como su nombre bien indica es una estructura de datos encargada de gestionarlo.\n",
    "\n",
    "Contiene la información del centro de la circunferencia, radio, numero de putnos que se compone y sus valores en coordenadas.\n",
    "\n",
    "En el constructor simplemente se pasa el centro, radio y número de puntos deseados. \n",
    "\n",
    "El método Update simplemente modifica los valores de centro y radio.\n",
    "\n",
    "El método Draw se limita a realizar un esbozo del círculo."
   ]
  },
  {
   "cell_type": "code",
   "execution_count": 30,
   "metadata": {},
   "outputs": [],
   "source": [
    "class Circle:\n",
    "    \n",
    "    center = 0\n",
    "    readius = 0\n",
    "    numOfPoints = 0\n",
    "    xVals = []\n",
    "    yVals = []\n",
    "    \n",
    "    def __init__(self, center, radius, numOfPoints):\n",
    "        self.center = center\n",
    "        self.radius = radius\n",
    "        self.numOfPoints = numOfPoints\n",
    "        self.__Calculate()\n",
    "      \n",
    "    #Derived\n",
    "    def __Calculate(self):\n",
    "        \n",
    "        self.xVals = []\n",
    "        self.yVals = []\n",
    "        \n",
    "        alpha = 2*math.pi/self.numOfPoints\n",
    "        i = 0     \n",
    "        while i < 2*math.pi:\n",
    "            self.xVals.append(self.center.x + self.radius*math.cos(i))\n",
    "            self.yVals.append(self.center.y + self.radius*math.sin(i))\n",
    "            i += alpha\n",
    "            \n",
    "    def Update(self, center, radius):\n",
    "        self.center = center\n",
    "        self.radius = radius\n",
    "        self.__Calculate()\n",
    "    \n",
    "    def Draw(self):\n",
    "        if(len(self.xVals) == 0 or len(self.yVals) == 0):\n",
    "            print('Error when drawing: Values are empty')\n",
    "        else:\n",
    "            xPrimeVals = self.xVals\n",
    "            xPrimeVals.append(xPrimeVals[0])\n",
    "            \n",
    "            yPrimeVals = self.yVals\n",
    "            yPrimeVals.append(yPrimeVals[0])\n",
    "            \n",
    "            plt.plot(xPrimeVals,yPrimeVals)\n",
    "            plt.plot(self.center.x,self.center.y,'bo')\n",
    "            \n",
    "    def CalculateFrom3Points(p1,p2,p3):\n",
    "        #Mediatrices\n",
    "        perp1 = p1.CalculatePerpendicular(p2)\n",
    "        perp2 = p1.CalculatePerpendicular(p3)\n",
    "        \n",
    "        #Circuncentro\n",
    "        A = [[perp1[0],perp1[1]],[perp2[0],perp2[1]]]\n",
    "        \n",
    "        if(np.linalg.det(A)==0):\n",
    "            return Point(0,0),-1\n",
    "        else:\n",
    "            B = [[perp1[2]],[perp2[2]]]\n",
    "            X = np.linalg.solve(A,B)\n",
    "            circumcenter = Point(X[0],X[1])\n",
    "\n",
    "            #Radio\n",
    "            radius = circumcenter.CalculateDistanceToPoint(p1)\n",
    "\n",
    "            return circumcenter, radius"
   ]
  },
  {
   "cell_type": "markdown",
   "metadata": {},
   "source": [
    "La Clase canvas es la que usaremos principalmente para visualziar los datos.\n",
    "\n",
    "Recibe como parámetro una altura, anchura y datos.\n",
    "\n",
    "Lo más importante de esta clase es el transformar los Datos a Puntos del que se encarga el método privado \"__DataToPoints\".\n",
    "\n",
    "Luego tenemos más métodos:\n",
    "\n",
    "DrawData(): Simplemente dibuja los puntos que se han pasado en el constructor\n",
    "\n",
    "RemoveRandomPoints(percentage): Para eliminar puntos de los datos. Indica el porcentaje de los puntos que quieran ser borrados, de forma aleatoria.\n",
    "\n",
    "InsertNoise(devX,devY): Para añadir ruido a los datos. Se pasa como parámetro la desviación que queremos tanto en la X como en la Y\n",
    "\n",
    "Luego tenemos dos métodos para generar circunferencias alteatorias con el objetivo de generar Datos.\n",
    "\n",
    "DrawRandomCircles_r(numOfCircles, precision): Genera circufnerencias aletatoris con un radio alteatorio. Genera tantas circufnerencias como se indique en el parámetro de la función\n",
    "\n",
    "DrawRandomCircles(numOfCircles, minRadius, maxRadius, precision): Igual que \"DrawRandomCircles_r\" pero además indicando las longitudes del radio que deseemos."
   ]
  },
  {
   "cell_type": "code",
   "execution_count": 31,
   "metadata": {},
   "outputs": [],
   "source": [
    "class Canvas:\n",
    "    \n",
    "    width = 0\n",
    "    height = 0\n",
    "    data = []\n",
    "    points = []\n",
    "    \n",
    "    def __init__(self, width, height, data):\n",
    "        self.width = width\n",
    "        self.height = height\n",
    "        self.data = data\n",
    "        self.points = self.__DataToPoints()\n",
    "   \n",
    "    #Derived\n",
    "    def __DataToPoints(self):\n",
    "        res = []        \n",
    "        for i in range (0,len(self.data)):            \n",
    "            for j in range(0,self.data[i].numOfPoints):                \n",
    "                point=[]\n",
    "                point.append(self.data[i].xVals[j])\n",
    "                point.append(self.data[i].yVals[j])              \n",
    "                point.append(\"Circulo\"+str(i+1))\n",
    "                \n",
    "                res.append(point)\n",
    "        return res\n",
    "    \n",
    "    def DrawData(self):\n",
    "        for i in range (0,len(self.points)):\n",
    "            plt.plot(self.points[i][0],self.points[i][1],'ro')\n",
    "    \n",
    "    def RemoveRandomPoints(self,percentage):\n",
    "        \n",
    "        if len(self.points) != 0:\n",
    "            pointsToRemove = int(len(self.points)*percentage)\n",
    "            newArrayLen = len(self.points)\n",
    "\n",
    "            for i in range (0, pointsToRemove):\n",
    "                j = rd.randint(0,newArrayLen-1)\n",
    "                self.points.pop(j)\n",
    "                newArrayLen -= 1\n",
    "        else:\n",
    "            print(\"Data debe tener al menos un punto.\")\n",
    "    \n",
    "    def InsertNoise(self,devX,devY):\n",
    "        noiseX = np.random.normal(0,devX,len(self.points))\n",
    "        noiseY = np.random.normal(0,devY,len(self.points))\n",
    "        \n",
    "        for i in range(0,len(self.points)):\n",
    "            self.points[i][0] += noiseX[i]\n",
    "            self.points[i][1] += noiseY[i]\n",
    "            \n",
    "    def DrawRandomCircles_r(self,numOfCircles, precision):\n",
    "            \n",
    "        for i in range (0,numOfCircles):\n",
    "            \n",
    "            maxRad = 0\n",
    "            \n",
    "            if(self.width > self.height):\n",
    "                maxRad = self.height/2\n",
    "            else:\n",
    "                 maxRad = self.width/2\n",
    "            \n",
    "            radius = rd.uniform(1,maxRad)\n",
    "            centerX = rd.uniform(radius,self.width-radius)\n",
    "            centerY = rd.uniform(radius,self.height-radius)\n",
    "                       \n",
    "            c = Circle(Point(centerX,centerY),radius,precision)\n",
    "            self.data.append(c)\n",
    "            c.Draw()\n",
    "        \n",
    "        self.points = self.__DataToPoints()\n",
    "            \n",
    "    def DrawRandomCircles(self,numOfCircles, minRadius, maxRadius, precision):\n",
    "            \n",
    "        for i in range (0,numOfCircles):\n",
    "                       \n",
    "            radius = rd.uniform(minRadius,maxRadius)\n",
    "            centerX = rd.uniform(radius,self.width-radius)\n",
    "            centerY = rd.uniform(radius,self.height-radius)                       \n",
    "            c = Circle(Point(centerX,centerY),radius,precision)\n",
    "            \n",
    "            self.data.append(c)\n",
    "            c.Draw()\n",
    "            \n",
    "        self.points = self.__DataToPoints()"
   ]
  },
  {
   "cell_type": "code",
   "execution_count": 32,
   "metadata": {},
   "outputs": [
    {
     "data": {
      "image/png": "[encoded data removed]",
      "text/plain": [
       "<Figure size 432x288 with 1 Axes>"
      ]
     },
     "metadata": {
      "needs_background": "light"
     },
     "output_type": "display_data"
    }
   ],
   "source": [
    "canvas2 = Canvas(100,100,[])\n",
    "canvas2.DrawRandomCircles(3,5,10,20)\n",
    "canvas2.RemoveRandomPoints(0.3)\n",
    "canvas2.InsertNoise(0.4,0.2)\n",
    "canvas2.DrawData()\n",
    "headers = ['Coord X','Coord Y', 'Circulo']\n",
    "df = pd.DataFrame(canvas2.points, columns= headers)"
   ]
  },
  {
   "cell_type": "code",
   "execution_count": 33,
   "metadata": {},
   "outputs": [],
   "source": [
    "file_path = r\"C:\\Users\\enri8\\Desktop\\Universidad\\IA\\Proyecto\\Clustering\\Datos\\datos_xport.csv\"\n",
    "df.to_csv(file_path, columns=headers, index=False, encoding=\"utf8\")"
   ]
  },
  {
   "cell_type": "code",
   "execution_count": 34,
   "metadata": {},
   "outputs": [],
   "source": [
    "setDatos = DataSet(file_path)\n",
    "setDatos.Read(',')"
   ]
  },
  {
   "cell_type": "code",
   "execution_count": 35,
   "metadata": {},
   "outputs": [
    {
     "data": {
      "image/png": "[encoded data removed]",
      "text/plain": [
       "<Figure size 432x288 with 1 Axes>"
      ]
     },
     "metadata": {
      "needs_background": "light"
     },
     "output_type": "display_data"
    }
   ],
   "source": [
    "setDatos.DrawData('ro')"
   ]
  },
  {
   "cell_type": "markdown",
   "metadata": {},
   "source": [
    "Definición del algoritmo segun el pseudocódigo"
   ]
  },
  {
   "cell_type": "code",
   "execution_count": 37,
   "metadata": {},
   "outputs": [],
   "source": [
    "class ClusteringSolver:\n",
    "    \n",
    "    circles = []\n",
    "    numCirculo = 0\n",
    "\n",
    "    def __init__(self,file_path,numCirculo):\n",
    "        \n",
    "        self.dataSet = DataSet(file_path)\n",
    "        self.dataSet.Read(',')        \n",
    "        self.circles = []\n",
    "        \n",
    "        self.numCirculo = numCirculo\n",
    "        \n",
    "        #for i in range (0,numCirculo):\n",
    "         #self.initRandomCluster()\n",
    "        \n",
    "        self.initCluster()\n",
    "    \n",
    "    def initRandomCluster(self):\n",
    "        \n",
    "        radius = rd.uniform(2,10)\n",
    "        centerX = rd.uniform(10,90)\n",
    "        centerY = rd.uniform(10,90)\n",
    "                       \n",
    "        c = Circle(Point(centerX,centerY),radius,20)\n",
    "            \n",
    "        self.circles.append(c)\n",
    "        \n",
    "    def initCluster(self):\n",
    "        \n",
    "        index = round(len(self.dataSet.list_points)/self.numCirculo)\n",
    "        \n",
    "        print(len(self.dataSet.list_points))\n",
    "        \n",
    "        i = 0\n",
    "\n",
    "        while i < index*self.numCirculo:\n",
    "            print(i)\n",
    "            radius = rd.uniform(2,10)\n",
    "            \n",
    "            if(i == 0):\n",
    "                centerX = self.dataSet.list_points[i].x - radius\n",
    "                centerY = self.dataSet.list_points[i].y - radius\n",
    "                               \n",
    "            else:\n",
    "            \n",
    "                centerX = self.dataSet.list_points[i].x - radius\n",
    "                centerY = self.dataSet.list_points[i].y - radius\n",
    "                \n",
    "                c1 = Point(centerX,centerY)\n",
    "                \n",
    "                for j in range (0,len(self.circles)):\n",
    "                    \n",
    "                    c2 = Point(self.circles[j].center.x,self.circles[j].center.y)\n",
    "                    dis = c1.CalculateDistanceToPoint(c2)\n",
    "                    sol = dis - radius - self.circles[j].radius\n",
    "                    \n",
    "                    if(sol < 0):\n",
    "                        radius = abs(radius + sol)\n",
    "            \n",
    "            i = i + index\n",
    "            c = Circle(Point(centerX,centerY),radius,20)\n",
    "            self.circles.append(c)\n",
    "\n",
    "    def CalculateThreshold(self):\n",
    "        \n",
    "        threshold = []\n",
    "        \n",
    "        for i in range(0,len(self.dataSet.list_points)):\n",
    "            p = self.dataSet.list_points[i]\n",
    "            threshold.append(p.calcThresh(self.circles))\n",
    "            \n",
    "        assignedCluster = []  \n",
    "        \n",
    "        for i in range(0,len(threshold)):\n",
    "            tuplePointCircle = []\n",
    "            index = 0\n",
    "            auxVal = 0\n",
    "            point = Point(0,0)\n",
    "            \n",
    "            for j in range(0,len(threshold[i])):\n",
    "                if(j==0):\n",
    "                    auxVal = threshold[i][j]\n",
    "                    point = self.dataSet.list_points[i]\n",
    "                    index = j\n",
    "                else:\n",
    "                    if(threshold[i][j] < auxVal):\n",
    "                        auxVal = threshold[i][j]\n",
    "                        point = self.dataSet.list_points[i]\n",
    "                        index = j\n",
    "                        \n",
    "            tuplePointCircle.append(point)\n",
    "            tuplePointCircle.append(index)\n",
    "            assignedCluster.append(tuplePointCircle)\n",
    "            \n",
    "            tuplePointCircle = []\n",
    "            index = 0\n",
    "            point = Point(0,0)\n",
    "            auxVal = 0\n",
    "    \n",
    "        return assignedCluster\n",
    "    \n",
    "    def CalculateBestFitPoints(self,listOfPoints):     \n",
    "        index = round(len(listOfPoints)/3)\n",
    "        return listOfPoints[0],listOfPoints[index],listOfPoints[index*2]\n",
    "    \n",
    "    def CalculateCircunference(self,listOfPoints):\n",
    "        radius = -1\n",
    "        while radius == -1:\n",
    "            p1,p2,p3 = self.CalculateBestFitPoints(listOfPoints)\n",
    "            center, radius = Circle.CalculateFrom3Points(p1,p2,p3)  \n",
    "\n",
    "        return center, radius"
   ]
  },
  {
   "cell_type": "code",
   "execution_count": 38,
   "metadata": {},
   "outputs": [
    {
     "name": "stdout",
     "output_type": "stream",
     "text": [
      "42\n",
      "0\n",
      "14\n",
      "28\n"
     ]
    }
   ],
   "source": [
    "file_path = r\"C:\\Users\\enri8\\Desktop\\Universidad\\IA\\Proyecto\\Clustering\\Datos\\datos_xport.csv\"\n",
    "cs = ClusteringSolver(file_path,3)\n",
    "#print(cs.dataSet.data)"
   ]
  },
  {
   "cell_type": "code",
   "execution_count": 39,
   "metadata": {},
   "outputs": [
    {
     "data": {
      "image/png": "[encoded data removed]",
      "text/plain": [
       "<Figure size 432x288 with 1 Axes>"
      ]
     },
     "metadata": {
      "needs_background": "light"
     },
     "output_type": "display_data"
    }
   ],
   "source": [
    "cs.dataSet.DrawData('ro')"
   ]
  },
  {
   "cell_type": "code",
   "execution_count": 40,
   "metadata": {},
   "outputs": [
    {
     "data": {
      "image/png": "[encoded data removed]",
      "text/plain": [
       "<Figure size 432x288 with 1 Axes>"
      ]
     },
     "metadata": {
      "needs_background": "light"
     },
     "output_type": "display_data"
    }
   ],
   "source": [
    "for i in range (0,len(cs.circles)):\n",
    "    cs.circles[i].Draw()"
   ]
  },
  {
   "cell_type": "code",
   "execution_count": 41,
   "metadata": {},
   "outputs": [
    {
     "name": "stdout",
     "output_type": "stream",
     "text": [
      "3\n"
     ]
    }
   ],
   "source": [
    "print(len(cs.circles))"
   ]
  },
  {
   "cell_type": "code",
   "execution_count": 42,
   "metadata": {},
   "outputs": [
    {
     "name": "stdout",
     "output_type": "stream",
     "text": [
      "\n",
      "\n",
      "\n",
      "\n",
      "\n",
      "\n",
      "\n",
      "\n",
      "\n",
      "\n",
      "\n",
      "\n",
      "\n",
      "\n",
      "\n",
      "\n",
      "\n",
      "\n",
      "\n",
      "\n",
      "\n",
      "\n",
      "\n",
      "\n",
      "\n",
      "\n",
      "\n",
      "\n",
      "\n",
      "\n",
      "\n",
      "\n",
      "\n",
      "\n",
      "\n",
      "\n",
      "\n",
      "\n",
      "\n",
      "\n",
      "\n",
      "\n"
     ]
    },
    {
     "data": {
      "image/png": "[encoded data removed]",
      "text/plain": [
       "<Figure size 432x288 with 1 Axes>"
      ]
     },
     "metadata": {
      "needs_background": "light"
     },
     "output_type": "display_data"
    }
   ],
   "source": [
    "thresh = cs.CalculateThreshold()\n",
    "\n",
    "for i in range (0,len(cs.circles)):\n",
    "    cs.circles[i].Draw()\n",
    "\n",
    "for i in range(0,len(thresh)):    \n",
    "    if(thresh[i][1] == 0):\n",
    "        plt.plot(thresh[i][0].x,thresh[i][0].y,'go')\n",
    "    elif(thresh[i][1] == 1):\n",
    "        plt.plot(thresh[i][0].x,thresh[i][0].y,'bo')\n",
    "    elif(thresh[i][1] == 2):\n",
    "        plt.plot(thresh[i][0].x,thresh[i][0].y,'ro')\n",
    "    elif(thresh[i][1] == 3):\n",
    "        plt.plot(thresh[i][0].x,thresh[i][0].y,'co')\n",
    "    elif(thresh[i][1] == 4):\n",
    "        plt.plot(thresh[i][0].x,thresh[i][0].y,'mo')\n",
    "    elif(thresh[i][1] == 5):\n",
    "        plt.plot(thresh[i][0].x,thresh[i][0].y,'ko')\n",
    "    else:\n",
    "        plt.plot(thresh[i][0].x,thresh[i][0].y,'yo')"
   ]
  },
  {
   "cell_type": "code",
   "execution_count": 44,
   "metadata": {
    "scrolled": false
   },
   "outputs": [
    {
     "ename": "PermissionError",
     "evalue": "[Errno 13] Permission denied: 'C:\\\\Users\\\\enri8\\\\Desktop\\\\Universidad\\\\IA\\\\Proyecto\\\\Clustering\\\\Datos\\\\datos_circulo.csv'",
     "output_type": "error",
     "traceback": [
      "\u001b[1;31m---------------------------------------------------------------------------\u001b[0m",
      "\u001b[1;31mPermissionError\u001b[0m                           Traceback (most recent call last)",
      "\u001b[1;32m<ipython-input-44-4b31efa6a2ca>\u001b[0m in \u001b[0;36m<module>\u001b[1;34m\u001b[0m\n\u001b[0;32m     10\u001b[0m \u001b[0mdatfr\u001b[0m \u001b[1;33m=\u001b[0m \u001b[0mpd\u001b[0m\u001b[1;33m.\u001b[0m\u001b[0mDataFrame\u001b[0m\u001b[1;33m(\u001b[0m\u001b[0mcan\u001b[0m\u001b[1;33m.\u001b[0m\u001b[0mpoints\u001b[0m\u001b[1;33m,\u001b[0m \u001b[0mcolumns\u001b[0m\u001b[1;33m=\u001b[0m \u001b[0mheaders\u001b[0m\u001b[1;33m)\u001b[0m\u001b[1;33m\u001b[0m\u001b[1;33m\u001b[0m\u001b[0m\n\u001b[0;32m     11\u001b[0m \u001b[0mfile_path_c\u001b[0m \u001b[1;33m=\u001b[0m \u001b[1;34mr\"C:\\Users\\enri8\\Desktop\\Universidad\\IA\\Proyecto\\Clustering\\Datos\\datos_circulo.csv\"\u001b[0m\u001b[1;33m\u001b[0m\u001b[1;33m\u001b[0m\u001b[0m\n\u001b[1;32m---> 12\u001b[1;33m \u001b[0mdatfr\u001b[0m\u001b[1;33m.\u001b[0m\u001b[0mto_csv\u001b[0m\u001b[1;33m(\u001b[0m\u001b[0mfile_path_c\u001b[0m\u001b[1;33m,\u001b[0m \u001b[0mcolumns\u001b[0m\u001b[1;33m=\u001b[0m\u001b[0mheaders\u001b[0m\u001b[1;33m,\u001b[0m \u001b[0mindex\u001b[0m\u001b[1;33m=\u001b[0m\u001b[1;32mFalse\u001b[0m\u001b[1;33m,\u001b[0m \u001b[0mencoding\u001b[0m\u001b[1;33m=\u001b[0m\u001b[1;34m\"utf8\"\u001b[0m\u001b[1;33m)\u001b[0m\u001b[1;33m\u001b[0m\u001b[1;33m\u001b[0m\u001b[0m\n\u001b[0m\u001b[0;32m     13\u001b[0m \u001b[1;33m\u001b[0m\u001b[0m\n\u001b[0;32m     14\u001b[0m \u001b[0mcs2\u001b[0m \u001b[1;33m=\u001b[0m \u001b[0mClusteringSolver\u001b[0m\u001b[1;33m(\u001b[0m\u001b[0mfile_path_c\u001b[0m\u001b[1;33m,\u001b[0m\u001b[1;36m0\u001b[0m\u001b[1;33m)\u001b[0m\u001b[1;33m\u001b[0m\u001b[1;33m\u001b[0m\u001b[0m\n",
      "\u001b[1;32mc:\\program files (x86)\\python38-32\\lib\\site-packages\\pandas\\core\\generic.py\u001b[0m in \u001b[0;36mto_csv\u001b[1;34m(self, path_or_buf, sep, na_rep, float_format, columns, header, index, index_label, mode, encoding, compression, quoting, quotechar, line_terminator, chunksize, date_format, doublequote, escapechar, decimal)\u001b[0m\n\u001b[0;32m   3202\u001b[0m             \u001b[0mdecimal\u001b[0m\u001b[1;33m=\u001b[0m\u001b[0mdecimal\u001b[0m\u001b[1;33m,\u001b[0m\u001b[1;33m\u001b[0m\u001b[1;33m\u001b[0m\u001b[0m\n\u001b[0;32m   3203\u001b[0m         )\n\u001b[1;32m-> 3204\u001b[1;33m         \u001b[0mformatter\u001b[0m\u001b[1;33m.\u001b[0m\u001b[0msave\u001b[0m\u001b[1;33m(\u001b[0m\u001b[1;33m)\u001b[0m\u001b[1;33m\u001b[0m\u001b[1;33m\u001b[0m\u001b[0m\n\u001b[0m\u001b[0;32m   3205\u001b[0m \u001b[1;33m\u001b[0m\u001b[0m\n\u001b[0;32m   3206\u001b[0m         \u001b[1;32mif\u001b[0m \u001b[0mpath_or_buf\u001b[0m \u001b[1;32mis\u001b[0m \u001b[1;32mNone\u001b[0m\u001b[1;33m:\u001b[0m\u001b[1;33m\u001b[0m\u001b[1;33m\u001b[0m\u001b[0m\n",
      "\u001b[1;32mc:\\program files (x86)\\python38-32\\lib\\site-packages\\pandas\\io\\formats\\csvs.py\u001b[0m in \u001b[0;36msave\u001b[1;34m(self)\u001b[0m\n\u001b[0;32m    182\u001b[0m             \u001b[0mclose\u001b[0m \u001b[1;33m=\u001b[0m \u001b[1;32mFalse\u001b[0m\u001b[1;33m\u001b[0m\u001b[1;33m\u001b[0m\u001b[0m\n\u001b[0;32m    183\u001b[0m         \u001b[1;32melse\u001b[0m\u001b[1;33m:\u001b[0m\u001b[1;33m\u001b[0m\u001b[1;33m\u001b[0m\u001b[0m\n\u001b[1;32m--> 184\u001b[1;33m             f, handles = get_handle(\n\u001b[0m\u001b[0;32m    185\u001b[0m                 \u001b[0mself\u001b[0m\u001b[1;33m.\u001b[0m\u001b[0mpath_or_buf\u001b[0m\u001b[1;33m,\u001b[0m\u001b[1;33m\u001b[0m\u001b[1;33m\u001b[0m\u001b[0m\n\u001b[0;32m    186\u001b[0m                 \u001b[0mself\u001b[0m\u001b[1;33m.\u001b[0m\u001b[0mmode\u001b[0m\u001b[1;33m,\u001b[0m\u001b[1;33m\u001b[0m\u001b[1;33m\u001b[0m\u001b[0m\n",
      "\u001b[1;32mc:\\program files (x86)\\python38-32\\lib\\site-packages\\pandas\\io\\common.py\u001b[0m in \u001b[0;36mget_handle\u001b[1;34m(path_or_buf, mode, encoding, compression, memory_map, is_text)\u001b[0m\n\u001b[0;32m    426\u001b[0m         \u001b[1;32mif\u001b[0m \u001b[0mencoding\u001b[0m\u001b[1;33m:\u001b[0m\u001b[1;33m\u001b[0m\u001b[1;33m\u001b[0m\u001b[0m\n\u001b[0;32m    427\u001b[0m             \u001b[1;31m# Encoding\u001b[0m\u001b[1;33m\u001b[0m\u001b[1;33m\u001b[0m\u001b[1;33m\u001b[0m\u001b[0m\n\u001b[1;32m--> 428\u001b[1;33m             \u001b[0mf\u001b[0m \u001b[1;33m=\u001b[0m \u001b[0mopen\u001b[0m\u001b[1;33m(\u001b[0m\u001b[0mpath_or_buf\u001b[0m\u001b[1;33m,\u001b[0m \u001b[0mmode\u001b[0m\u001b[1;33m,\u001b[0m \u001b[0mencoding\u001b[0m\u001b[1;33m=\u001b[0m\u001b[0mencoding\u001b[0m\u001b[1;33m,\u001b[0m \u001b[0mnewline\u001b[0m\u001b[1;33m=\u001b[0m\u001b[1;34m\"\"\u001b[0m\u001b[1;33m)\u001b[0m\u001b[1;33m\u001b[0m\u001b[1;33m\u001b[0m\u001b[0m\n\u001b[0m\u001b[0;32m    429\u001b[0m         \u001b[1;32melif\u001b[0m \u001b[0mis_text\u001b[0m\u001b[1;33m:\u001b[0m\u001b[1;33m\u001b[0m\u001b[1;33m\u001b[0m\u001b[0m\n\u001b[0;32m    430\u001b[0m             \u001b[1;31m# No explicit encoding\u001b[0m\u001b[1;33m\u001b[0m\u001b[1;33m\u001b[0m\u001b[1;33m\u001b[0m\u001b[0m\n",
      "\u001b[1;31mPermissionError\u001b[0m: [Errno 13] Permission denied: 'C:\\\\Users\\\\enri8\\\\Desktop\\\\Universidad\\\\IA\\\\Proyecto\\\\Clustering\\\\Datos\\\\datos_circulo.csv'"
     ]
    },
    {
     "data": {
      "image/png": "[encoded data removed]",
      "text/plain": [
       "<Figure size 432x288 with 1 Axes>"
      ]
     },
     "metadata": {
      "needs_background": "light"
     },
     "output_type": "display_data"
    }
   ],
   "source": [
    "circ = Circle(Point(5,5),5,50)\n",
    "\n",
    "can = Canvas(100,100,[circ])\n",
    "can.RemoveRandomPoints(0.3)\n",
    "can.InsertNoise(0.2,0.2)\n",
    "can.DrawData()\n",
    "\n",
    "headers = ['Coord X','Coord Y', 'Circulo']\n",
    "\n",
    "datfr = pd.DataFrame(can.points, columns= headers)\n",
    "file_path_c = r\"C:\\Users\\enri8\\Desktop\\Universidad\\IA\\Proyecto\\Clustering\\Datos\\datos_circulo.csv\"\n",
    "datfr.to_csv(file_path_c, columns=headers, index=False, encoding=\"utf8\")\n",
    "\n",
    "cs2 = ClusteringSolver(file_path_c,0)\n",
    "points = cs2.dataSet.list_points\n"
   ]
  },
  {
   "cell_type": "code",
   "execution_count": null,
   "metadata": {},
   "outputs": [],
   "source": []
  },
  {
   "cell_type": "code",
   "execution_count": null,
   "metadata": {},
   "outputs": [],
   "source": []
  },
  {
   "cell_type": "code",
   "execution_count": 45,
   "metadata": {},
   "outputs": [
    {
     "ename": "PermissionError",
     "evalue": "[Errno 13] Permission denied: 'C:\\\\Users\\\\enri8\\\\Desktop\\\\Universidad\\\\IA\\\\Proyecto\\\\Clustering\\\\Datos\\\\datos_circulo.csv'",
     "output_type": "error",
     "traceback": [
      "\u001b[1;31m---------------------------------------------------------------------------\u001b[0m",
      "\u001b[1;31mPermissionError\u001b[0m                           Traceback (most recent call last)",
      "\u001b[1;32m<ipython-input-45-19bfb93916b8>\u001b[0m in \u001b[0;36m<module>\u001b[1;34m\u001b[0m\n\u001b[0;32m     12\u001b[0m \u001b[0mdatfr\u001b[0m \u001b[1;33m=\u001b[0m \u001b[0mpd\u001b[0m\u001b[1;33m.\u001b[0m\u001b[0mDataFrame\u001b[0m\u001b[1;33m(\u001b[0m\u001b[0mcan\u001b[0m\u001b[1;33m.\u001b[0m\u001b[0mpoints\u001b[0m\u001b[1;33m,\u001b[0m \u001b[0mcolumns\u001b[0m\u001b[1;33m=\u001b[0m \u001b[0mheaders\u001b[0m\u001b[1;33m)\u001b[0m\u001b[1;33m\u001b[0m\u001b[1;33m\u001b[0m\u001b[0m\n\u001b[0;32m     13\u001b[0m \u001b[0mfile_path_c\u001b[0m \u001b[1;33m=\u001b[0m \u001b[1;34mr\"C:\\Users\\enri8\\Desktop\\Universidad\\IA\\Proyecto\\Clustering\\Datos\\datos_circulo.csv\"\u001b[0m\u001b[1;33m\u001b[0m\u001b[1;33m\u001b[0m\u001b[0m\n\u001b[1;32m---> 14\u001b[1;33m \u001b[0mdatfr\u001b[0m\u001b[1;33m.\u001b[0m\u001b[0mto_csv\u001b[0m\u001b[1;33m(\u001b[0m\u001b[0mfile_path_c\u001b[0m\u001b[1;33m,\u001b[0m \u001b[0mcolumns\u001b[0m\u001b[1;33m=\u001b[0m\u001b[0mheaders\u001b[0m\u001b[1;33m,\u001b[0m \u001b[0mindex\u001b[0m\u001b[1;33m=\u001b[0m\u001b[1;32mFalse\u001b[0m\u001b[1;33m,\u001b[0m \u001b[0mencoding\u001b[0m\u001b[1;33m=\u001b[0m\u001b[1;34m\"utf8\"\u001b[0m\u001b[1;33m)\u001b[0m\u001b[1;33m\u001b[0m\u001b[1;33m\u001b[0m\u001b[0m\n\u001b[0m\u001b[0;32m     15\u001b[0m \u001b[1;33m\u001b[0m\u001b[0m\n",
      "\u001b[1;32mc:\\program files (x86)\\python38-32\\lib\\site-packages\\pandas\\core\\generic.py\u001b[0m in \u001b[0;36mto_csv\u001b[1;34m(self, path_or_buf, sep, na_rep, float_format, columns, header, index, index_label, mode, encoding, compression, quoting, quotechar, line_terminator, chunksize, date_format, doublequote, escapechar, decimal)\u001b[0m\n\u001b[0;32m   3202\u001b[0m             \u001b[0mdecimal\u001b[0m\u001b[1;33m=\u001b[0m\u001b[0mdecimal\u001b[0m\u001b[1;33m,\u001b[0m\u001b[1;33m\u001b[0m\u001b[1;33m\u001b[0m\u001b[0m\n\u001b[0;32m   3203\u001b[0m         )\n\u001b[1;32m-> 3204\u001b[1;33m         \u001b[0mformatter\u001b[0m\u001b[1;33m.\u001b[0m\u001b[0msave\u001b[0m\u001b[1;33m(\u001b[0m\u001b[1;33m)\u001b[0m\u001b[1;33m\u001b[0m\u001b[1;33m\u001b[0m\u001b[0m\n\u001b[0m\u001b[0;32m   3205\u001b[0m \u001b[1;33m\u001b[0m\u001b[0m\n\u001b[0;32m   3206\u001b[0m         \u001b[1;32mif\u001b[0m \u001b[0mpath_or_buf\u001b[0m \u001b[1;32mis\u001b[0m \u001b[1;32mNone\u001b[0m\u001b[1;33m:\u001b[0m\u001b[1;33m\u001b[0m\u001b[1;33m\u001b[0m\u001b[0m\n",
      "\u001b[1;32mc:\\program files (x86)\\python38-32\\lib\\site-packages\\pandas\\io\\formats\\csvs.py\u001b[0m in \u001b[0;36msave\u001b[1;34m(self)\u001b[0m\n\u001b[0;32m    182\u001b[0m             \u001b[0mclose\u001b[0m \u001b[1;33m=\u001b[0m \u001b[1;32mFalse\u001b[0m\u001b[1;33m\u001b[0m\u001b[1;33m\u001b[0m\u001b[0m\n\u001b[0;32m    183\u001b[0m         \u001b[1;32melse\u001b[0m\u001b[1;33m:\u001b[0m\u001b[1;33m\u001b[0m\u001b[1;33m\u001b[0m\u001b[0m\n\u001b[1;32m--> 184\u001b[1;33m             f, handles = get_handle(\n\u001b[0m\u001b[0;32m    185\u001b[0m                 \u001b[0mself\u001b[0m\u001b[1;33m.\u001b[0m\u001b[0mpath_or_buf\u001b[0m\u001b[1;33m,\u001b[0m\u001b[1;33m\u001b[0m\u001b[1;33m\u001b[0m\u001b[0m\n\u001b[0;32m    186\u001b[0m                 \u001b[0mself\u001b[0m\u001b[1;33m.\u001b[0m\u001b[0mmode\u001b[0m\u001b[1;33m,\u001b[0m\u001b[1;33m\u001b[0m\u001b[1;33m\u001b[0m\u001b[0m\n",
      "\u001b[1;32mc:\\program files (x86)\\python38-32\\lib\\site-packages\\pandas\\io\\common.py\u001b[0m in \u001b[0;36mget_handle\u001b[1;34m(path_or_buf, mode, encoding, compression, memory_map, is_text)\u001b[0m\n\u001b[0;32m    426\u001b[0m         \u001b[1;32mif\u001b[0m \u001b[0mencoding\u001b[0m\u001b[1;33m:\u001b[0m\u001b[1;33m\u001b[0m\u001b[1;33m\u001b[0m\u001b[0m\n\u001b[0;32m    427\u001b[0m             \u001b[1;31m# Encoding\u001b[0m\u001b[1;33m\u001b[0m\u001b[1;33m\u001b[0m\u001b[1;33m\u001b[0m\u001b[0m\n\u001b[1;32m--> 428\u001b[1;33m             \u001b[0mf\u001b[0m \u001b[1;33m=\u001b[0m \u001b[0mopen\u001b[0m\u001b[1;33m(\u001b[0m\u001b[0mpath_or_buf\u001b[0m\u001b[1;33m,\u001b[0m \u001b[0mmode\u001b[0m\u001b[1;33m,\u001b[0m \u001b[0mencoding\u001b[0m\u001b[1;33m=\u001b[0m\u001b[0mencoding\u001b[0m\u001b[1;33m,\u001b[0m \u001b[0mnewline\u001b[0m\u001b[1;33m=\u001b[0m\u001b[1;34m\"\"\u001b[0m\u001b[1;33m)\u001b[0m\u001b[1;33m\u001b[0m\u001b[1;33m\u001b[0m\u001b[0m\n\u001b[0m\u001b[0;32m    429\u001b[0m         \u001b[1;32melif\u001b[0m \u001b[0mis_text\u001b[0m\u001b[1;33m:\u001b[0m\u001b[1;33m\u001b[0m\u001b[1;33m\u001b[0m\u001b[0m\n\u001b[0;32m    430\u001b[0m             \u001b[1;31m# No explicit encoding\u001b[0m\u001b[1;33m\u001b[0m\u001b[1;33m\u001b[0m\u001b[1;33m\u001b[0m\u001b[0m\n",
      "\u001b[1;31mPermissionError\u001b[0m: [Errno 13] Permission denied: 'C:\\\\Users\\\\enri8\\\\Desktop\\\\Universidad\\\\IA\\\\Proyecto\\\\Clustering\\\\Datos\\\\datos_circulo.csv'"
     ]
    },
    {
     "data": {
      "image/png": "[encoded data removed]",
      "text/plain": [
       "<Figure size 432x288 with 1 Axes>"
      ]
     },
     "metadata": {
      "needs_background": "light"
     },
     "output_type": "display_data"
    }
   ],
   "source": [
    "#Calcular circunferencia a partir de un conjunto de puntos\n",
    "\n",
    "#Creación de puntos a partir de circunferencia\n",
    "circ = Circle(Point(5,5),5,20)\n",
    "can = Canvas(100,100,[circ])\n",
    "can.RemoveRandomPoints(0.4)\n",
    "can.InsertNoise(0.2,0.2)\n",
    "can.DrawData()\n",
    "\n",
    "#Creación de csv con los puntos \n",
    "headers = ['Coord X','Coord Y', 'Circulo']\n",
    "datfr = pd.DataFrame(can.points, columns= headers)\n",
    "file_path_c = r\"C:\\Users\\enri8\\Desktop\\Universidad\\IA\\Proyecto\\Clustering\\Datos\\datos_circulo.csv\"\n",
    "datfr.to_csv(file_path_c, columns=headers, index=False, encoding=\"utf8\")\n",
    "\n"
   ]
  },
  {
   "cell_type": "code",
   "execution_count": 46,
   "metadata": {},
   "outputs": [
    {
     "name": "stdout",
     "output_type": "stream",
     "text": [
      "35\n",
      "0\n",
      "     Coord X   Coord Y   Circulo\n",
      "0   0.083262  3.657607  Circulo1\n",
      "1   0.193586  5.775167  Circulo1\n",
      "2   0.333493  6.805412  Circulo1\n",
      "3   0.467243  3.514305  Circulo1\n",
      "4   0.803580  2.660896  Circulo1\n",
      "5   1.390496  8.350604  Circulo1\n",
      "6   1.560375  1.622420  Circulo1\n",
      "7   1.703187  8.764564  Circulo1\n",
      "8   1.726653  1.252113  Circulo1\n",
      "9   2.031255  9.159783  Circulo1\n",
      "10  2.213889  0.445497  Circulo1\n",
      "11  3.031724  9.977390  Circulo1\n",
      "12  3.257690  9.798470  Circulo1\n",
      "13  4.058312  9.775835  Circulo1\n",
      "14  4.502214  0.282895  Circulo1\n",
      "15  4.883540  0.235435  Circulo1\n",
      "16  5.056721  9.650177  Circulo1\n",
      "17  5.361934 -0.032984  Circulo1\n",
      "18  5.982881  0.157945  Circulo1\n",
      "19  6.451469  0.397327  Circulo1\n",
      "20  6.518994  9.921402  Circulo1\n",
      "21  6.873777  9.656752  Circulo1\n",
      "22  6.995440  0.209348  Circulo1\n",
      "23  7.490214  0.799261  Circulo1\n",
      "24  7.843750  9.119843  Circulo1\n",
      "25  7.954088  8.679312  Circulo1\n",
      "26  8.100025  1.052523  Circulo1\n",
      "27  8.675685  8.682084  Circulo1\n",
      "28  8.909954  2.131137  Circulo1\n",
      "29  8.928826  1.715734  Circulo1\n",
      "30  9.421524  7.081940  Circulo1\n",
      "31  9.717986  6.263847  Circulo1\n",
      "32  9.797595  5.381154  Circulo1\n",
      "33  9.810727  2.711145  Circulo1\n",
      "34  9.994863  4.601089  Circulo1\n"
     ]
    },
    {
     "data": {
      "image/png": "[encoded data removed]",
      "text/plain": [
       "<Figure size 432x288 with 1 Axes>"
      ]
     },
     "metadata": {
      "needs_background": "light"
     },
     "output_type": "display_data"
    }
   ],
   "source": [
    "#Puntos del problema \n",
    "cs2 = ClusteringSolver(r\"C:\\Users\\enri8\\Desktop\\Universidad\\IA\\Proyecto\\Clustering\\Datos\\datos_circulo.csv\",1)\n",
    "points = cs2.dataSet.list_points\n",
    "\n",
    "#Cálculo circunferencia\n",
    "c,r = cs2.CalculateCircunference(points)\n",
    "circ = Circle(c,r,30)\n",
    "\n",
    "print(cs2.dataSet.data)\n",
    "\n",
    "circ.Draw()"
   ]
  },
  {
   "cell_type": "code",
   "execution_count": null,
   "metadata": {},
   "outputs": [],
   "source": []
  },
  {
   "cell_type": "code",
   "execution_count": 47,
   "metadata": {},
   "outputs": [],
   "source": [
    "def CalculateBestFitPoints(self,listOfPoints):     \n",
    "        \n",
    "        sumX = 0.0\n",
    "        sumY = 0.0\n",
    "        distance = 0.0\n",
    "        auxPoint = []\n",
    "        auxCenter = 0 \n",
    "        \n",
    "        for i in range(0,len(listOfPoints)):\n",
    "            \n",
    "            #furthests point from points        \n",
    "            for j in range(0,len(listOfPoints)):\n",
    "                actDistance = math.sqrt(pow(listOfPoints[j].x-listOfPoints[i].x,2)+pow(listOfPoints[j].y-listOfPoints[i].y,2))\n",
    "                if(actDistance > distance):\n",
    "                    distance = actDistance\n",
    "                    auxPoint = [listOfPoints[i],listOfPoints[j]]\n",
    "            \n",
    "            sumX += listOfPoints[i].x\n",
    "            sumY += listOfPoints[i].y\n",
    "        \n",
    "        p = Point(sumX/len(listOfPoints),sumY/len(listOfPoints))\n",
    "        \n",
    "        vecL = Point((auxPoint[0].x+auxPoint[1].x)/2,(auxPoint[0].y+auxPoint[1].y)/2)\n",
    "    \n",
    "        newVec = Point(p.x-vecL.x,p.y - vecL.y)\n",
    "        rect = Point(newVec.y, -newVec.x)\n",
    "        c = -(rect.x * p.x + rect.y * p.y)\n",
    "        \n",
    "        auxVal = 10\n",
    "        closestPoint = 0\n",
    "        for j in range(0,len(listOfPoints)):\n",
    "            \n",
    "            val = abs(rect.x * listOfPoints[j].x + rect.y * listOfPoints[j].y + c)\n",
    "            if(j == 0):\n",
    "                auxVal = val\n",
    "            else:\n",
    "                if(val < auxVal):\n",
    "                    auxVal = val\n",
    "                    closestPoint = listOfPoints[j]\n",
    "        \n",
    "       \n",
    "        plt.plot(auxPoint[0].x,auxPoint[0].y,'go')\n",
    "        plt.plot(closestPoint.x,closestPoint.y,'go')\n",
    "        plt.plot(auxPoint[1].x,auxPoint[1].y,'go')\n",
    "        \n",
    "        return p,auxPoint\n",
    "\n",
    "def preuba_1():\n",
    "        sumX = 0.0\n",
    "        sumY = 0.0\n",
    "        distance = 0.0\n",
    "        auxPoint = []\n",
    "        auxCenter = 0 \n",
    "        \n",
    "        for i in range(0,len(listOfPoints)):\n",
    "            \n",
    "            #furthests point from points        \n",
    "            for j in range(0,len(listOfPoints)):\n",
    "                actDistance = math.sqrt(pow(listOfPoints[j].x-listOfPoints[i].x,2)+pow(listOfPoints[j].y-listOfPoints[i].y,2))\n",
    "                if(actDistance > distance):\n",
    "                    distance = actDistance\n",
    "                    auxPoint = [listOfPoints[i],listOfPoints[j]]\n",
    "            \n",
    "            sumX += listOfPoints[i].x\n",
    "            sumY += listOfPoints[i].y\n",
    "        \n",
    "        p = Point(sumX/len(listOfPoints),sumY/len(listOfPoints))\n",
    "        \n",
    "        dist = math.sqrt(pow(p.x-listOfPoints[0].x,2)+pow(p.y-listOfPoints[0].y,2))\n",
    "        \n",
    "        pps=[]\n",
    "        count = 2\n",
    "        k = 0\n",
    "        for i in range(0,len(listOfPoints)-1):\n",
    "            if(count == 0):\n",
    "                break\n",
    "                \n",
    "            actDistance = math.sqrt(pow(listOfPoints[i].x-listOfPoints[k].x,2)+pow(listOfPoints[i].y-listOfPoints[k].y,2))\n",
    "            \n",
    "            if(actDistance >= dist):\n",
    "                pps.append(listOfPoints[i])\n",
    "                count-=1\n",
    "                k = i\n",
    "                \n",
    "        return listOfPoints[0],pps[0],pps[1]"
   ]
  },
  {
   "cell_type": "code",
   "execution_count": null,
   "metadata": {},
   "outputs": [],
   "source": []
  }
 ],
 "metadata": {
  "kernelspec": {
   "display_name": "Python 3",
   "language": "python",
   "name": "python3"
  },
  "language_info": {
   "codemirror_mode": {
    "name": "ipython",
    "version": 3
   },
   "file_extension": ".py",
   "mimetype": "text/x-python",
   "name": "python",
   "nbconvert_exporter": "python",
   "pygments_lexer": "ipython3",
   "version": "3.8.2"
  }
 },
 "nbformat": 4,
 "nbformat_minor": 4
}
