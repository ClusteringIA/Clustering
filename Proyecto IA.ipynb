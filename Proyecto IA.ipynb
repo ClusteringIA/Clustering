{
 "cells": [
  {
   "cell_type": "markdown",
   "metadata": {},
   "source": [
    "CLUSTERING CON INCERTIDUMBRE\n",
    "\n",
    "Primero, para poder ejecutar el código es necesario instalar los paquetes msotrados. Si no te deja, es necesario indicar en el comando de \"pip install\" el flag --User o -U"
   ]
  },
  {
   "cell_type": "code",
   "execution_count": 1,
   "metadata": {},
   "outputs": [],
   "source": [
    "#Packages to install\n",
    "\n",
    "#!pip install pandas\n",
    "#!pip install numpy\n",
    "#!pip install scipy\n",
    "#!pip install matplotlib\n",
    "#!pip install scikit-learn\n",
    "#!pip install ipywidgets"
   ]
  },
  {
   "cell_type": "markdown",
   "metadata": {},
   "source": [
    "A continuación los imports necesarios. De momento ipywidgtes no es necesario por lo que se puede comentar si da algún tipo de problema"
   ]
  },
  {
   "cell_type": "code",
   "execution_count": 2,
   "metadata": {},
   "outputs": [],
   "source": [
    "#Imports\n",
    "\n",
    "import math\n",
    "import pandas as pd\n",
    "import numpy as np\n",
    "import scipy as sp\n",
    "import random as rd\n",
    "import ipywidgets as widgets\n",
    "import matplotlib.pyplot as plt\n",
    "from sklearn import preprocessing\n",
    "\n",
    "#Interactive plot\n",
    "#%matplotlib notebook\n",
    "%matplotlib inline"
   ]
  },
  {
   "cell_type": "markdown",
   "metadata": {},
   "source": [
    "La primera clase creada es DataSet.\n",
    "\n",
    "Esta estructura de datos tiene como objetivo facilitar el cargar archivos haciendo uso de la librería pandas. \n",
    "\n",
    "En el constructor solo tienes que pasar la ruta de archivo deseada. De momento el código mostrado tiene rutas ed archivo locales y no relativas. Comprobar que las rutas están bien en caso de error.\n",
    "\n",
    "Para leer el archivo deseado, llamar al método Read el cual incluye como parámetro el carácter de separación, el cual siempre debe ser ','.\n",
    "\n",
    "La ventaja de esta estructura de datos es que podemos dibujar directamente los puntos del archivo csv."
   ]
  },
  {
   "cell_type": "code",
   "execution_count": 3,
   "metadata": {},
   "outputs": [],
   "source": [
    "class DataSet:\n",
    "    \n",
    "    data = []\n",
    "    list_points = []\n",
    "    drawPoint = []\n",
    "    \n",
    "    def __init__(self, file_path):\n",
    "        \n",
    "        data = []\n",
    "        list_points = []\n",
    "        drawPoint = []\n",
    "        \n",
    "        self.file_path = file_path\n",
    "        \n",
    "    #Derived\n",
    "    def Read(self, sep):\n",
    "        self.data = pd.read_csv(self.file_path, sep=sep,encoding='utf8')\n",
    "        \n",
    "        points = []\n",
    "        allX = []\n",
    "        allY =[]\n",
    "        \n",
    "        for index, row in self.data.iterrows():\n",
    "            p = Point(row['Coord X'],row['Coord Y'])\n",
    "            points.append(p)\n",
    "            allX.append(p.x)\n",
    "            allY.append(p.y)\n",
    "            \n",
    "        self.list_points = points\n",
    "        self.drawPoint.append(allX)\n",
    "        self.drawPoint.append(allY) \n",
    "        \n",
    "    def DrawData(self, drawType):       \n",
    "        plt.plot(self.drawPoint[0],self.drawPoint[1],drawType)"
   ]
  },
  {
   "cell_type": "markdown",
   "metadata": {},
   "source": [
    "La clase punto siemplemente se encarga de guardar dos valores, las componentes de una coordenada: posición x e y."
   ]
  },
  {
   "cell_type": "code",
   "execution_count": 4,
   "metadata": {},
   "outputs": [],
   "source": [
    "class Point:\n",
    "    def __init__(self, x, y):\n",
    "        self.x = x\n",
    "        self.y = y\n",
    "    \n",
    "    def getFurthestPoint(self,points):\n",
    "        \n",
    "        res = Point(0,0)\n",
    "        auxDis = 0.0\n",
    "        \n",
    "        for i in range(0,len(points)):\n",
    "            dis = self.CalculateDistanceToPoint(points[i])\n",
    "            \n",
    "            if(dis>auxDis):\n",
    "                auxDis = dis\n",
    "                res = points[i]\n",
    "            \n",
    "        return res\n",
    "    \n",
    "    def CalculateDistanceToCluster(self,c):\n",
    "        dis = self.CalculateDistanceToPoint(c.center)\n",
    "        return abs(dis - c.radius)\n",
    "    \n",
    "    def calcThresh(self,circles):\n",
    "        \n",
    "        distances = []\n",
    "        distances_n = []\n",
    "        \n",
    "        for i in range(0,len(circles)):\n",
    "            distances.append(self.CalculateDistanceToCluster(circles[i]))\n",
    "                \n",
    "        mod = 0.0\n",
    "        for i in range(0,len(distances)):\n",
    "            mod += distances[i]\n",
    "        \n",
    "        distances_n = np.array(distances)*(1/mod)\n",
    "\n",
    "        return distances_n\n",
    "    \n",
    "    def CalculatePerpendicular(self,p):\n",
    "        #Punto medio\n",
    "        xMean = (self.x + p.x)/2\n",
    "        yMean = (self.y + p.y)/2\n",
    "        \n",
    "        #Pendiente usando: y - y1 = m(x - x1) y  mp = -1/m\n",
    "        m = -1/((p.y - self.y)/(p.x - self.x))\n",
    "        \n",
    "        #Se devuelve [x,y,b]\n",
    "        perpendicular = ([-m,1,m*(-xMean)+yMean])\n",
    "        \n",
    "        return perpendicular\n",
    "    \n",
    "    def CalculateDistanceToPoint(self,p):\n",
    "        disX = p.x - self.x\n",
    "        disY = p.y - self.y\n",
    "        dis = math.sqrt(disX*disX + disY*disY)\n",
    "        \n",
    "        return dis"
   ]
  },
  {
   "cell_type": "markdown",
   "metadata": {},
   "source": [
    "La clase círculo como su nombre bien indica es una estructura de datos encargada de gestionarlo.\n",
    "\n",
    "Contiene la información del centro de la circunferencia, radio, numero de putnos que se compone y sus valores en coordenadas.\n",
    "\n",
    "En el constructor simplemente se pasa el centro, radio y número de puntos deseados. \n",
    "\n",
    "El método Update simplemente modifica los valores de centro y radio.\n",
    "\n",
    "El método Draw se limita a realizar un esbozo del círculo."
   ]
  },
  {
   "cell_type": "code",
   "execution_count": 5,
   "metadata": {},
   "outputs": [],
   "source": [
    "class Circle:\n",
    "    \n",
    "    center = 0\n",
    "    readius = 0\n",
    "    numOfPoints = 0\n",
    "    xVals = []\n",
    "    yVals = []\n",
    "    \n",
    "    def __init__(self, center, radius, numOfPoints):\n",
    "        self.center = center\n",
    "        self.radius = radius\n",
    "        self.numOfPoints = numOfPoints\n",
    "        self.__Calculate()\n",
    "      \n",
    "    #Derived\n",
    "    def __Calculate(self):\n",
    "        \n",
    "        self.xVals = []\n",
    "        self.yVals = []\n",
    "        \n",
    "        alpha = 2*math.pi/self.numOfPoints\n",
    "        i = 0     \n",
    "        while i < 2*math.pi:\n",
    "            self.xVals.append(self.center.x + self.radius*math.cos(i))\n",
    "            self.yVals.append(self.center.y + self.radius*math.sin(i))\n",
    "            i += alpha\n",
    "            \n",
    "    def Update(self, center, radius):\n",
    "        self.center = center\n",
    "        self.radius = radius\n",
    "        self.__Calculate()\n",
    "    \n",
    "    def Draw(self):\n",
    "        if(len(self.xVals) == 0 or len(self.yVals) == 0):\n",
    "            print('Error when drawing: Values are empty')\n",
    "        else:\n",
    "            xPrimeVals = self.xVals\n",
    "            xPrimeVals.append(xPrimeVals[0])\n",
    "            \n",
    "            yPrimeVals = self.yVals\n",
    "            yPrimeVals.append(yPrimeVals[0])\n",
    "            \n",
    "            plt.plot(xPrimeVals,yPrimeVals)\n",
    "            plt.plot(self.center.x,self.center.y,'bo')\n",
    "            \n",
    "    def CalculateFrom3Points(p1,p2,p3):\n",
    "        #Mediatrices\n",
    "        perp1 = p1.CalculatePerpendicular(p2)\n",
    "        perp2 = p1.CalculatePerpendicular(p3)\n",
    "        \n",
    "        #Circuncentro\n",
    "        A = [[perp1[0],perp1[1]],[perp2[0],perp2[1]]]\n",
    "        \n",
    "        if(np.linalg.det(A)==0):\n",
    "            return Point(0,0),-1\n",
    "        else:\n",
    "            B = [[perp1[2]],[perp2[2]]]\n",
    "            X = np.linalg.solve(A,B)\n",
    "            circumcenter = Point(X[0],X[1])\n",
    "\n",
    "            #Radio\n",
    "            radius = circumcenter.CalculateDistanceToPoint(p1)\n",
    "\n",
    "            return circumcenter, radius\n",
    "        \n",
    "    def CalculateBaricentro(listPoints):\n",
    "        \n",
    "        sumX = 0\n",
    "        sumY = 0\n",
    "        radius = 0\n",
    "        \n",
    "        for i in range(0,len(listPoints)):\n",
    "            sumX = sumX + listPoints[i].x\n",
    "            sumY = sumY + listPoints[i].y\n",
    "        \n",
    "        center = Point(sumX/len(listPoints),sumY/len(listPoints))\n",
    "        \n",
    "        for i in range(0,len(listPoints)):\n",
    "            radius = radius + center.CalculateDistanceToPoint(listPoints[i])\n",
    "        \n",
    "        radius = radius/len(listPoints)\n",
    "        \n",
    "        return center,radius"
   ]
  },
  {
   "cell_type": "markdown",
   "metadata": {},
   "source": [
    "La Clase canvas es la que usaremos principalmente para visualziar los datos.\n",
    "\n",
    "Recibe como parámetro una altura, anchura y datos.\n",
    "\n",
    "Lo más importante de esta clase es el transformar los Datos a Puntos del que se encarga el método privado \"__DataToPoints\".\n",
    "\n",
    "Luego tenemos más métodos:\n",
    "\n",
    "DrawData(): Simplemente dibuja los puntos que se han pasado en el constructor\n",
    "\n",
    "RemoveRandomPoints(percentage): Para eliminar puntos de los datos. Indica el porcentaje de los puntos que quieran ser borrados, de forma aleatoria.\n",
    "\n",
    "InsertNoise(devX,devY): Para añadir ruido a los datos. Se pasa como parámetro la desviación que queremos tanto en la X como en la Y\n",
    "\n",
    "Luego tenemos dos métodos para generar circunferencias alteatorias con el objetivo de generar Datos.\n",
    "\n",
    "DrawRandomCircles_r(numOfCircles, precision): Genera circufnerencias aletatoris con un radio alteatorio. Genera tantas circufnerencias como se indique en el parámetro de la función\n",
    "\n",
    "DrawRandomCircles(numOfCircles, minRadius, maxRadius, precision): Igual que \"DrawRandomCircles_r\" pero además indicando las longitudes del radio que deseemos."
   ]
  },
  {
   "cell_type": "code",
   "execution_count": 6,
   "metadata": {},
   "outputs": [],
   "source": [
    "class Canvas:\n",
    "    \n",
    "    width = 0\n",
    "    height = 0\n",
    "    data = []\n",
    "    points = []\n",
    "    \n",
    "    def __init__(self, width, height, data):\n",
    "        self.width = width\n",
    "        self.height = height\n",
    "        self.data = data\n",
    "        self.points = self.__DataToPoints()\n",
    "   \n",
    "    #Derived\n",
    "    def __DataToPoints(self):\n",
    "        res = []        \n",
    "        for i in range (0,len(self.data)):            \n",
    "            for j in range(0,self.data[i].numOfPoints):                \n",
    "                point=[]\n",
    "                point.append(self.data[i].xVals[j])\n",
    "                point.append(self.data[i].yVals[j])              \n",
    "                point.append(\"Circulo\"+str(i+1))\n",
    "                \n",
    "                res.append(point)\n",
    "        return res\n",
    "    \n",
    "    def DrawData(self):\n",
    "        for i in range (0,len(self.points)):\n",
    "            plt.plot(self.points[i][0],self.points[i][1],'ro')\n",
    "    \n",
    "    def RemoveRandomPoints(self,percentage):\n",
    "        \n",
    "        if len(self.points) != 0:\n",
    "            pointsToRemove = int(len(self.points)*percentage)\n",
    "            newArrayLen = len(self.points)\n",
    "\n",
    "            for i in range (0, pointsToRemove):\n",
    "                j = rd.randint(0,newArrayLen-1)\n",
    "                self.points.pop(j)\n",
    "                newArrayLen -= 1\n",
    "        else:\n",
    "            print(\"Data debe tener al menos un punto.\")\n",
    "    \n",
    "    def InsertNoise(self,devX,devY):\n",
    "        noiseX = np.random.normal(0,devX,len(self.points))\n",
    "        noiseY = np.random.normal(0,devY,len(self.points))\n",
    "        \n",
    "        for i in range(0,len(self.points)):\n",
    "            self.points[i][0] += noiseX[i]\n",
    "            self.points[i][1] += noiseY[i]\n",
    "            \n",
    "    def DrawRandomCircles_r(self,numOfCircles, precision):\n",
    "            \n",
    "        for i in range (0,numOfCircles):\n",
    "            \n",
    "            maxRad = 0\n",
    "            \n",
    "            if(self.width > self.height):\n",
    "                maxRad = self.height/2\n",
    "            else:\n",
    "                 maxRad = self.width/2\n",
    "            \n",
    "            radius = rd.uniform(1,maxRad)\n",
    "            centerX = rd.uniform(radius,self.width-radius)\n",
    "            centerY = rd.uniform(radius,self.height-radius)\n",
    "                       \n",
    "            c = Circle(Point(centerX,centerY),radius,precision)\n",
    "            self.data.append(c)\n",
    "            c.Draw()\n",
    "        \n",
    "        self.points = self.__DataToPoints()\n",
    "            \n",
    "    def DrawRandomCircles(self,numOfCircles, minRadius, maxRadius, precision):\n",
    "            \n",
    "        for i in range (0,numOfCircles):\n",
    "                       \n",
    "            radius = rd.uniform(minRadius,maxRadius)\n",
    "            centerX = rd.uniform(radius,self.width-radius)\n",
    "            centerY = rd.uniform(radius,self.height-radius)                       \n",
    "            c = Circle(Point(centerX,centerY),radius,precision)\n",
    "            \n",
    "            self.data.append(c)\n",
    "            c.Draw()\n",
    "            \n",
    "        self.points = self.__DataToPoints()"
   ]
  },
  {
   "cell_type": "code",
   "execution_count": 97,
   "metadata": {},
   "outputs": [],
   "source": [
    "class ClusteringSolver:\n",
    "    \n",
    "    circles = []\n",
    "    numCirculo = 0\n",
    "\n",
    "    def __init__(self,file_path,numCirculo):\n",
    "        \n",
    "        self.dataSet = DataSet(file_path)\n",
    "        self.dataSet.Read(',')        \n",
    "        self.circles = []\n",
    "        \n",
    "        self.numCirculo = numCirculo\n",
    "        \n",
    "        #for i in range (0,numCirculo):\n",
    "         #self.initRandomCluster()\n",
    "        \n",
    "        self.Ganamos(self.dataSet.list_points)\n",
    "    \n",
    "    def initRandomCluster(self):\n",
    "        \n",
    "        radius = rd.uniform(2,10)\n",
    "        centerX = rd.uniform(10,90)\n",
    "        centerY = rd.uniform(10,90)\n",
    "                       \n",
    "        c = Circle(Point(centerX,centerY),radius,20)\n",
    "            \n",
    "        self.circles.append(c)\n",
    "        \n",
    "    def initCluster(self):\n",
    "        index = round(len(self.dataSet.list_points)/self.numCirculo)\n",
    "        \n",
    "        i = 0\n",
    "\n",
    "        while i < index*self.numCirculo:\n",
    "\n",
    "            radius = rd.uniform(2,10)\n",
    "            \n",
    "            if(i == 0):\n",
    "                centerX = self.dataSet.list_points[i].x - radius\n",
    "                centerY = self.dataSet.list_points[i].y - radius\n",
    "                               \n",
    "            else:\n",
    "            \n",
    "                centerX = self.dataSet.list_points[i].x - radius\n",
    "                centerY = self.dataSet.list_points[i].y - radius\n",
    "                \n",
    "                c1 = Point(centerX,centerY)\n",
    "                \n",
    "                for j in range (0,len(self.circles)):\n",
    "                    \n",
    "                    c2 = Point(self.circles[j].center.x,self.circles[j].center.y)\n",
    "                    dis = c1.CalculateDistanceToPoint(c2)\n",
    "                    sol = dis - radius - self.circles[j].radius\n",
    "                    \n",
    "                    if(sol < 0):\n",
    "                        radius = abs(radius + sol)\n",
    "            \n",
    "            i = i + index\n",
    "            c = Circle(Point(centerX,centerY),radius,20)\n",
    "            self.circles.append(c)\n",
    "            \n",
    "    def Ganamos(self, listOfPoints):\n",
    "        \n",
    "        temp_c = []\n",
    "        tempRadio = 5\n",
    "        \n",
    "        i=0\n",
    "        j=0\n",
    "        while i < 100:\n",
    "            while j < 100:\n",
    "                c = Circle(Point(i,j),tempRadio,20)\n",
    "                j = j + tempRadio*2\n",
    "                temp_c.append(c)\n",
    "            i = i + tempRadio*2\n",
    "            j = 0\n",
    "        \n",
    "        for i in range(0,len(temp_c)):\n",
    "            for j in range(0,len(listOfPoints)):\n",
    "                if(temp_c[i].center.CalculateDistanceToPoint(listOfPoints[j]) < tempRadio):\n",
    "                    self.circles.append(temp_c[i])\n",
    "                    break                    \n",
    "                    \n",
    "    def CalculateThreshold(self):\n",
    "        \n",
    "        threshold = []\n",
    "        \n",
    "        for i in range(0,len(self.dataSet.list_points)):\n",
    "            p = self.dataSet.list_points[i]\n",
    "            threshold.append(p.calcThresh(self.circles))\n",
    "            \n",
    "        assignedCluster = []  \n",
    "        \n",
    "        for i in range(0,len(threshold)):\n",
    "            tuplePointCircle = []\n",
    "            index = 0\n",
    "            auxVal = 0\n",
    "            point = Point(0,0)\n",
    "            \n",
    "            for j in range(0,len(threshold[i])):\n",
    "                if(j==0):\n",
    "                    auxVal = threshold[i][j]\n",
    "                    point = self.dataSet.list_points[i]\n",
    "                    index = j\n",
    "                else:\n",
    "                    if(threshold[i][j] < auxVal):\n",
    "                        auxVal = threshold[i][j]\n",
    "                        point = self.dataSet.list_points[i]\n",
    "                        index = j\n",
    "                        \n",
    "            tuplePointCircle.append(point)\n",
    "            tuplePointCircle.append(index)\n",
    "            assignedCluster.append(tuplePointCircle)\n",
    "            \n",
    "            tuplePointCircle = []\n",
    "            index = 0\n",
    "            point = Point(0,0)\n",
    "            auxVal = 0\n",
    "    \n",
    "        return assignedCluster\n",
    "    \n",
    "    def CalculateBestFitPoints(self,listOfPoints):     \n",
    "        index = round(len(listOfPoints)/3)\n",
    "        return listOfPoints[0],listOfPoints[index],listOfPoints[index*2]\n",
    "    \n",
    "    def CalculateCircunference(self,listOfPoints):\n",
    "        \"\"\"\"\n",
    "        radius = -1\n",
    "        while radius == -1:\n",
    "            p1,p2,p3 = self.CalculateBestFitPoints(listOfPoints)\n",
    "            center, radius = Circle.CalculateFrom3Points(p1,p2,p3)  \n",
    "        \"\"\"\n",
    "        \n",
    "        center, radius = Circle.CalculateBaricentro(listOfPoints)  \n",
    "        \n",
    "        return center, radius\n",
    "    \n",
    "    def Learn(self,iterations):\n",
    "                \n",
    "        for i in range(0,iterations):\n",
    "            data = self.CalculateThreshold()\n",
    "            \n",
    "            data2Group = []\n",
    "            \n",
    "            for j in range(0,len(self.circles)):\n",
    "                \n",
    "                group = []\n",
    "                           \n",
    "                for k in range(0,len(data)):\n",
    "                    if(j == data[k][1]):\n",
    "                        p = Point(data[k][0].x,data[k][0].y)\n",
    "                        group.append(p)\n",
    "                           \n",
    "                data2Group.append(group)\n",
    "                \n",
    "            for j in range(0,len(data2Group)):\n",
    "                c,r = self.CalculateCircunference(data2Group[j])\n",
    "                self.circles[j].Update(c,r)\n",
    "\n",
    "        return data"
   ]
  },
  {
   "cell_type": "code",
   "execution_count": 127,
   "metadata": {},
   "outputs": [
    {
     "data": {
      "image/png": "[encoded data removed]",
      "text/plain": [
       "<Figure size 432x288 with 1 Axes>"
      ]
     },
     "metadata": {
      "needs_background": "light"
     },
     "output_type": "display_data"
    }
   ],
   "source": [
    "canvas2 = Canvas(100,100,[])\n",
    "canvas2.DrawRandomCircles(6,5,10,20)\n",
    "canvas2.RemoveRandomPoints(0.3)\n",
    "canvas2.InsertNoise(0.4,0.2)\n",
    "canvas2.DrawData()\n",
    "headers = ['Coord X','Coord Y', 'Circulo']\n",
    "df = pd.DataFrame(canvas2.points, columns= headers)"
   ]
  },
  {
   "cell_type": "code",
   "execution_count": 128,
   "metadata": {},
   "outputs": [],
   "source": [
    "file_path = r\"C:\\Users\\enri8\\Desktop\\Universidad\\IA\\Proyecto\\Clustering\\Datos\\datos_xport.csv\"\n",
    "df = df.sample(frac=1)\n",
    "df.to_csv(file_path, columns=headers, index=False, encoding=\"utf8\")"
   ]
  },
  {
   "cell_type": "code",
   "execution_count": 129,
   "metadata": {},
   "outputs": [],
   "source": [
    "setDatos = DataSet(file_path)\n",
    "setDatos.Read(',')"
   ]
  },
  {
   "cell_type": "code",
   "execution_count": 130,
   "metadata": {},
   "outputs": [
    {
     "data": {
      "image/png": "[encoded data removed]",
      "text/plain": [
       "<Figure size 432x288 with 1 Axes>"
      ]
     },
     "metadata": {
      "needs_background": "light"
     },
     "output_type": "display_data"
    }
   ],
   "source": [
    "setDatos.DrawData('ro')"
   ]
  },
  {
   "cell_type": "markdown",
   "metadata": {},
   "source": [
    "Definición del algoritmo segun el pseudocódigo"
   ]
  },
  {
   "cell_type": "code",
   "execution_count": 131,
   "metadata": {},
   "outputs": [
    {
     "data": {
      "image/png": "[encoded data removed]",
      "text/plain": [
       "<Figure size 432x288 with 1 Axes>"
      ]
     },
     "metadata": {
      "needs_background": "light"
     },
     "output_type": "display_data"
    }
   ],
   "source": [
    "cs = ClusteringSolver(file_path,3)\n",
    "canvas2.DrawData()\n",
    "for i in range(0,len(cs.circles)):\n",
    "    cs.circles[i].Draw()"
   ]
  },
  {
   "cell_type": "code",
   "execution_count": 90,
   "metadata": {},
   "outputs": [
    {
     "data": {
      "image/png": "[encoded data removed]",
      "text/plain": [
       "<Figure size 432x288 with 1 Axes>"
      ]
     },
     "metadata": {
      "needs_background": "light"
     },
     "output_type": "display_data"
    }
   ],
   "source": [
    "#print(cs.dataSet.data)\n",
    "thresh = cs.Learn(1000)\n",
    "\n",
    "for i in range (0,len(cs.circles)):\n",
    "    cs.circles[i].Draw()\n",
    "\n",
    "for i in range(0,len(thresh)):    \n",
    "    if(thresh[i][1] == 0):\n",
    "        plt.plot(thresh[i][0].x,thresh[i][0].y,'go')\n",
    "    elif(thresh[i][1] == 1):\n",
    "        plt.plot(thresh[i][0].x,thresh[i][0].y,'bo')\n",
    "    elif(thresh[i][1] == 2):\n",
    "        plt.plot(thresh[i][0].x,thresh[i][0].y,'ro')\n",
    "    elif(thresh[i][1] == 3):\n",
    "        plt.plot(thresh[i][0].x,thresh[i][0].y,'co')\n",
    "    elif(thresh[i][1] == 4):\n",
    "        plt.plot(thresh[i][0].x,thresh[i][0].y,'mo')\n",
    "    elif(thresh[i][1] == 5):\n",
    "        plt.plot(thresh[i][0].x,thresh[i][0].y,'ko')\n",
    "    else:\n",
    "        plt.plot(thresh[i][0].x,thresh[i][0].y,'yo')"
   ]
  },
  {
   "cell_type": "code",
   "execution_count": 66,
   "metadata": {},
   "outputs": [
    {
     "data": {
      "image/png": "[encoded data removed]",
      "text/plain": [
       "<Figure size 432x288 with 1 Axes>"
      ]
     },
     "metadata": {
      "needs_background": "light"
     },
     "output_type": "display_data"
    }
   ],
   "source": [
    "cs.dataSet.DrawData('ro')"
   ]
  },
  {
   "cell_type": "code",
   "execution_count": 47,
   "metadata": {},
   "outputs": [
    {
     "data": {
      "image/png": "[encoded data removed]",
      "text/plain": [
       "<Figure size 432x288 with 1 Axes>"
      ]
     },
     "metadata": {
      "needs_background": "light"
     },
     "output_type": "display_data"
    }
   ],
   "source": [
    "for i in range (0,len(cs.circles)):\n",
    "    cs.circles[i].Draw()"
   ]
  },
  {
   "cell_type": "code",
   "execution_count": 48,
   "metadata": {},
   "outputs": [
    {
     "name": "stdout",
     "output_type": "stream",
     "text": [
      "3\n"
     ]
    }
   ],
   "source": [
    "print(len(cs.circles))"
   ]
  },
  {
   "cell_type": "code",
   "execution_count": 49,
   "metadata": {},
   "outputs": [
    {
     "data": {
      "image/png": "[encoded data removed]",
      "text/plain": [
       "<Figure size 432x288 with 1 Axes>"
      ]
     },
     "metadata": {
      "needs_background": "light"
     },
     "output_type": "display_data"
    }
   ],
   "source": [
    "thresh = cs.CalculateThreshold()\n",
    "\n",
    "for i in range (0,len(cs.circles)):\n",
    "    cs.circles[i].Draw()\n",
    "\n",
    "for i in range(0,len(thresh)):    \n",
    "    if(thresh[i][1] == 0):\n",
    "        plt.plot(thresh[i][0].x,thresh[i][0].y,'go')\n",
    "    elif(thresh[i][1] == 1):\n",
    "        plt.plot(thresh[i][0].x,thresh[i][0].y,'bo')\n",
    "    elif(thresh[i][1] == 2):\n",
    "        plt.plot(thresh[i][0].x,thresh[i][0].y,'ro')\n",
    "    elif(thresh[i][1] == 3):\n",
    "        plt.plot(thresh[i][0].x,thresh[i][0].y,'co')\n",
    "    elif(thresh[i][1] == 4):\n",
    "        plt.plot(thresh[i][0].x,thresh[i][0].y,'mo')\n",
    "    elif(thresh[i][1] == 5):\n",
    "        plt.plot(thresh[i][0].x,thresh[i][0].y,'ko')\n",
    "    else:\n",
    "        plt.plot(thresh[i][0].x,thresh[i][0].y,'yo')"
   ]
  },
  {
   "cell_type": "code",
   "execution_count": 24,
   "metadata": {
    "scrolled": false
   },
   "outputs": [
    {
     "name": "stdout",
     "output_type": "stream",
     "text": [
      "0\n",
      "12\n",
      "24\n"
     ]
    },
    {
     "data": {
      "image/png": "[encoded data removed]",
      "text/plain": [
       "<Figure size 432x288 with 1 Axes>"
      ]
     },
     "metadata": {
      "needs_background": "light"
     },
     "output_type": "display_data"
    }
   ],
   "source": [
    "circ = Circle(Point(5,5),5,50)\n",
    "\n",
    "can = Canvas(100,100,[circ])\n",
    "can.RemoveRandomPoints(0.3)\n",
    "can.InsertNoise(0.2,0.2)\n",
    "can.DrawData()\n",
    "\n",
    "headers = ['Coord X','Coord Y', 'Circulo']\n",
    "\n",
    "datfr = pd.DataFrame(can.points, columns= headers)\n",
    "file_path_c = r\"C:\\Users\\enri8\\Desktop\\Universidad\\IA\\Proyecto\\Clustering\\Datos\\datos_circulo.csv\"\n",
    "datfr.to_csv(file_path_c, columns=headers, index=False, encoding=\"utf8\")\n",
    "\n",
    "cs2 = ClusteringSolver(file_path_c,3)\n",
    "points = cs2.dataSet.list_points\n",
    "\n"
   ]
  },
  {
   "cell_type": "code",
   "execution_count": 20,
   "metadata": {},
   "outputs": [
    {
     "name": "stdout",
     "output_type": "stream",
     "text": [
      "0\n",
      "      Coord X   Coord Y   Circulo\n",
      "0   10.132722  4.887046  Circulo1\n",
      "1    8.184996  9.077012  Circulo1\n",
      "2    4.992634  9.864654  Circulo1\n",
      "3    3.359555  9.852829  Circulo1\n",
      "4    1.838146  9.059917  Circulo1\n",
      "5    0.504732  7.012069  Circulo1\n",
      "6    0.252500  5.159613  Circulo1\n",
      "7    0.923217  2.016972  Circulo1\n",
      "8    2.143954  0.908452  Circulo1\n",
      "9    2.948288  0.540794  Circulo1\n",
      "10   5.141014  0.661551  Circulo1\n",
      "11   9.748638  3.481232  Circulo1\n"
     ]
    },
    {
     "data": {
      "image/png": "[encoded data removed]",
      "text/plain": [
       "<Figure size 432x288 with 1 Axes>"
      ]
     },
     "metadata": {
      "needs_background": "light"
     },
     "output_type": "display_data"
    }
   ],
   "source": [
    "#Calcular circunferencia a partir de un conjunto de puntos\n",
    "\n",
    "#Creación de puntos a partir de circunferencia\n",
    "circ = Circle(Point(5,5),5,20)\n",
    "can = Canvas(100,100,[circ])\n",
    "can.RemoveRandomPoints(0.4)\n",
    "can.InsertNoise(0.2,0.2)\n",
    "can.DrawData()\n",
    "\n",
    "#Creación de csv con los puntos \n",
    "headers = ['Coord X','Coord Y', 'Circulo']\n",
    "datfr = pd.DataFrame(can.points, columns= headers)\n",
    "file_path_c = r\"C:\\Users\\enri8\\Desktop\\Universidad\\IA\\Proyecto\\Clustering\\Datos\\datos_circulo.csv\"\n",
    "datfr.to_csv(file_path_c, columns=headers, index=False, encoding=\"utf8\")\n",
    "\n",
    "#Puntos del problema \n",
    "cs2 = ClusteringSolver(r\"C:\\Users\\enri8\\Desktop\\Universidad\\IA\\Proyecto\\Clustering\\Datos\\datos_circulo.csv\",1)\n",
    "points = cs2.dataSet.list_points\n",
    "\n",
    "#Cálculo circunferencia\n",
    "c,r = cs2.CalculateCircunference(points)\n",
    "circ = Circle(c,r,30)\n",
    "\n",
    "print(cs2.dataSet.data)\n",
    "\n",
    "circ.Draw()"
   ]
  },
  {
   "cell_type": "code",
   "execution_count": null,
   "metadata": {},
   "outputs": [],
   "source": []
  },
  {
   "cell_type": "code",
   "execution_count": 21,
   "metadata": {},
   "outputs": [],
   "source": [
    "def CalculateBestFitPoints(self,listOfPoints):     \n",
    "        \n",
    "        sumX = 0.0\n",
    "        sumY = 0.0\n",
    "        distance = 0.0\n",
    "        auxPoint = []\n",
    "        auxCenter = 0 \n",
    "        \n",
    "        for i in range(0,len(listOfPoints)):\n",
    "            \n",
    "            #furthests point from points        \n",
    "            for j in range(0,len(listOfPoints)):\n",
    "                actDistance = math.sqrt(pow(listOfPoints[j].x-listOfPoints[i].x,2)+pow(listOfPoints[j].y-listOfPoints[i].y,2))\n",
    "                if(actDistance > distance):\n",
    "                    distance = actDistance\n",
    "                    auxPoint = [listOfPoints[i],listOfPoints[j]]\n",
    "            \n",
    "            sumX += listOfPoints[i].x\n",
    "            sumY += listOfPoints[i].y\n",
    "        \n",
    "        p = Point(sumX/len(listOfPoints),sumY/len(listOfPoints))\n",
    "        \n",
    "        vecL = Point((auxPoint[0].x+auxPoint[1].x)/2,(auxPoint[0].y+auxPoint[1].y)/2)\n",
    "    \n",
    "        newVec = Point(p.x-vecL.x,p.y - vecL.y)\n",
    "        rect = Point(newVec.y, -newVec.x)\n",
    "        c = -(rect.x * p.x + rect.y * p.y)\n",
    "        \n",
    "        auxVal = 10\n",
    "        closestPoint = 0\n",
    "        for j in range(0,len(listOfPoints)):\n",
    "            \n",
    "            val = abs(rect.x * listOfPoints[j].x + rect.y * listOfPoints[j].y + c)\n",
    "            if(j == 0):\n",
    "                auxVal = val\n",
    "            else:\n",
    "                if(val < auxVal):\n",
    "                    auxVal = val\n",
    "                    closestPoint = listOfPoints[j]\n",
    "        \n",
    "       \n",
    "        plt.plot(auxPoint[0].x,auxPoint[0].y,'go')\n",
    "        plt.plot(closestPoint.x,closestPoint.y,'go')\n",
    "        plt.plot(auxPoint[1].x,auxPoint[1].y,'go')\n",
    "        \n",
    "        return p,auxPoint\n",
    "\n",
    "def preuba_1():\n",
    "        sumX = 0.0\n",
    "        sumY = 0.0\n",
    "        distance = 0.0\n",
    "        auxPoint = []\n",
    "        auxCenter = 0 \n",
    "        \n",
    "        for i in range(0,len(listOfPoints)):\n",
    "            \n",
    "            #furthests point from points        \n",
    "            for j in range(0,len(listOfPoints)):\n",
    "                actDistance = math.sqrt(pow(listOfPoints[j].x-listOfPoints[i].x,2)+pow(listOfPoints[j].y-listOfPoints[i].y,2))\n",
    "                if(actDistance > distance):\n",
    "                    distance = actDistance\n",
    "                    auxPoint = [listOfPoints[i],listOfPoints[j]]\n",
    "            \n",
    "            sumX += listOfPoints[i].x\n",
    "            sumY += listOfPoints[i].y\n",
    "        \n",
    "        p = Point(sumX/len(listOfPoints),sumY/len(listOfPoints))\n",
    "        \n",
    "        dist = math.sqrt(pow(p.x-listOfPoints[0].x,2)+pow(p.y-listOfPoints[0].y,2))\n",
    "        \n",
    "        pps=[]\n",
    "        count = 2\n",
    "        k = 0\n",
    "        for i in range(0,len(listOfPoints)-1):\n",
    "            if(count == 0):\n",
    "                break\n",
    "                \n",
    "            actDistance = math.sqrt(pow(listOfPoints[i].x-listOfPoints[k].x,2)+pow(listOfPoints[i].y-listOfPoints[k].y,2))\n",
    "            \n",
    "            if(actDistance >= dist):\n",
    "                pps.append(listOfPoints[i])\n",
    "                count-=1\n",
    "                k = i\n",
    "                \n",
    "        return listOfPoints[0],pps[0],pps[1]\n",
    "    \n",
    "def elMierdasEste(self,listOfPoints):     \n",
    "        index = round(len(listOfPoints)/3)\n",
    "        return listOfPoints[0],listOfPoints[index],listOfPoints[index*2]"
   ]
  },
  {
   "cell_type": "code",
   "execution_count": null,
   "metadata": {},
   "outputs": [],
   "source": []
  }
 ],
 "metadata": {
  "kernelspec": {
   "display_name": "Python 3",
   "language": "python",
   "name": "python3"
  },
  "language_info": {
   "codemirror_mode": {
    "name": "ipython",
    "version": 3
   },
   "file_extension": ".py",
   "mimetype": "text/x-python",
   "name": "python",
   "nbconvert_exporter": "python",
   "pygments_lexer": "ipython3",
   "version": "3.8.2"
  }
 },
 "nbformat": 4,
 "nbformat_minor": 4
}
