{
 "cells": [
  {
   "cell_type": "markdown",
   "metadata": {},
   "source": [
    "CLUSTERING CON INCERTIDUMBRE\n",
    "\n",
    "Primero, para poder ejecutar el código es necesario instalar los paquetes msotrados. Si no te deja, es necesario indicar en el comando de \"pip install\" el flag --User o -U"
   ]
  },
  {
   "cell_type": "code",
   "execution_count": 11,
   "metadata": {},
   "outputs": [],
   "source": [
    "#Packages to install\n",
    "\n",
    "#!pip install pandas\n",
    "#!pip install numpy\n",
    "#!pip install scipy\n",
    "#!pip install matplotlib\n",
    "#!pip install scikit-learn\n",
    "#!pip install ipywidgets"
   ]
  },
  {
   "cell_type": "markdown",
   "metadata": {},
   "source": [
    "A continuación los imports necesarios. De momento ipywidgtes no es necesario por lo que se puede comentar si da algún tipo de problema"
   ]
  },
  {
   "cell_type": "code",
   "execution_count": 12,
   "metadata": {},
   "outputs": [],
   "source": [
    "#Imports\n",
    "\n",
    "import math\n",
    "import pandas as pd\n",
    "import numpy as np\n",
    "import scipy as sp\n",
    "import random as rd\n",
    "import ipywidgets as widgets\n",
    "import matplotlib.pyplot as plt\n",
    "from sklearn import preprocessing\n",
    "\n",
    "#Interactive plot\n",
    "#%matplotlib notebook\n",
    "#%matplotlib inline"
   ]
  },
  {
   "cell_type": "markdown",
   "metadata": {},
   "source": [
    "La primera clase creada es DataSet.\n",
    "\n",
    "Esta estructura de datos tiene como objetivo facilitar el cargar archivos haciendo uso de la librería pandas. \n",
    "\n",
    "En el constructor solo tienes que pasar la ruta de archivo deseada. De momento el código mostrado tiene rutas ed archivo locales y no relativas. Comprobar que las rutas están bien en caso de error.\n",
    "\n",
    "Para leer el archivo deseado, llamar al método Read el cual incluye como parámetro el carácter de separación, el cual siempre debe ser ','.\n",
    "\n",
    "La ventaja de esta estructura de datos es que podemos dibujar directamente los puntos del archivo csv."
   ]
  },
  {
   "cell_type": "code",
   "execution_count": 13,
   "metadata": {},
   "outputs": [],
   "source": [
    "class DataSet:\n",
    "    \n",
    "    data = []\n",
    "    list_points = []\n",
    "    drawPoint = []\n",
    "    \n",
    "    def __init__(self, file_path):\n",
    "        self.file_path = file_path\n",
    "        \n",
    "    #Derived\n",
    "    def Read(self, sep):\n",
    "        self.data = pd.read_csv(self.file_path, sep=sep,encoding='utf8')\n",
    "        \n",
    "        points = []\n",
    "        allX = []\n",
    "        allY =[]\n",
    "        \n",
    "        for index, row in self.data.iterrows():\n",
    "            p = Point(row['Coord X'],row['Coord Y'])\n",
    "            points.append(p)\n",
    "            allX.append(p.x)\n",
    "            allY.append(p.y)\n",
    "            \n",
    "        self.list_points = points\n",
    "        self.drawPoint.append(allX)\n",
    "        self.drawPoint.append(allY) \n",
    "        \n",
    "    def DrawData(self, drawType):       \n",
    "        plt.plot(self.drawPoint[0],self.drawPoint[1],drawType)"
   ]
  },
  {
   "cell_type": "markdown",
   "metadata": {},
   "source": [
    "La clase punto siemplemente se encarga de guardar dos valores, las componentes de una coordenada: posición x e y."
   ]
  },
  {
   "cell_type": "code",
   "execution_count": 14,
   "metadata": {},
   "outputs": [],
   "source": [
    "class Point:\n",
    "    def __init__(self, x, y):\n",
    "        self.x = x\n",
    "        self.y = y\n",
    "    \n",
    "    def getFurthestPoint(self,points):\n",
    "        \n",
    "        res = Point(0,0)\n",
    "        auxDis = 0.0\n",
    "        \n",
    "        for i in range(0,len(points)):\n",
    "            dis = self.CalculateDistanceToPoint(points[i])\n",
    "            \n",
    "            if(dis>auxDis):\n",
    "                auxDis = dis\n",
    "                res = points[i]\n",
    "            \n",
    "        return res\n",
    "    \n",
    "    def CalculateDistanceToCluster(self,c):\n",
    "        dis = self.CalculateDistanceToPoint(c)\n",
    "        return abs(dis - c.radius)\n",
    "    \n",
    "    def CalculateThreshold(self,circles):\n",
    "        \n",
    "        distances = []\n",
    "        distances_n = []\n",
    "        \n",
    "        for i in range(0,len(circles)):\n",
    "            distances.append(self.CalculateDistanceToCluster(circles[i]))\n",
    "        \n",
    "        print()\n",
    "        \n",
    "        mod = 0.0\n",
    "        for i in range(0,len(distances)):\n",
    "            mod += distances[i]\n",
    "        \n",
    "        distances_n = np.array(distances)*(1/mod)\n",
    "\n",
    "        return distances_n\n",
    "    \n",
    "    def CalculatePerpendicular(self,p):\n",
    "        #Punto medio\n",
    "        xMean = (self.x + p.x)/2\n",
    "        yMean = (self.y + p.y)/2\n",
    "        \n",
    "        #Pendiente usando: y - y1 = m(x - x1) y  mp = -1/m\n",
    "        m = -1/((p.y - self.y)/(p.x - self.x))\n",
    "        \n",
    "        #Se devuelve [x,y,b]\n",
    "        perpendicular = ([-m,1,m*(-xMean)+yMean])\n",
    "        \n",
    "        return perpendicular\n",
    "    \n",
    "    def CalculateDistanceToPoint(self,p):\n",
    "        disX = p.x - self.x\n",
    "        disY = p.y - self.y\n",
    "        dis = math.sqrt(disX*disX + disY*disY)\n",
    "        \n",
    "        return dis\n",
    "    "
   ]
  },
  {
   "cell_type": "markdown",
   "metadata": {},
   "source": [
    "La clase círculo como su nombre bien indica es una estructura de datos encargada de gestionarlo.\n",
    "\n",
    "Contiene la información del centro de la circunferencia, radio, numero de putnos que se compone y sus valores en coordenadas.\n",
    "\n",
    "En el constructor simplemente se pasa el centro, radio y número de puntos deseados. \n",
    "\n",
    "El método Update simplemente modifica los valores de centro y radio.\n",
    "\n",
    "El método Draw se limita a realizar un esbozo del círculo."
   ]
  },
  {
   "cell_type": "code",
   "execution_count": 15,
   "metadata": {},
   "outputs": [],
   "source": [
    "class Circle:\n",
    "    \n",
    "    center = 0\n",
    "    readius = 0\n",
    "    numOfPoints = 0\n",
    "    xVals = []\n",
    "    yVals = []\n",
    "    \n",
    "    def __init__(self, center, radius, numOfPoints):\n",
    "        self.center = center\n",
    "        self.radius = radius\n",
    "        self.numOfPoints = numOfPoints\n",
    "        self.__Calculate()\n",
    "      \n",
    "    #Derived\n",
    "    def __Calculate(self):\n",
    "        \n",
    "        self.xVals = []\n",
    "        self.yVals = []\n",
    "        \n",
    "        alpha = 2*math.pi/self.numOfPoints\n",
    "        i = 0     \n",
    "        while i < 2*math.pi:\n",
    "            self.xVals.append(self.center.x + self.radius*math.cos(i))\n",
    "            self.yVals.append(self.center.y + self.radius*math.sin(i))\n",
    "            i += alpha\n",
    "            \n",
    "    def Update(self, center, radius):\n",
    "        self.center = center\n",
    "        self.radius = radius\n",
    "        self.__Calculate()\n",
    "    \n",
    "    def Draw(self):\n",
    "        if(len(self.xVals) == 0 or len(self.yVals) == 0):\n",
    "            print('Error when drawing: Values are empty')\n",
    "        else:\n",
    "            xPrimeVals = self.xVals\n",
    "            xPrimeVals.append(xPrimeVals[0])\n",
    "            \n",
    "            yPrimeVals = self.yVals\n",
    "            yPrimeVals.append(yPrimeVals[0])\n",
    "            \n",
    "            plt.plot(xPrimeVals,yPrimeVals)\n",
    "            plt.plot(self.center.x,self.center.y,'bo')\n",
    "            \n",
    "    def CalculateFrom3Points(p1,p2,p3):\n",
    "        #Mediatrices\n",
    "        perp1 = p1.CalculatePerpendicular(p2)\n",
    "        perp2 = p1.CalculatePerpendicular(p3)\n",
    "        \n",
    "        #Circuncentro\n",
    "        A = [[perp1[0],perp1[1]],[perp2[0],perp2[1]]]\n",
    "        \n",
    "        if(np.linalg.det(A)==0):\n",
    "            return Point(0,0),-1\n",
    "        else:\n",
    "            B = [[perp1[2]],[perp2[2]]]\n",
    "            X = np.linalg.solve(A,B)\n",
    "            circumcenter = Point(X[0],X[1])\n",
    "\n",
    "            #Radio\n",
    "            radius = circumcenter.CalculateDistanceToPoint(p1)\n",
    "\n",
    "            return circumcenter, radius"
   ]
  },
  {
   "cell_type": "markdown",
   "metadata": {},
   "source": [
    "La Clase canvas es la que usaremos principalmente para visualziar los datos.\n",
    "\n",
    "Recibe como parámetro una altura, anchura y datos.\n",
    "\n",
    "Lo más importante de esta clase es el transformar los Datos a Puntos del que se encarga el método privado \"__DataToPoints\".\n",
    "\n",
    "Luego tenemos más métodos:\n",
    "\n",
    "DrawData(): Simplemente dibuja los puntos que se han pasado en el constructor\n",
    "\n",
    "RemoveRandomPoints(percentage): Para eliminar puntos de los datos. Indica el porcentaje de los puntos que quieran ser borrados, de forma aleatoria.\n",
    "\n",
    "InsertNoise(devX,devY): Para añadir ruido a los datos. Se pasa como parámetro la desviación que queremos tanto en la X como en la Y\n",
    "\n",
    "Luego tenemos dos métodos para generar circunferencias alteatorias con el objetivo de generar Datos.\n",
    "\n",
    "DrawRandomCircles_r(numOfCircles, precision): Genera circufnerencias aletatoris con un radio alteatorio. Genera tantas circufnerencias como se indique en el parámetro de la función\n",
    "\n",
    "DrawRandomCircles(numOfCircles, minRadius, maxRadius, precision): Igual que \"DrawRandomCircles_r\" pero además indicando las longitudes del radio que deseemos."
   ]
  },
  {
   "cell_type": "code",
   "execution_count": 16,
   "metadata": {},
   "outputs": [],
   "source": [
    "class Canvas:\n",
    "    \n",
    "    width = 0\n",
    "    height = 0\n",
    "    data = []\n",
    "    points = []\n",
    "    \n",
    "    def __init__(self, width, height, data):\n",
    "        self.width = width\n",
    "        self.height = height\n",
    "        self.data = data\n",
    "        self.points = self.__DataToPoints()\n",
    "   \n",
    "    #Derived\n",
    "    def __DataToPoints(self):\n",
    "        res = []        \n",
    "        for i in range (0,len(self.data)):            \n",
    "            for j in range(0,self.data[i].numOfPoints):                \n",
    "                point=[]\n",
    "                point.append(self.data[i].xVals[j])\n",
    "                point.append(self.data[i].yVals[j])              \n",
    "                point.append(\"Circulo\"+str(i+1))\n",
    "                \n",
    "                res.append(point)\n",
    "        return res\n",
    "    \n",
    "    def DrawData(self):\n",
    "        for i in range (0,len(self.points)):\n",
    "            plt.plot(self.points[i][0],self.points[i][1],'ro')\n",
    "    \n",
    "    def RemoveRandomPoints(self,percentage):\n",
    "        \n",
    "        if len(self.points) != 0:\n",
    "            pointsToRemove = int(len(self.points)*percentage)\n",
    "            newArrayLen = len(self.points)\n",
    "\n",
    "            for i in range (0, pointsToRemove):\n",
    "                j = rd.randint(0,newArrayLen-1)\n",
    "                self.points.pop(j)\n",
    "                newArrayLen -= 1\n",
    "        else:\n",
    "            print(\"Data debe tener al menos un punto.\")\n",
    "    \n",
    "    def InsertNoise(self,devX,devY):\n",
    "        noiseX = np.random.normal(0,devX,len(self.points))\n",
    "        noiseY = np.random.normal(0,devY,len(self.points))\n",
    "        \n",
    "        for i in range(0,len(self.points)):\n",
    "            self.points[i][0] += noiseX[i]\n",
    "            self.points[i][1] += noiseY[i]\n",
    "            \n",
    "    def DrawRandomCircles_r(self,numOfCircles, precision):\n",
    "            \n",
    "        for i in range (0,numOfCircles):\n",
    "            \n",
    "            maxRad = 0\n",
    "            \n",
    "            if(self.width > self.height):\n",
    "                maxRad = self.height/2\n",
    "            else:\n",
    "                 maxRad = self.width/2\n",
    "            \n",
    "            radius = rd.uniform(1,maxRad)\n",
    "            centerX = rd.uniform(radius,self.width-radius)\n",
    "            centerY = rd.uniform(radius,self.height-radius)\n",
    "                       \n",
    "            c = Circle(Point(centerX,centerY),radius,precision)\n",
    "            self.data.append(c)\n",
    "            c.Draw()\n",
    "        \n",
    "        self.points = self.__DataToPoints()\n",
    "            \n",
    "    def DrawRandomCircles(self,numOfCircles, minRadius, maxRadius, precision):\n",
    "            \n",
    "        for i in range (0,numOfCircles):\n",
    "                       \n",
    "            radius = rd.uniform(minRadius,maxRadius)\n",
    "            centerX = rd.uniform(radius,self.width-radius)\n",
    "            centerY = rd.uniform(radius,self.height-radius)                       \n",
    "            c = Circle(Point(centerX,centerY),radius,precision)\n",
    "            \n",
    "            self.data.append(c)\n",
    "            c.Draw()\n",
    "            \n",
    "        self.points = self.__DataToPoints()"
   ]
  },
  {
   "cell_type": "code",
   "execution_count": 6,
   "metadata": {},
   "outputs": [
    {
     "data": {
      "image/png": "[encoded data removed]",
      "text/plain": [
       "<Figure size 432x288 with 1 Axes>"
      ]
     },
     "metadata": {
      "needs_background": "light"
     },
     "output_type": "display_data"
    }
   ],
   "source": [
    "canvas2 = Canvas(100,100,[])\n",
    "canvas2.DrawRandomCircles(8,5,10,20)\n",
    "canvas2.RemoveRandomPoints(0.3)\n",
    "canvas2.InsertNoise(1,0.2)\n",
    "canvas2.DrawData()\n",
    "headers = ['Coord X','Coord Y', 'Circulo']\n",
    "df = pd.DataFrame(canvas2.points, columns= headers)"
   ]
  },
  {
   "cell_type": "code",
   "execution_count": 8,
   "metadata": {},
   "outputs": [
    {
     "ename": "NameError",
     "evalue": "name 'df' is not defined",
     "output_type": "error",
     "traceback": [
      "\u001b[1;31m---------------------------------------------------------------------------\u001b[0m",
      "\u001b[1;31mNameError\u001b[0m                                 Traceback (most recent call last)",
      "\u001b[1;32m<ipython-input-8-7f918df09aad>\u001b[0m in \u001b[0;36m<module>\u001b[1;34m\u001b[0m\n\u001b[0;32m      1\u001b[0m \u001b[0mfile_path\u001b[0m \u001b[1;33m=\u001b[0m \u001b[1;34mr\"C:\\Users\\enri8\\Desktop\\Universidad\\IA\\Proyecto\\Clustering\\Datos\\datos_xport.csv\"\u001b[0m\u001b[1;33m\u001b[0m\u001b[1;33m\u001b[0m\u001b[0m\n\u001b[1;32m----> 2\u001b[1;33m \u001b[0mdf\u001b[0m\u001b[1;33m.\u001b[0m\u001b[0mto_csv\u001b[0m\u001b[1;33m(\u001b[0m\u001b[0mfile_path\u001b[0m\u001b[1;33m,\u001b[0m \u001b[0mcolumns\u001b[0m\u001b[1;33m=\u001b[0m\u001b[0mheaders\u001b[0m\u001b[1;33m,\u001b[0m \u001b[0mindex\u001b[0m\u001b[1;33m=\u001b[0m\u001b[1;32mFalse\u001b[0m\u001b[1;33m,\u001b[0m \u001b[0mencoding\u001b[0m\u001b[1;33m=\u001b[0m\u001b[1;34m\"utf8\"\u001b[0m\u001b[1;33m)\u001b[0m\u001b[1;33m\u001b[0m\u001b[1;33m\u001b[0m\u001b[0m\n\u001b[0m",
      "\u001b[1;31mNameError\u001b[0m: name 'df' is not defined"
     ]
    }
   ],
   "source": [
    "file_path = r\"C:\\Users\\enri8\\Desktop\\Universidad\\IA\\Proyecto\\Clustering\\Datos\\datos_xport.csv\"\n",
    "df.to_csv(file_path, columns=headers, index=False, encoding=\"utf8\")"
   ]
  },
  {
   "cell_type": "code",
   "execution_count": 10,
   "metadata": {},
   "outputs": [
    {
     "ename": "NameError",
     "evalue": "name 'Point' is not defined",
     "output_type": "error",
     "traceback": [
      "\u001b[1;31m---------------------------------------------------------------------------\u001b[0m",
      "\u001b[1;31mNameError\u001b[0m                                 Traceback (most recent call last)",
      "\u001b[1;32m<ipython-input-10-da6b895e8d57>\u001b[0m in \u001b[0;36m<module>\u001b[1;34m\u001b[0m\n\u001b[0;32m      1\u001b[0m \u001b[0msetDatos\u001b[0m \u001b[1;33m=\u001b[0m \u001b[0mDataSet\u001b[0m\u001b[1;33m(\u001b[0m\u001b[0mfile_path\u001b[0m\u001b[1;33m)\u001b[0m\u001b[1;33m\u001b[0m\u001b[1;33m\u001b[0m\u001b[0m\n\u001b[1;32m----> 2\u001b[1;33m \u001b[0msetDatos\u001b[0m\u001b[1;33m.\u001b[0m\u001b[0mRead\u001b[0m\u001b[1;33m(\u001b[0m\u001b[1;34m','\u001b[0m\u001b[1;33m)\u001b[0m\u001b[1;33m\u001b[0m\u001b[1;33m\u001b[0m\u001b[0m\n\u001b[0m",
      "\u001b[1;32m<ipython-input-1-2605e2cde29c>\u001b[0m in \u001b[0;36mRead\u001b[1;34m(self, sep)\u001b[0m\n\u001b[0;32m     16\u001b[0m \u001b[1;33m\u001b[0m\u001b[0m\n\u001b[0;32m     17\u001b[0m         \u001b[1;32mfor\u001b[0m \u001b[0mindex\u001b[0m\u001b[1;33m,\u001b[0m \u001b[0mrow\u001b[0m \u001b[1;32min\u001b[0m \u001b[0mself\u001b[0m\u001b[1;33m.\u001b[0m\u001b[0mdata\u001b[0m\u001b[1;33m.\u001b[0m\u001b[0miterrows\u001b[0m\u001b[1;33m(\u001b[0m\u001b[1;33m)\u001b[0m\u001b[1;33m:\u001b[0m\u001b[1;33m\u001b[0m\u001b[1;33m\u001b[0m\u001b[0m\n\u001b[1;32m---> 18\u001b[1;33m             \u001b[0mp\u001b[0m \u001b[1;33m=\u001b[0m \u001b[0mPoint\u001b[0m\u001b[1;33m(\u001b[0m\u001b[0mrow\u001b[0m\u001b[1;33m[\u001b[0m\u001b[1;34m'Coord X'\u001b[0m\u001b[1;33m]\u001b[0m\u001b[1;33m,\u001b[0m\u001b[0mrow\u001b[0m\u001b[1;33m[\u001b[0m\u001b[1;34m'Coord Y'\u001b[0m\u001b[1;33m]\u001b[0m\u001b[1;33m)\u001b[0m\u001b[1;33m\u001b[0m\u001b[1;33m\u001b[0m\u001b[0m\n\u001b[0m\u001b[0;32m     19\u001b[0m             \u001b[0mself\u001b[0m\u001b[1;33m.\u001b[0m\u001b[0mlist_points\u001b[0m\u001b[1;33m.\u001b[0m\u001b[0mappend\u001b[0m\u001b[1;33m(\u001b[0m\u001b[0mp\u001b[0m\u001b[1;33m)\u001b[0m\u001b[1;33m\u001b[0m\u001b[1;33m\u001b[0m\u001b[0m\n\u001b[0;32m     20\u001b[0m             \u001b[0mallX\u001b[0m\u001b[1;33m.\u001b[0m\u001b[0mappend\u001b[0m\u001b[1;33m(\u001b[0m\u001b[0mp\u001b[0m\u001b[1;33m.\u001b[0m\u001b[0mx\u001b[0m\u001b[1;33m)\u001b[0m\u001b[1;33m\u001b[0m\u001b[1;33m\u001b[0m\u001b[0m\n",
      "\u001b[1;31mNameError\u001b[0m: name 'Point' is not defined"
     ]
    }
   ],
   "source": [
    "setDatos = DataSet(file_path)\n",
    "setDatos.Read(',')"
   ]
  },
  {
   "cell_type": "code",
   "execution_count": 11,
   "metadata": {},
   "outputs": [
    {
     "ename": "NameError",
     "evalue": "name 'setDatos' is not defined",
     "output_type": "error",
     "traceback": [
      "\u001b[1;31m---------------------------------------------------------------------------\u001b[0m",
      "\u001b[1;31mNameError\u001b[0m                                 Traceback (most recent call last)",
      "\u001b[1;32m<ipython-input-11-aa1120160b72>\u001b[0m in \u001b[0;36m<module>\u001b[1;34m\u001b[0m\n\u001b[1;32m----> 1\u001b[1;33m \u001b[0msetDatos\u001b[0m\u001b[1;33m.\u001b[0m\u001b[0mDrawData\u001b[0m\u001b[1;33m(\u001b[0m\u001b[1;34m'ro'\u001b[0m\u001b[1;33m)\u001b[0m\u001b[1;33m\u001b[0m\u001b[1;33m\u001b[0m\u001b[0m\n\u001b[0m",
      "\u001b[1;31mNameError\u001b[0m: name 'setDatos' is not defined"
     ]
    }
   ],
   "source": [
    "setDatos.DrawData('ro')"
   ]
  },
  {
   "cell_type": "markdown",
   "metadata": {},
   "source": [
    "Definición del algoritmo segun el pseudocódigo"
   ]
  },
  {
   "cell_type": "code",
   "execution_count": 28,
   "metadata": {},
   "outputs": [],
   "source": [
    "class ClusteringSolver:\n",
    "    \n",
    "    circles = []\n",
    "     \n",
    "    def __init__(self,file_path,numCirculo):\n",
    "        \n",
    "        self.dataSet = DataSet(file_path)\n",
    "        self.dataSet.Read(',')\n",
    "        \n",
    "        for i in range (0,numCirculo):\n",
    "            radius = rd.uniform(2,10)\n",
    "            centerX = rd.uniform(10,90)\n",
    "            centerY = rd.uniform(10,90)\n",
    "                       \n",
    "            c = Circle(Point(centerX,centerY),radius,20)\n",
    "            \n",
    "            self.circles.append(c)\n",
    "    \n",
    "    def CalculateThreshold(self):\n",
    "        \n",
    "        threshold = []\n",
    "        \n",
    "        for i in range(0,len(self.dataSet.list_points)):\n",
    "            p = self.dataSet.list_points[i]\n",
    "            threshold.append(p.CalculateThreshold(self.circles))\n",
    "    \n",
    "        return threshold\n",
    "    \n",
    "    def CalculateCircunference(self,listOfPoints):\n",
    "        \n",
    "        #Primer punto aleatorio\n",
    "        numPoints = len(listOfPoints)-1        \n",
    "        pr1 = rd.randint(0,numPoints)\n",
    "        p1 = listOfPoints[pr1]\n",
    "        \n",
    "        #Puntos mas alejado\n",
    "        p2 = p1.getFurthestPoint(listOfPoints)\n",
    "        \n",
    "        #Punto medio\n",
    "        indexP1 = listOfPoints.index(p1)\n",
    "        indexP2 = listOfPoints.index(p2)\n",
    "        \n",
    "        indexP3 = round((indexP1+indexP2)/2)\n",
    "        p3 = listOfPoints[indexP3]\n",
    "        \n",
    "        radius = -1\n",
    "        while radius == -1:\n",
    "            center, radius = Circle.CalculateFrom3Points(p1,p2,p3)  \n",
    "        \n",
    "        return center, radius"
   ]
  },
  {
   "cell_type": "code",
   "execution_count": 17,
   "metadata": {},
   "outputs": [
    {
     "name": "stdout",
     "output_type": "stream",
     "text": [
      "       Coord X    Coord Y   Circulo\n",
      "0    91.617966  39.315935  Circulo1\n",
      "1    90.679180  41.712500  Circulo1\n",
      "2    86.040145  45.649173  Circulo1\n",
      "3    83.739861  47.583805  Circulo1\n",
      "4    83.179295  47.522019  Circulo1\n",
      "..         ...        ...       ...\n",
      "107  34.154941  38.452775  Circulo8\n",
      "108  33.555362  35.929366  Circulo8\n",
      "109  36.867133  33.821016  Circulo8\n",
      "110  48.241221  33.547835  Circulo8\n",
      "111  55.245566  38.860694  Circulo8\n",
      "\n",
      "[112 rows x 3 columns]\n"
     ]
    }
   ],
   "source": [
    "file_path = r\"C:\\Users\\enri8\\Desktop\\Universidad\\IA\\Proyecto\\Clustering\\Datos\\datos_xport.csv\"\n",
    "cs = ClusteringSolver(file_path,8)\n",
    "print(cs.dataSet.data)"
   ]
  },
  {
   "cell_type": "code",
   "execution_count": 18,
   "metadata": {},
   "outputs": [
    {
     "data": {
      "image/png": "[encoded data removed]",
      "text/plain": [
       "<Figure size 432x288 with 1 Axes>"
      ]
     },
     "metadata": {
      "needs_background": "light"
     },
     "output_type": "display_data"
    }
   ],
   "source": [
    "cs.dataSet.DrawData('ro')"
   ]
  },
  {
   "cell_type": "code",
   "execution_count": 19,
   "metadata": {},
   "outputs": [
    {
     "data": {
      "image/png": "[encoded data removed]",
      "text/plain": [
       "<Figure size 432x288 with 1 Axes>"
      ]
     },
     "metadata": {
      "needs_background": "light"
     },
     "output_type": "display_data"
    }
   ],
   "source": [
    "for i in range (0,len(cs.circles)):\n",
    "    cs.circles[i].Draw()"
   ]
  },
  {
   "cell_type": "code",
   "execution_count": 11,
   "metadata": {},
   "outputs": [
    {
     "name": "stdout",
     "output_type": "stream",
     "text": [
      "8\n"
     ]
    }
   ],
   "source": [
    "print(len(cs.circles))"
   ]
  },
  {
   "cell_type": "code",
   "execution_count": 12,
   "metadata": {},
   "outputs": [],
   "source": [
    "#thresh = cs.CalculateThreshold()"
   ]
  },
  {
   "cell_type": "code",
   "execution_count": 27,
   "metadata": {
    "scrolled": false
   },
   "outputs": [
    {
     "data": {
      "image/png": "[encoded data removed]",
      "text/plain": [
       "<Figure size 432x288 with 1 Axes>"
      ]
     },
     "metadata": {
      "needs_background": "light"
     },
     "output_type": "display_data"
    }
   ],
   "source": [
    "#Calcular circunferencia a partir de un conjunto de puntos\n",
    "\n",
    "#Creación de puntos a partir de circunferencia\n",
    "circ = Circle(Point(5,5),5,20)\n",
    "can = Canvas(100,100,[circ])\n",
    "can.RemoveRandomPoints(0.6)\n",
    "can.InsertNoise(0.4,0.2)\n",
    "can.DrawData()\n",
    "\n",
    "#Creación de csv con los puntos \n",
    "headers = ['Coord X','Coord Y', 'Circulo']\n",
    "datfr = pd.DataFrame(can.points, columns= headers)\n",
    "file_path_c = r\"C:\\Users\\ENRIQUE\\git\\Clustering\\Datos\\datos_circulo.csv\"\n",
    "datfr.to_csv(file_path_c, columns=headers, index=False, encoding=\"utf8\")\n",
    "\n",
    "#Puntos del problema \n",
    "cs2 = ClusteringSolver(file_path_c,0)\n",
    "points = cs2.dataSet.list_points\n",
    "\n",
    "#Cálculo circunferencia\n",
    "c, r = cs2.CalculateCircunference(points)\n",
    "circ = Circle(c,r,30)\n",
    "circ.Draw()"
   ]
  },
  {
   "cell_type": "code",
   "execution_count": null,
   "metadata": {},
   "outputs": [],
   "source": []
  }
 ],
 "metadata": {
  "kernelspec": {
   "display_name": "Python 3",
   "language": "python",
   "name": "python3"
  },
  "language_info": {
   "codemirror_mode": {
    "name": "ipython",
    "version": 3
   },
   "file_extension": ".py",
   "mimetype": "text/x-python",
   "name": "python",
   "nbconvert_exporter": "python",
   "pygments_lexer": "ipython3",
   "version": "3.7.6"
  }
 },
 "nbformat": 4,
 "nbformat_minor": 4
}
