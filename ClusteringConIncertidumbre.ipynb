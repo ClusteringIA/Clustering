{
 "cells": [
  {
   "cell_type": "markdown",
   "metadata": {},
   "source": [
    "# IMPORTS Y PACKAGES"
   ]
  },
  {
   "cell_type": "code",
   "execution_count": 100,
   "metadata": {},
   "outputs": [],
   "source": [
    "#Packages to install\n",
    "\n",
    "#!pip install pandas\n",
    "#!pip install numpy\n",
    "#!pip install scipy\n",
    "#!pip install matplotlib\n",
    "#!pip install scikit-learn\n",
    "#!pip install ipywidgets"
   ]
  },
  {
   "cell_type": "code",
   "execution_count": 101,
   "metadata": {},
   "outputs": [],
   "source": [
    "#Imports\n",
    "\n",
    "import math\n",
    "import time as time\n",
    "import pandas as pd\n",
    "import numpy as np\n",
    "import scipy as sp\n",
    "import random as rd\n",
    "import ipywidgets as widgets\n",
    "import time\n",
    "from ipywidgets import HBox, VBox, interact, interact_manual,interactive\n",
    "from IPython.display import display,clear_output\n",
    "import matplotlib.pyplot as plt\n",
    "import matplotlib.animation as animation\n",
    "from copy import deepcopy\n",
    "from sklearn import preprocessing\n",
    "\n",
    "#Interactive plot\n",
    "#%matplotlib notebook\n",
    "#%matplotlib inline"
   ]
  },
  {
   "cell_type": "markdown",
   "metadata": {},
   "source": [
    "# CLASES"
   ]
  },
  {
   "cell_type": "markdown",
   "metadata": {},
   "source": [
    "## Clases para generar y mostrar ejemplos"
   ]
  },
  {
   "cell_type": "code",
   "execution_count": 102,
   "metadata": {},
   "outputs": [],
   "source": [
    "class DataSet:\n",
    "    \n",
    "    data = []\n",
    "    points = []\n",
    "    drawPoint = []\n",
    "    \n",
    "    def __init__(self, file_path):\n",
    "        self.file_path = file_path\n",
    "        self.__read(',')\n",
    "        \n",
    "    #Derived\n",
    "    def __read(self, sep):\n",
    "        self.data = pd.read_csv(self.file_path, sep=sep,encoding='utf8')\n",
    "        self.drawPoint = []\n",
    "        points = []\n",
    "        allX = []\n",
    "        allY =[]\n",
    "                \n",
    "        for index, row in self.data.iterrows():\n",
    "            p = Point(row['Coord X'],row['Coord Y'])\n",
    "            points.append(p)\n",
    "            allX.append(p.x)\n",
    "            allY.append(p.y)\n",
    "        \n",
    "        self.points = points\n",
    "        self.drawPoint.append(allX)\n",
    "        self.drawPoint.append(allY)\n",
    "        \n",
    "        return self.points\n",
    "        \n",
    "    def drawData(self, drawType):       \n",
    "        plt.plot(self.drawPoint[0],self.drawPoint[1],drawType)"
   ]
  },
  {
   "cell_type": "code",
   "execution_count": 103,
   "metadata": {},
   "outputs": [],
   "source": [
    "class Canvas:\n",
    "    \n",
    "    width = 0\n",
    "    height = 0\n",
    "    data = []\n",
    "    points = []\n",
    "\n",
    "    def __init__(self, width, height, data):\n",
    "        self.width = width\n",
    "        self.height = height\n",
    "        self.data = data\n",
    "        self.points = self.__dataToPoints()\n",
    "   \n",
    "    #Derived\n",
    "    def __dataToPoints(self):\n",
    "        res = []        \n",
    "        for i in range (0,len(self.data)):            \n",
    "            for j in range(0,self.data[i].numOfPoints):                \n",
    "                point=[]\n",
    "                point.append(self.data[i].xVals[j])\n",
    "                point.append(self.data[i].yVals[j])              \n",
    "                point.append(\"Circulo\"+str(i+1))\n",
    "                \n",
    "                res.append(point)\n",
    "        return res\n",
    "    \n",
    "    def rawPoints(self,rawData):\n",
    "        aux = []\n",
    "        res = []\n",
    "        \n",
    "        for i in range (0,len(rawData)):\n",
    "            \n",
    "            aux.append(rawData[i].x)\n",
    "            aux.append(rawData[i].y)\n",
    "            \n",
    "            res.append(aux)\n",
    "            \n",
    "            aux = []\n",
    "            \n",
    "        self.points = res;\n",
    "    \n",
    "    def drawData(self):\n",
    "        for i in range (0,len(self.points)):\n",
    "            plt.plot(self.points[i][0],self.points[i][1],'ro')\n",
    "            \n",
    "    def drawDataPlot(self):\n",
    "        xs = []\n",
    "        ys = []\n",
    "        \n",
    "        for i in range (0,len(self.points)):\n",
    "            xs.append(self.points[i][0])\n",
    "            ys.append(self.points[i][1])\n",
    "        \n",
    "        return self.data,xs,ys\n",
    "    \n",
    "    def removeRandomPoints(self,percentage):\n",
    "        if len(self.points) != 0:\n",
    "            pointsToRemove = int(len(self.points)*percentage)\n",
    "            newArrayLen = len(self.points)\n",
    "\n",
    "            for i in range (0, pointsToRemove):\n",
    "                j = rd.randint(0,newArrayLen-1)\n",
    "                self.points.pop(j)\n",
    "                newArrayLen -= 1\n",
    "        else:\n",
    "            print(\"Data debe tener al menos un punto.\")\n",
    "    \n",
    "    def insertNoise(self,devX,devY):\n",
    "        noiseX = np.random.normal(0,devX,len(self.points))\n",
    "        noiseY = np.random.normal(0,devY,len(self.points))\n",
    "        \n",
    "        for i in range(0,len(self.points)):\n",
    "            self.points[i][0] += noiseX[i]\n",
    "            self.points[i][1] += noiseY[i]\n",
    "            \n",
    "    def drawRandomCircunferencesRandomRadius(self,numOfCircunferences,precision):   \n",
    "        for i in range (0,numOfCircunferences):\n",
    "            \n",
    "            maxRad = 0\n",
    "            \n",
    "            if(self.width > self.height):\n",
    "                maxRad = self.height/2\n",
    "            else:\n",
    "                 maxRad = self.width/2\n",
    "            \n",
    "            radius = rd.uniform(1,maxRad)\n",
    "            centerX = rd.uniform(radius,self.width-radius)\n",
    "            centerY = rd.uniform(radius,self.height-radius)\n",
    "                       \n",
    "            c = Circunference(Point(centerX,centerY),radius,precision)\n",
    "            self.data.append(c)\n",
    "            c.draw()\n",
    "        \n",
    "        self.points = self.__dataToPoints()\n",
    "            \n",
    "    def drawRandomCircunferencesRadiusRange(self,numOfCircunferences, minRadius, maxRadius, precision):   \n",
    "        for i in range (0,numOfCircunferences):\n",
    "                       \n",
    "            radius = rd.uniform(minRadius,maxRadius)\n",
    "            centerX = rd.uniform(radius,self.width-radius)\n",
    "            centerY = rd.uniform(radius,self.height-radius)                       \n",
    "            c = Circunference(Point(centerX,centerY),radius,precision)\n",
    "            \n",
    "            self.data.append(c)\n",
    "            c.draw()\n",
    "            \n",
    "        self.points = self.__dataToPoints()\n",
    "        \n",
    "    def drawRandomCircunferencesRadiusRangePlot(self,numOfCircunferences, minRadius, maxRadius, precision):    \n",
    "        for i in range (0,numOfCircunferences):\n",
    "                       \n",
    "            radius = rd.uniform(minRadius,maxRadius)\n",
    "            centerX = rd.uniform(radius,self.width-radius)\n",
    "            centerY = rd.uniform(radius,self.height-radius)                       \n",
    "            c = Circunference(Point(centerX,centerY),radius,precision)\n",
    "            \n",
    "            self.data.append(c)\n",
    "            \n",
    "        self.points = self.__dataToPoints()"
   ]
  },
  {
   "cell_type": "markdown",
   "metadata": {},
   "source": [
    "## Clases del dominio del problema"
   ]
  },
  {
   "cell_type": "code",
   "execution_count": 104,
   "metadata": {},
   "outputs": [],
   "source": [
    "class Point:\n",
    "    def __init__(self, x, y):\n",
    "        self.x = x\n",
    "        self.y = y\n",
    "    \n",
    "    def getFurthestPoint(self,points):\n",
    "        res = Point(0,0)\n",
    "        auxDis = 0.0\n",
    "        \n",
    "        for i in range(0,len(points)):\n",
    "            dis = self.calculateDistanceToPoint(points[i])\n",
    "            \n",
    "            if(dis>auxDis):\n",
    "                auxDis = dis\n",
    "                res = points[i]\n",
    "            \n",
    "        return res, auxDis\n",
    "    \n",
    "    def calculateDistanceToCluster(self,c):\n",
    "        dis = self.calculateDistanceToPoint(c.center)\n",
    "        return abs(dis - c.radius)\n",
    "    \n",
    "    def calculateDistanceToCluster_noAbs(self,c):\n",
    "        dis = self.calculateDistanceToPoint(c.center)\n",
    "        return dis - c.radius\n",
    "    \n",
    "    def calculateThreshold(self,circles):\n",
    "        distances = []\n",
    "        distances_n = []\n",
    "        \n",
    "        for i in range(0,len(circles)):\n",
    "            distances.append(self.calculateDistanceToCluster(circles[i]))\n",
    "                \n",
    "        mod = 0.000000000000000000001\n",
    "        for i in range(0,len(distances)):\n",
    "            mod += distances[i]\n",
    "            \n",
    "        distances_n = abs(mod - np.array(distances))*(1/mod)\n",
    "        \n",
    "        return distances_n\n",
    "    \n",
    "    def calculatePerpendicular(self,p):\n",
    "        precision = 0.000001\n",
    "        \n",
    "        #Punto medio\n",
    "        xMean = (self.x + p.x)/2\n",
    "        yMean = (self.y + p.y)/2\n",
    "        \n",
    "        if(p.y - self.y == 0):\n",
    "            self.y += precision\n",
    "        \n",
    "        if(p.x - self.x == 0):\n",
    "            self.x += precision\n",
    "        \n",
    "        #Pendiente usando: y - y1 = m(x - x1) y  mp = -1/m\n",
    "        m = -1/((p.y - self.y)/(p.x - self.x))\n",
    "        \n",
    "        #Se devuelve [x,y,b]\n",
    "        perpendicular = ([-m,1,m*(-xMean)+yMean])\n",
    "        \n",
    "        return perpendicular\n",
    "    \n",
    "    def calculateDistanceToPoint(self,p):\n",
    "        disX = p.x - self.x\n",
    "        disY = p.y - self.y\n",
    "        dis = math.sqrt(disX*disX + disY*disY)\n",
    "        \n",
    "        return dis\n",
    "    \n",
    "    def equals(self,p):\n",
    "        if(self.x == p.x and self.y == p.y):\n",
    "            return 1\n",
    "        else:\n",
    "            return 0\n",
    "        \n",
    "    def print(self):\n",
    "        print(\"(\",self.x,\",\",self.y,\")\")"
   ]
  },
  {
   "cell_type": "code",
   "execution_count": 105,
   "metadata": {},
   "outputs": [],
   "source": [
    "class Circunference:\n",
    "    \n",
    "    center = 0\n",
    "    radius = 0\n",
    "    numOfPoints = 0\n",
    "    xVals = []\n",
    "    yVals = []\n",
    "    \n",
    "    def __init__(self, center, radius, numOfPoints):\n",
    "        self.center = center\n",
    "        self.radius = radius\n",
    "        self.numOfPoints = numOfPoints\n",
    "        self.__calculate()\n",
    "      \n",
    "    #Derived\n",
    "    def __calculate(self):\n",
    "        self.xVals = []\n",
    "        self.yVals = []\n",
    "        \n",
    "        alpha = 2*math.pi/self.numOfPoints\n",
    "        i = 0     \n",
    "        while i < 2*math.pi:\n",
    "            self.xVals.append(self.center.x + self.radius*math.cos(i))\n",
    "            self.yVals.append(self.center.y + self.radius*math.sin(i))\n",
    "            i += alpha\n",
    "            \n",
    "    def update(self, center, radius):\n",
    "        self.center = center\n",
    "        self.radius = radius\n",
    "        self.__calculate()\n",
    "    \n",
    "    def draw(self):\n",
    "        if(len(self.xVals) == 0 or len(self.yVals) == 0):\n",
    "            print('Error when drawing: Values are empty')\n",
    "        else:\n",
    "            xPrimeVals = self.xVals\n",
    "            xPrimeVals.append(xPrimeVals[0])\n",
    "            \n",
    "            yPrimeVals = self.yVals\n",
    "            yPrimeVals.append(yPrimeVals[0])\n",
    "            \n",
    "            plt.plot(xPrimeVals,yPrimeVals)\n",
    "            plt.plot(self.center.x,self.center.y,'bo')\n",
    "    \n",
    "    def drawPlot(self):\n",
    "        fig = plt.figure('fig')\n",
    "        ax = fig.add_subplot(111)\n",
    "                \n",
    "        if(len(self.xVals) == 0 or len(self.yVals) == 0):\n",
    "            print('Error when drawing: Values are empty')\n",
    "        else:\n",
    "            xPrimeVals = self.xVals\n",
    "            xPrimeVals.append(xPrimeVals[0])\n",
    "            \n",
    "            yPrimeVals = self.yVals\n",
    "            yPrimeVals.append(yPrimeVals[0])\n",
    "            \n",
    "            ax.plot(xPrimeVals,yPrimeVals)\n",
    "            ax.plot(self.center.x,self.center.y,'bo')\n",
    "            \n",
    "            return fig,ax\n",
    "            \n",
    "    def drawSubplot(self,axs,it):\n",
    "        if(len(self.xVals) == 0 or len(self.yVals) == 0):\n",
    "            print('Error when drawing: Values are empty')\n",
    "        else:\n",
    "            xPrimeVals = self.xVals\n",
    "            xPrimeVals.append(xPrimeVals[0])\n",
    "            \n",
    "            yPrimeVals = self.yVals\n",
    "            yPrimeVals.append(yPrimeVals[0])\n",
    "            \n",
    "            axs[it].plot(xPrimeVals,yPrimeVals)\n",
    "            axs[it].plot(self.center.x,self.center.y,'bo')\n",
    "                 \n",
    "    def calculateWithCircumcenter(points):\n",
    "        radius = -1\n",
    "        while radius == -1:\n",
    "        \n",
    "            randomPoints = rd.sample(points,3)\n",
    "            p1,p2,p3 = randomPoints[0],randomPoints[1],randomPoints[2]\n",
    "        \n",
    "            #Mediatrices\n",
    "            perp1 = p1.calculatePerpendicular(p2)\n",
    "            perp2 = p1.calculatePerpendicular(p3)\n",
    "\n",
    "            A = [[perp1[0],perp1[1]],[perp2[0],perp2[1]]]\n",
    "\n",
    "            #Circuncentro\n",
    "            if(np.linalg.det(A)==0):\n",
    "                return Point(0,0),-1\n",
    "            else:\n",
    "                B = [[perp1[2]],[perp2[2]]]\n",
    "                X = np.linalg.solve(A,B)\n",
    "                circumcenter = Point(X[0],X[1])\n",
    "\n",
    "                #Radio\n",
    "                radius = circumcenter.calculateDistanceToPoint(p1)\n",
    "\n",
    "                return circumcenter, radius\n",
    "        \n",
    "    def calculateWithBarycentre(list_points):\n",
    "        sumX = 0\n",
    "        sumY = 0\n",
    "        radius = 0\n",
    "        \n",
    "        for i in range(0,len(list_points)):\n",
    "            sumX = sumX + list_points[i].x\n",
    "            sumY = sumY + list_points[i].y\n",
    "        \n",
    "        center = Point(sumX/len(list_points),sumY/len(list_points))\n",
    "        \n",
    "        for i in range(0,len(list_points)):\n",
    "            radius = radius + center.calculateDistanceToPoint(list_points[i])\n",
    "        \n",
    "        radius = radius/len(list_points)\n",
    "        \n",
    "        return center,radius"
   ]
  },
  {
   "cell_type": "markdown",
   "metadata": {},
   "source": [
    "## Clases del algoritmo"
   ]
  },
  {
   "cell_type": "code",
   "execution_count": 106,
   "metadata": {},
   "outputs": [],
   "source": [
    "class ClusteringSolver:\n",
    "    \n",
    "    clustersNumber = 0\n",
    "    points = []\n",
    "    \n",
    "    clusters = []\n",
    "    threshold = []\n",
    "    \n",
    "    sol_clusters = []\n",
    "    sol_threshold = []\n",
    "    \n",
    "    def __init__(self,filePath,clustersNumber):\n",
    "        self.clustersNumber = clustersNumber\n",
    "        self.points = DataSet(filePath).points\n",
    "        \n",
    "        self.clusters = []\n",
    "                    \n",
    "    def initRandomClusters(self):\n",
    "        initialClusters = []\n",
    "            \n",
    "        for i in range(0,self.clustersNumber):\n",
    "            \n",
    "            indexOfRandomPoint = rd.randint(0,len(self.points)-1)\n",
    "            randomPoint = self.points[indexOfRandomPoint]\n",
    "            randomRadius = rd.uniform(1,10)\n",
    "\n",
    "            cluster = Circunference(randomPoint,randomRadius,20)            \n",
    "            initialClusters.append(cluster)\n",
    "\n",
    "        self.clusters = initialClusters\n",
    "    \n",
    "    def calculateThreshold(self):\n",
    "        threshold = []\n",
    "        \n",
    "        for i in range(0,len(self.points)):\n",
    "            point = self.points[i]\n",
    "            threshold.append(point.calculateThreshold(self.clusters))\n",
    "        \n",
    "        return threshold\n",
    "       \n",
    "    def getClustersAssignment(self,threshold):\n",
    "        clustersAssignment = []  \n",
    "        \n",
    "        for i in range(0,len(threshold)):\n",
    "            tuplePointCluster = []\n",
    "            clusterIndex = 0\n",
    "            thresholdVal = 0\n",
    "            point = Point(0,0)\n",
    "            \n",
    "            for j in range(0,len(threshold[i])):\n",
    "                if(j==0):\n",
    "                    thresholdVal = threshold[i][j]\n",
    "                    point = self.points[i]\n",
    "                    clusterIndex = j\n",
    "                else:\n",
    "                    if(threshold[i][j] > thresholdVal):\n",
    "                        thresholdVal = threshold[i][j]\n",
    "                        point = self.points[i]\n",
    "                        clusterIndex = j\n",
    "                        \n",
    "            tuplePointCluster.append(point)\n",
    "            tuplePointCluster.append(clusterIndex)\n",
    "            clustersAssignment.append(tuplePointCluster)\n",
    "            \n",
    "            tuplePointCluster = []\n",
    "            clusterIndex = 0\n",
    "            point = Point(0,0)\n",
    "            thresholdVal = 0\n",
    "    \n",
    "        return clustersAssignment\n",
    "    \n",
    "    def groupPointsByCluster(self,clustersAssignment):\n",
    "        \n",
    "        pointsGroupedByCluster = []\n",
    "        \n",
    "        for k in range(0,len(self.clusters)):\n",
    "                                       \n",
    "            cluster = []\n",
    "\n",
    "            for z in range(0,len(clustersAssignment)):\n",
    "\n",
    "                if(k == clustersAssignment[z][1]):\n",
    "                    point = Point(clustersAssignment[z][0].x,clustersAssignment[z][0].y)\n",
    "                    cluster.append(point)\n",
    "\n",
    "            pointsGroupedByCluster.append(cluster)\n",
    "        \n",
    "        return pointsGroupedByCluster\n",
    "    \n",
    "    def calculateCluster(self,mode,points):\n",
    "        if len(points) == 0:\n",
    "            center = Point(0,0)\n",
    "            radius = -1\n",
    "        else:\n",
    "            if mode == 'c' and len(points)>2:            \n",
    "                center, radius = Circunference.calculateWithCircumcenter(points)        \n",
    "            else:\n",
    "                center, radius = Circunference.calculateWithBarycentre(points)  \n",
    "        \n",
    "        return center, radius\n",
    "        \n",
    "    def learn(self,generations,precision,limit,mode):\n",
    "        \n",
    "        initTime = time.process_time()\n",
    "        \n",
    "        generationNumber = 0\n",
    "        generationClusters = []\n",
    "        generationAssignment = []    \n",
    "        generationDist = 0       \n",
    "\n",
    "        while generationNumber < generations:\n",
    "        \n",
    "            self.initRandomClusters()\n",
    "            \n",
    "            keepIterating = 1\n",
    "            previousIteration = []\n",
    "            \n",
    "            limIt = 0\n",
    "            while keepIterating == 1:\n",
    "                            \n",
    "                previousIteration = deepcopy(self.clusters)\n",
    "                                \n",
    "                self.threshold = self.calculateThreshold()\n",
    "                clustersAssignment = self.getClustersAssignment(self.threshold)\n",
    "                pointsGroupedByCluster = self.groupPointsByCluster(clustersAssignment)\n",
    "                \n",
    "                dirtyGen = 0\n",
    "                for k in range(0,len(pointsGroupedByCluster)):\n",
    "                    center,radius = self.calculateCluster(mode,pointsGroupedByCluster[k])\n",
    "                    \n",
    "                    if radius == -1:\n",
    "                        generationNumber -= 1\n",
    "                        dirtyGen = 1\n",
    "                        break\n",
    "                        \n",
    "                    self.clusters[k].update(center,radius)\n",
    "            \n",
    "                if dirtyGen == 1:\n",
    "                    break\n",
    "                             \n",
    "                dirtyIt = 0\n",
    "                for j in range(0,len(previousIteration)):\n",
    "                    \n",
    "                    prevCenter = previousIteration[j].center\n",
    "                    prevRadius = previousIteration[j].radius\n",
    "                    \n",
    "                    actualCenter = self.clusters[j].center\n",
    "                    actualRadius = self.clusters[j].radius\n",
    "                    \n",
    "                    centerCond = prevCenter.calculateDistanceToPoint(actualCenter) > precision\n",
    "                    radiusCond = abs(prevRadius - actualRadius) > precision\n",
    "\n",
    "                    if centerCond or radiusCond:\n",
    "                        dirtyIt = 1\n",
    "                \n",
    "                if(dirtyIt == 0 or limIt == limit):                   \n",
    "                    keepIterating = 0       \n",
    "                \n",
    "                limIt += 1\n",
    "            \n",
    "            if generationNumber <= 0:\n",
    "                generationClusters = self.clusters\n",
    "                generationAssignment = clustersAssignment\n",
    "                \n",
    "                for j in range(0,len(generationAssignment)):\n",
    "                    generationDist += generationAssignment[j][0].calculateDistanceToCluster(generationClusters[generationAssignment[j][1]])\n",
    "            else:\n",
    "                tempClusters = self.clusters\n",
    "                tempAssignment = clustersAssignment\n",
    "                dist = 0\n",
    "                for j in range(0,len(tempAssignment)):\n",
    "                    dist += tempAssignment[j][0].calculateDistanceToCluster(tempClusters[tempAssignment[j][1]])\n",
    "                \n",
    "                if(dist < generationDist):\n",
    "                    generationClusters = tempClusters\n",
    "                    generationAssignment = tempAssignment\n",
    "                    generationDist = dist\n",
    "            \n",
    "            generationNumber += 1\n",
    "        \n",
    "        self.sol_clusters = generationClusters\n",
    "        self.sol_threshold = generationAssignment\n",
    "        \n",
    "        print(\"Elapsed time: \",time.process_time()-initTime)"
   ]
  },
  {
   "cell_type": "code",
   "execution_count": 107,
   "metadata": {},
   "outputs": [],
   "source": [
    "class Solution:\n",
    "    \n",
    "    clusteringSolver = 0\n",
    "    finalClusters = []\n",
    "    finalAssignment = []\n",
    "    \n",
    "    def __init__(self, clusteringSolver):\n",
    "        self.clusteringSolver = clusteringSolver\n",
    "        self.finalClusters = self.clusteringSolver.sol_clusters\n",
    "        self.finalAssignment = self.clusteringSolver.sol_threshold\n",
    "       \n",
    "    def eraseNoise(self,minThreshold):\n",
    "        pointsToErase = []\n",
    "        \n",
    "        for i in range(len(self.finalAssignment)-1,-1,-1):\n",
    "            \n",
    "            threshold = self.finalAssignment[i][0].calculateThreshold(self.finalClusters)\n",
    "            \n",
    "            if(threshold[self.finalAssignment[i][1]] < minThreshold):\n",
    "                pointsToErase.append(i)\n",
    "        \n",
    "        for i in range(0,len(pointsToErase)):\n",
    "            self.finalAssignment.pop(pointsToErase[i])\n",
    "        \n",
    "        print(\"Min Threshold: \",minThreshold)\n",
    "        print(\"Erased Points: \",len(pointsToErase))\n",
    "        \n",
    "    def drawSolution(self,minThreshold):\n",
    "        self.eraseNoise(minThreshold)\n",
    "        \n",
    "        for i in range (0,len(self.finalClusters)):\n",
    "            self.finalClusters[i].draw()\n",
    "\n",
    "        for i in range(0,len(self.finalAssignment)):\n",
    "            if(self.finalAssignment[i][1] == 0):\n",
    "                plt.plot(self.finalAssignment[i][0].x,self.finalAssignment[i][0].y,'go')\n",
    "            elif(self.finalAssignment[i][1] == 1):\n",
    "                plt.plot(self.finalAssignment[i][0].x,self.finalAssignment[i][0].y,'ko')\n",
    "            elif(self.finalAssignment[i][1] == 2):\n",
    "                plt.plot(self.finalAssignment[i][0].x,self.finalAssignment[i][0].y,'ro')\n",
    "            elif(self.finalAssignment[i][1] == 3):\n",
    "                plt.plot(self.finalAssignment[i][0].x,self.finalAssignment[i][0].y,'co')\n",
    "            elif(self.finalAssignment[i][1] == 4):\n",
    "                plt.plot(self.finalAssignment[i][0].x,self.finalAssignment[i][0].y,'mo')\n",
    "            else:\n",
    "                plt.plot(self.finalAssignment[i][0].x,self.finalAssignment[i][0].y,'yo')\n",
    "                "
   ]
  },
  {
   "cell_type": "markdown",
   "metadata": {},
   "source": [
    "## Clases de interfaz"
   ]
  },
  {
   "cell_type": "code",
<<<<<<< HEAD
   "execution_count": 9,
=======
   "execution_count": 108,
>>>>>>> 4d08abfe42df3715d8757b543c70ac21f208d098
   "metadata": {},
   "outputs": [],
   "source": [
    "class ClusteringUI():\n",
    "    \n",
    "    canvasCC = Canvas(100,100,[])\n",
    "    canvasLoad = Canvas(100,100,[])\n",
    "            \n",
    "    def createAndSolve(self):\n",
    "        \n",
    "        filePath = widgets.Text(\n",
    "            value='',\n",
    "            placeholder='C:..',\n",
    "            description='File path to be saved:',\n",
    "            disabled=False,\n",
    "            style = {'description_width': 'initial'}\n",
    "        )\n",
    "\n",
    "        numCircles = widgets.IntSlider(\n",
    "            value = 1,\n",
    "            min = 1,\n",
    "            max = 10,\n",
    "            description = 'Circunference Num.:',\n",
    "            orientation = 'horizontal',\n",
    "            style = {'description_width': 'initial'}\n",
    "        )\n",
    "                \n",
    "        numCirclesSol = widgets.IntSlider(\n",
    "            value = 1,\n",
    "            min = 1,\n",
    "            max = 10,\n",
    "            description = 'Cluster Num.:',\n",
    "            orientation = 'horizontal',\n",
    "            style = {'description_width': 'initial'}\n",
    "        )\n",
    "\n",
    "        rangeRadius = widgets.IntRangeSlider(\n",
    "            value = [5,10],\n",
    "            min = 1,\n",
    "            max = 10,\n",
    "            description = 'Circunference Radius:',\n",
    "            orientation = 'horizontal',\n",
    "            style = {'description_width': 'initial'}\n",
    "        )\n",
    "\n",
    "        circlePrecision = widgets.IntSlider(\n",
    "            value = 20,\n",
    "            min = 1,\n",
    "            max = 20,\n",
    "            description = 'Circunference Precision:',\n",
    "            orientation = 'horizontal',\n",
    "            style = {'description_width': 'initial'}\n",
    "        )\n",
    "\n",
    "        removePercentage = widgets.FloatSlider(\n",
    "            value = 0.1,\n",
    "            min = 0,\n",
    "            max = 1,\n",
    "            step = 0.1,\n",
    "            description = 'Remove %:',\n",
    "            orientation = 'horizontal'\n",
    "        )\n",
    "\n",
    "        noisePercentage = widgets.FloatSlider(\n",
    "            value = 0.1,\n",
    "            min = 0,\n",
    "            max = 1.5,\n",
    "            step = 0.1,\n",
    "            description = 'Noise:',\n",
    "            orientation = 'horizontal'\n",
    "        )\n",
    "\n",
    "        genNumber = widgets.IntSlider(\n",
    "            value = 1,\n",
    "            min = 1,\n",
    "            max = 500,\n",
    "            description = 'Generations:',\n",
    "            orientation = 'horizontal'\n",
    "        )\n",
    "        \n",
    "        precisionSolver = widgets.SelectionSlider(\n",
    "            options=[0.001, 0.01, 0.1, 1],\n",
    "            value=0.001,\n",
    "            description='Precision:',\n",
    "            disabled=False,\n",
    "            orientation='horizontal',\n",
    "        )\n",
    "\n",
    "        maxLimitIt = widgets.IntSlider(\n",
    "            value = 1,\n",
    "            min = 1,\n",
    "            max = 50,\n",
    "            description = 'Max. It.:',\n",
    "            orientation = 'horizontal'\n",
    "        )\n",
    "\n",
    "        mode = widgets.SelectMultiple(\n",
    "            options=['b','c'],\n",
    "            value=['b'],\n",
    "            description='Mode',\n",
    "            disabled=False\n",
    "        )\n",
    "\n",
    "        noiseReduction = widgets.FloatSlider(\n",
    "            value = 0.1,\n",
    "            min = 0.750,\n",
    "            max = 1,\n",
    "            step = 0.001,\n",
    "            readout_format='.3f',\n",
    "            description = 'Min. Threshold:',\n",
    "            orientation = 'horizontal',\n",
    "            style = {'description_width': 'initial'}\n",
    "        )\n",
    "                \n",
    "        @interact_manual(nc=numCircles,rd=rangeRadius,cp=circlePrecision)\n",
    "        def generate(nc,rd,cp):\n",
    "\n",
    "            global canvasCC\n",
    "            plt.figure(2)\n",
    "\n",
    "            canvas = Canvas(100,100,[])\n",
    "            canvas.drawRandomCircunferencesRadiusRangePlot(nc,rd[0],rd[1],cp)\n",
    "\n",
    "            canvasCC = deepcopy(canvas)\n",
    "\n",
    "            clusters,xs,ys = canvas.drawDataPlot()\n",
    "\n",
    "            for i in range(0,len(clusters)):\n",
    "                clusters[i].draw()\n",
    "\n",
    "            plt.plot(xs,ys,'ro')\n",
    "            plt.show()\n",
    "\n",
    "        @interact_manual(fp=filePath,rp=removePercentage,nop=noisePercentage)\n",
    "        def edit(fp,rp,nop):\n",
    "            plt.figure(2)\n",
    "\n",
    "            edit_canvas = deepcopy(canvasCC)\n",
    "            edit_canvas.removeRandomPoints(rp)\n",
    "            edit_canvas.insertNoise(nop,nop)\n",
    "\n",
    "            clusters,xs,ys = edit_canvas.drawDataPlot()\n",
    "\n",
    "            for i in range(0,len(clusters)):\n",
    "                clusters[i].draw()\n",
    "\n",
    "            plt.plot(xs,ys,'ro')\n",
    "            plt.show()\n",
    "\n",
    "            file_path_ex = fp\n",
    "            headers = ['Coord X','Coord Y', 'Circulo']\n",
    "            df = pd.DataFrame(edit_canvas.points, columns= headers)\n",
    "            df = df.sample(frac=1)\n",
    "            df.to_csv(file_path_ex, columns=headers, index=False, encoding=\"utf8\")\n",
    "\n",
    "            setData = DataSet(file_path_ex)\n",
    "\n",
    "        @interact_manual(gn=genNumber,nc=numCirclesSol,p=precisionSolver,mxL=maxLimitIt,m=mode,nr=noiseReduction)\n",
    "        def solve(gn,nc,p,mxL,m,nr):\n",
    "            file_path_ex = filePath.value\n",
    "            csExample = ClusteringSolver(file_path_ex,nc)\n",
    "            csExample.learn(gn,p,mxL,m[0])\n",
    "            solEx = Solution(csExample)\n",
    "            solEx.drawSolution(nr)\n",
    "            \n",
    "    def loadAndSolve(self):\n",
    "        \n",
    "        filePath = widgets.Text(\n",
    "            value='',\n",
    "            placeholder='C:..',\n",
    "            description='File Path to load:',\n",
    "            disabled=False,\n",
    "            style = {'description_width': 'initial'}\n",
    "        )\n",
    "        \n",
    "        \"\"\"\n",
    "        filePath2 = widgets.Text(\n",
    "            value='',\n",
    "            placeholder='C:..',\n",
    "            description='File Path to be saved:',\n",
    "            disabled=False,\n",
    "            style = {'description_width': 'initial'}\n",
    "        )\n",
    "        \"\"\"\n",
    "        \n",
    "        numCircles = widgets.IntSlider(\n",
    "            value = 1,\n",
    "            min = 1,\n",
    "            max = 10,\n",
    "            description = 'Cluster Num.:',\n",
    "            orientation = 'horizontal'\n",
    "        )\n",
    "        \n",
    "        genNumber = widgets.IntSlider(\n",
    "            value = 1,\n",
    "            min = 1,\n",
    "            max = 500,\n",
    "            description = 'Generations:',\n",
    "            orientation = 'horizontal'\n",
    "        )\n",
    "\n",
    "        precisionSolver = widgets.SelectionSlider(\n",
    "            options=[0.001, 0.01, 0.1, 1],\n",
    "            value=0.001,\n",
    "            description='Precision:',\n",
    "            disabled=False,\n",
    "            orientation='horizontal',\n",
    "        )\n",
    "\n",
    "        maxLimitIt = widgets.IntSlider(\n",
    "            value = 1,\n",
    "            min = 1,\n",
    "            max = 50,\n",
    "            description = 'Max. It.:',\n",
    "            orientation = 'horizontal'\n",
    "        )\n",
    "\n",
    "        mode = widgets.SelectMultiple(\n",
    "            options=['b','c'],\n",
    "            value=['b'],\n",
    "            description='Mode',\n",
    "            disabled=False\n",
    "        )\n",
    "\n",
    "        noiseReduction = widgets.FloatSlider(\n",
    "            value = 0.1,\n",
    "            min = 0.750,\n",
    "            max = 1,\n",
    "            step = 0.001,\n",
    "            readout_format='.3f',\n",
    "            description = 'Min. Threshold:',\n",
    "            orientation = 'horizontal',\n",
    "            style = {'description_width': 'initial'}\n",
    "        )\n",
    "        \n",
    "        removePercentage = widgets.FloatSlider(\n",
    "            value = 0.1,\n",
    "            min = 0,\n",
    "            max = 1,\n",
    "            step = 0.1,\n",
    "            description = 'Remove %:',\n",
    "            orientation = 'horizontal'\n",
    "        )\n",
    "\n",
    "        noisePercentage = widgets.FloatSlider(\n",
    "            value = 0.1,\n",
    "            min = 0,\n",
    "            max = 1.5,\n",
    "            step = 0.1,\n",
    "            description = 'Noise %:',\n",
    "            orientation = 'horizontal'\n",
    "        )\n",
    "        \n",
    "        @interact_manual(fp=filePath)\n",
    "        def load(fp):\n",
    "            \n",
    "            setData = DataSet(fp)\n",
    "            \n",
    "            global canvasLoad\n",
    "            canvas = Canvas(100,100,[])\n",
    "            canvas.rawPoints(setData.points)\n",
    "            canvasLoad = deepcopy(canvas)\n",
    "            \n",
    "            setData.drawData('ro')\n",
    "        \n",
    "        \"\"\"\n",
    "        Método para editar las imagenes que se cargar.\n",
    "        \n",
    "        @interact_manual(fp=filePath2,rp=removePercentage,nop=noisePercentage)\n",
    "        def edit_load(fp,rp,nop):\n",
    "            plt.figure(2)\n",
    "\n",
    "            edit_canvas = deepcopy(canvasLoad)\n",
    "            edit_canvas.removeRandomPoints(rp)\n",
    "            edit_canvas.insertNoise(nop,nop)\n",
    "\n",
    "            clusters,xs,ys = edit_canvas.drawDataPlot()\n",
    "\n",
    "            for i in range(0,len(clusters)):\n",
    "                clusters[i].draw()\n",
    "\n",
    "            plt.plot(xs,ys,'ro')\n",
    "            plt.show()\n",
    "\n",
    "            file_path_ex = fp\n",
    "            headers = ['Coord X','Coord Y']\n",
    "            df = pd.DataFrame(edit_canvas.points, columns= headers)\n",
    "            df = df.sample(frac=1)\n",
    "            df.to_csv(file_path_ex, columns=headers, index=False, encoding=\"utf8\")\n",
    "\n",
    "            setData = DataSet(file_path_ex)\n",
    "        \"\"\"\n",
    "        \n",
    "        @interact_manual(gn=genNumber, nc=numCircles,p=precisionSolver,mxL=maxLimitIt,m=mode,nr=noiseReduction)\n",
    "        def solve_load(gn,nc,p,mxL,m,nr):\n",
    "            \n",
    "            file_path_ex = filePath.value         \n",
    "            csExample = ClusteringSolver(file_path_ex,nc)\n",
    "            csExample.learn(gn,p,mxL,m[0])\n",
    "            solEx = Solution(csExample)\n",
    "            solEx.drawSolution(nr)"
   ]
  },
  {
   "cell_type": "markdown",
   "metadata": {},
   "source": [
    "# EJEMPLOS\n",
    "## Generador de Ejemplos\n",
    "### Generamos un Canvas de ejemplo y una copia de este\n",
    "<ol>\n",
    "<li>Instanciamos un objeto Canvas indicando sus proporciones.</li>\n",
    "<li>Generamos un ejemplo aleatorio. Se debe proporcionar número de circunferencias, rango inferior y superior para el radio, y número de puntos de dichas circunferencias.</li>\n",
    "<li>Mostramos el ejemplo creado.</li>\n",
    "</ol>"
   ]
  },
  {
   "cell_type": "code",
<<<<<<< HEAD
   "execution_count": 10,
=======
   "execution_count": 109,
>>>>>>> 4d08abfe42df3715d8757b543c70ac21f208d098
   "metadata": {},
   "outputs": [
    {
     "data": {
<<<<<<< HEAD
      "image/png": "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\n",
=======
      "image/png": "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\n",
>>>>>>> 4d08abfe42df3715d8757b543c70ac21f208d098
      "text/plain": [
       "<Figure size 432x288 with 1 Axes>"
      ]
     },
     "metadata": {
      "needs_background": "light"
     },
     "output_type": "display_data"
    }
   ],
   "source": [
    "canvas = Canvas(100,100,[])\n",
    "canvas.drawRandomCircunferencesRadiusRange(5,5,10,20)\n",
    "canvas.drawData()"
   ]
  },
  {
   "cell_type": "markdown",
   "metadata": {},
   "source": [
    "### Duplicación de copia y edición de esta\n",
    "<ol>\n",
    "<li>Creamos una copia del ejemplo generado para poder modificarlo sin afectar al original.</li>\n",
    "<li>Eliminamos un porcentaje de puntos.</li>\n",
    "<li>Insertamos ruido para ambas coordenadas.</li>\n",
    "<li>Mostramos el ejemplo modificado.</li>\n",
    "</ol>"
   ]
  },
  {
   "cell_type": "code",
<<<<<<< HEAD
   "execution_count": 11,
=======
   "execution_count": 110,
>>>>>>> 4d08abfe42df3715d8757b543c70ac21f208d098
   "metadata": {},
   "outputs": [
    {
     "data": {
<<<<<<< HEAD
      "image/png": "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\n",
=======
      "image/png": "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\n",
>>>>>>> 4d08abfe42df3715d8757b543c70ac21f208d098
      "text/plain": [
       "<Figure size 432x288 with 1 Axes>"
      ]
     },
     "metadata": {
      "needs_background": "light"
     },
     "output_type": "display_data"
    }
   ],
   "source": [
    "canvasCopy = deepcopy(canvas)\n",
    "canvasCopy.removeRandomPoints(0.4)\n",
    "canvasCopy.insertNoise(0.4,0.4)\n",
    "canvasCopy.drawData()"
   ]
  },
  {
   "cell_type": "markdown",
   "metadata": {},
   "source": [
    "### Guardamos el Canvas en un archivo .csv\n"
   ]
  },
  {
   "cell_type": "code",
<<<<<<< HEAD
   "execution_count": 12,
=======
   "execution_count": 111,
>>>>>>> 4d08abfe42df3715d8757b543c70ac21f208d098
   "metadata": {},
   "outputs": [],
   "source": [
    "file_path_ex = r\"Datos/canvas_export.csv\"\n",
    "headers = ['Coord X','Coord Y', 'Circulo']\n",
    "df = pd.DataFrame(canvasCopy.points, columns= headers)\n",
    "df = df.sample(frac=1)\n",
    "df.to_csv(file_path_ex, columns=headers, index=False, encoding=\"utf8\")"
   ]
  },
  {
   "cell_type": "markdown",
   "metadata": {},
   "source": [
    "### Convertimos el archivo .csv en un DataSet y comprobamos que los datos son correctos"
   ]
  },
  {
   "cell_type": "code",
<<<<<<< HEAD
   "execution_count": 13,
=======
   "execution_count": 112,
>>>>>>> 4d08abfe42df3715d8757b543c70ac21f208d098
   "metadata": {},
   "outputs": [
    {
     "data": {
<<<<<<< HEAD
      "image/png": "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\n",
=======
      "image/png": "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\n",
>>>>>>> 4d08abfe42df3715d8757b543c70ac21f208d098
      "text/plain": [
       "<Figure size 432x288 with 1 Axes>"
      ]
     },
     "metadata": {
      "needs_background": "light"
     },
     "output_type": "display_data"
    }
   ],
   "source": [
    "setData = DataSet(file_path_ex)\n",
    "setData.drawData('ro')"
   ]
  },
  {
   "cell_type": "markdown",
   "metadata": {},
   "source": [
    "### Ejecutamos el algoritmo y mostramos la solución\n",
    "<ol>\n",
    "<li>Instanciamos un objeto ClusteringSolver con la ruta al archivo .csv creado y el número de clusters.</li>\n",
    "<li>Ejecutamos el algoritmo. Debemos proporcionar número de generaciones, precisión, número máximo de iteraciones y método para el cálculo de las circunferencias (c = Circuncentro, b = Baricentro)</li>\n",
    "<li>Instanciamos un objeto Solution con el resultado del algoritmo. Debemos proporcionar un objeto Clustering Solver</li>\n",
    "<li>Mostramos la solución eliminando el ruido que deseemos. Debemos proporcionar el mínimo grado de pertenencia que no consideramos ruido.</li>\n",
    "</ol>"
   ]
  },
  {
   "cell_type": "code",
<<<<<<< HEAD
   "execution_count": 14,
=======
   "execution_count": 113,
>>>>>>> 4d08abfe42df3715d8757b543c70ac21f208d098
   "metadata": {},
   "outputs": [
    {
     "name": "stdout",
     "output_type": "stream",
     "text": [
<<<<<<< HEAD
      "Elapsed time:  4.734375\n",
=======
      "Elapsed time:  6.75\n",
>>>>>>> 4d08abfe42df3715d8757b543c70ac21f208d098
      "Min Threshold:  0.8\n",
      "Erased Points:  0\n"
     ]
    },
    {
     "data": {
<<<<<<< HEAD
      "image/png": "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\n",
=======
      "image/png": "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\n",
>>>>>>> 4d08abfe42df3715d8757b543c70ac21f208d098
      "text/plain": [
       "<Figure size 432x288 with 1 Axes>"
      ]
     },
     "metadata": {
      "needs_background": "light"
     },
     "output_type": "display_data"
    }
   ],
   "source": [
    "csExample = ClusteringSolver(file_path_ex,5)\n",
    "csExample.learn(50,0.01,30,'c')\n",
    "solEx = Solution(csExample)\n",
    "solEx.drawSolution(0.8)"
   ]
  },
  {
   "cell_type": "markdown",
   "metadata": {},
   "source": [
    "## Carga de ejemplos\n",
    "### Carga de datos\n",
    "<ol>\n",
    "<li>Instanciamos un objeto DataSet con la ruta al archivo .csv con el ejemplo.</li>\n",
    "<li>Mostramos el ejemplo.</li>\n",
    "</ol>\n",
    "\n",
    "### Resolución\n",
    "<ol>\n",
    "<li>Instanciamos un objeto ClusteringSolver con la ruta al archivo .csv creado y el número de clusters.</li>\n",
    "<li>Ejecutamos el algoritmo. Debemos proporcionar número de generaciones, precisión, número máximo de iteraciones y método para el cálculo de las circunferencias (c = Circuncentro, b = Baricentro)</li>\n",
    "<li>Instanciamos un objeto Solution con el resultado del algoritmo. Debemos proporcionar un objeto Clustering Solver</li>\n",
    "<li>Mostramos la solución eliminando el ruido que deseemos. Debemos proporcionar el mínimo grado de pertenencia que no consideramos ruido.</li>\n",
    "</ol>\n",
    "\n",
    "### Ejemplo 1 aportado por el tutor\n",
    "#### Carga de datos"
   ]
  },
  {
   "cell_type": "code",
<<<<<<< HEAD
   "execution_count": 15,
=======
   "execution_count": 114,
>>>>>>> 4d08abfe42df3715d8757b543c70ac21f208d098
   "metadata": {},
   "outputs": [
    {
     "data": {
      "image/png": "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\n",
      "text/plain": [
       "<Figure size 432x288 with 1 Axes>"
      ]
     },
     "metadata": {
      "needs_background": "light"
     },
     "output_type": "display_data"
    }
   ],
   "source": [
    "file_path1 = r\"Datos/DatosPrueba/datos_prueba_1.csv\"\n",
    "setData = DataSet(file_path1)\n",
    "setData.drawData('ro')"
   ]
  },
  {
   "cell_type": "markdown",
   "metadata": {},
   "source": [
    "#### Resolución"
   ]
  },
  {
   "cell_type": "code",
<<<<<<< HEAD
   "execution_count": 16,
=======
   "execution_count": 115,
>>>>>>> 4d08abfe42df3715d8757b543c70ac21f208d098
   "metadata": {},
   "outputs": [
    {
     "name": "stdout",
     "output_type": "stream",
     "text": [
<<<<<<< HEAD
      "Elapsed time:  0.171875\n",
=======
      "Elapsed time:  0.265625\n",
>>>>>>> 4d08abfe42df3715d8757b543c70ac21f208d098
      "Min Threshold:  0.99\n",
      "Erased Points:  0\n"
     ]
    },
    {
     "data": {
<<<<<<< HEAD
      "image/png": "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\n",
=======
      "image/png": "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\n",
>>>>>>> 4d08abfe42df3715d8757b543c70ac21f208d098
      "text/plain": [
       "<Figure size 432x288 with 1 Axes>"
      ]
     },
     "metadata": {
      "needs_background": "light"
     },
     "output_type": "display_data"
    }
   ],
   "source": [
    "cs1 = ClusteringSolver(file_path1,2)\n",
    "cs1.learn(10,0.01,50,'c')\n",
    "sol1 = Solution(cs1)\n",
    "sol1.drawSolution(0.99)"
   ]
  },
  {
   "cell_type": "markdown",
   "metadata": {},
   "source": [
    "### Ejemplo 2 aportado por el tutor\n",
    "#### Carga de datos"
   ]
  },
  {
   "cell_type": "code",
<<<<<<< HEAD
   "execution_count": 17,
=======
   "execution_count": 116,
>>>>>>> 4d08abfe42df3715d8757b543c70ac21f208d098
   "metadata": {},
   "outputs": [
    {
     "data": {
      "image/png": "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\n",
      "text/plain": [
       "<Figure size 432x288 with 1 Axes>"
      ]
     },
     "metadata": {
      "needs_background": "light"
     },
     "output_type": "display_data"
    }
   ],
   "source": [
    "file_path2 = r\"C:Datos/DatosPrueba/datos_prueba_2.csv\"\n",
    "setData = DataSet(file_path2)\n",
    "setData.drawData('ro')"
   ]
  },
  {
   "cell_type": "markdown",
   "metadata": {},
   "source": [
    "#### Resolución"
   ]
  },
  {
   "cell_type": "code",
<<<<<<< HEAD
   "execution_count": 18,
=======
   "execution_count": 117,
>>>>>>> 4d08abfe42df3715d8757b543c70ac21f208d098
   "metadata": {
    "scrolled": true
   },
   "outputs": [
    {
     "name": "stdout",
     "output_type": "stream",
     "text": [
<<<<<<< HEAD
      "Elapsed time:  4.078125\n",
=======
      "Elapsed time:  5.984375\n",
>>>>>>> 4d08abfe42df3715d8757b543c70ac21f208d098
      "Min Threshold:  0.95\n",
      "Erased Points:  0\n"
     ]
    },
    {
     "data": {
<<<<<<< HEAD
      "image/png": "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\n",
=======
      "image/png": "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\n",
>>>>>>> 4d08abfe42df3715d8757b543c70ac21f208d098
      "text/plain": [
       "<Figure size 432x288 with 1 Axes>"
      ]
     },
     "metadata": {
      "needs_background": "light"
     },
     "output_type": "display_data"
    }
   ],
   "source": [
    "cs2 = ClusteringSolver(file_path2,3)\n",
    "cs2.learn(50,0.01,30,'c')\n",
    "sol2 = Solution(cs2)\n",
    "sol2.drawSolution(0.95)"
   ]
  },
  {
   "cell_type": "markdown",
   "metadata": {},
   "source": [
    "## Interfaz de usuario\n",
    "### Generación y resolución de ejemplos"
   ]
  },
  {
   "cell_type": "code",
<<<<<<< HEAD
   "execution_count": 19,
=======
   "execution_count": 118,
>>>>>>> 4d08abfe42df3715d8757b543c70ac21f208d098
   "metadata": {},
   "outputs": [
    {
     "data": {
      "application/vnd.jupyter.widget-view+json": {
<<<<<<< HEAD
       "model_id": "2050b500937d442e85580d64d4ec1cd3",
=======
       "model_id": "0654cc7a33ff4fbd9fb7aab6353d00df",
>>>>>>> 4d08abfe42df3715d8757b543c70ac21f208d098
       "version_major": 2,
       "version_minor": 0
      },
      "text/plain": [
       "interactive(children=(IntSlider(value=1, description='Circunference Num.:', max=10, min=1, style=SliderStyle(d…"
      ]
     },
     "metadata": {},
     "output_type": "display_data"
    },
    {
     "data": {
      "application/vnd.jupyter.widget-view+json": {
<<<<<<< HEAD
       "model_id": "a967620560694d5287c8e689e32fc815",
=======
       "model_id": "61908c062bb847f2aeaaa85e16f389f4",
>>>>>>> 4d08abfe42df3715d8757b543c70ac21f208d098
       "version_major": 2,
       "version_minor": 0
      },
      "text/plain": [
       "interactive(children=(Text(value='', description='File path to be saved:', placeholder='C:..', style=Descripti…"
      ]
     },
     "metadata": {},
     "output_type": "display_data"
    },
    {
     "data": {
      "application/vnd.jupyter.widget-view+json": {
<<<<<<< HEAD
       "model_id": "d217e3abf39546a88d13e120269bc320",
=======
       "model_id": "695a62660eab4836a06c16e3fd66e777",
>>>>>>> 4d08abfe42df3715d8757b543c70ac21f208d098
       "version_major": 2,
       "version_minor": 0
      },
      "text/plain": [
       "interactive(children=(IntSlider(value=1, description='Generations:', max=500, min=1), IntSlider(value=1, descr…"
      ]
     },
     "metadata": {},
     "output_type": "display_data"
    }
   ],
   "source": [
    "UI = ClusteringUI()\n",
    "UI.createAndSolve()"
   ]
  },
  {
   "cell_type": "markdown",
   "metadata": {},
   "source": [
    "### Carga y resolución de ejemplos"
   ]
  },
  {
   "cell_type": "code",
<<<<<<< HEAD
   "execution_count": 20,
=======
   "execution_count": 119,
>>>>>>> 4d08abfe42df3715d8757b543c70ac21f208d098
   "metadata": {},
   "outputs": [
    {
     "data": {
      "application/vnd.jupyter.widget-view+json": {
<<<<<<< HEAD
       "model_id": "a99a407e3c1b48f6a536766ffe7dc609",
=======
       "model_id": "bfbf3cc004d443ab9a4edcf03558774c",
>>>>>>> 4d08abfe42df3715d8757b543c70ac21f208d098
       "version_major": 2,
       "version_minor": 0
      },
      "text/plain": [
       "interactive(children=(Text(value='', description='File Path to load:', placeholder='C:..', style=DescriptionSt…"
      ]
     },
     "metadata": {},
     "output_type": "display_data"
    },
    {
     "data": {
      "application/vnd.jupyter.widget-view+json": {
<<<<<<< HEAD
       "model_id": "f75b3a0289814323a14e551a6e11d215",
=======
       "model_id": "b3762414af13435f9ff3ca213af03f57",
>>>>>>> 4d08abfe42df3715d8757b543c70ac21f208d098
       "version_major": 2,
       "version_minor": 0
      },
      "text/plain": [
       "interactive(children=(IntSlider(value=1, description='Generations:', max=500, min=1), IntSlider(value=1, descr…"
      ]
     },
     "metadata": {},
     "output_type": "display_data"
    }
   ],
   "source": [
    "UI2 = ClusteringUI()\n",
    "UI2.loadAndSolve()"
   ]
  },
  {
   "cell_type": "markdown",
   "metadata": {},
   "source": [
    "# Código descartado"
   ]
  },
  {
   "cell_type": "markdown",
   "metadata": {},
   "source": [
    "## Versión iterativa del algoritmo"
   ]
  },
  {
   "cell_type": "code",
   "execution_count": 18,
   "metadata": {},
   "outputs": [
    {
     "ename": "SyntaxError",
     "evalue": "EOF while scanning triple-quoted string literal (<ipython-input-18-87f751064139>, line 65)",
     "output_type": "error",
     "traceback": [
      "\u001b[1;36m  File \u001b[1;32m\"<ipython-input-18-87f751064139>\"\u001b[1;36m, line \u001b[1;32m65\u001b[0m\n\u001b[1;33m    return generation_cluster,auxThreshold\u001b[0m\n\u001b[1;37m                                          \n^\u001b[0m\n\u001b[1;31mSyntaxError\u001b[0m\u001b[1;31m:\u001b[0m EOF while scanning triple-quoted string literal\n"
     ]
    }
   ],
   "source": [
    "\"\"\"def learn_it(self,generations,iterations,mode):\n",
    "        \n",
    "        generation_cluster = []\n",
    "        auxThreshold = []\n",
    "        auxDist = 0\n",
    "        \n",
    "        count = 0\n",
    "        while count < generations:\n",
    "            #Initilization\n",
    "            self.initRandomCluster()\n",
    "        \n",
    "            for j in range(0,iterations):\n",
    "                                \n",
    "                data_to_cluster = []\n",
    "                data = self.calculateThreshold()\n",
    "                            \n",
    "                for k in range(0,len(self.clusters)):\n",
    "                                       \n",
    "                    cluster = []\n",
    "                           \n",
    "                    for z in range(0,len(data)):\n",
    "                                                \n",
    "                        if(k == data[z][1]):\n",
    "                            p = Point(data[z][0].x,data[z][0].y)\n",
    "                            cluster.append(p)\n",
    "                           \n",
    "                    data_to_cluster.append(cluster)\n",
    "                \n",
    "                dirty = 0\n",
    "                for k in range(0,len(data_to_cluster)):\n",
    "                    \n",
    "                    c,r = self.calculateCircunference(mode,data_to_cluster[k])\n",
    "        \n",
    "                    if r == -1:\n",
    "                        count -= 1\n",
    "                        dirty = 1\n",
    "                        break\n",
    "                        \n",
    "                    self.clusters[k].update(c,r)     \n",
    "            \n",
    "                if dirty == 1:\n",
    "                    break\n",
    "            \n",
    "            #Check Best Generation\n",
    "            if count <= 0:\n",
    "                generation_cluster = self.clusters\n",
    "                auxThreshold = data\n",
    "                \n",
    "                for j in range(0,len(auxThreshold)):\n",
    "                    auxDist += auxThreshold[j][0].calculateDistanceToCluster(generation_cluster[auxThreshold[j][1]])\n",
    "            else:\n",
    "                temp_cluster = self.clusters\n",
    "                temp_threshold = data\n",
    "                dist = 0\n",
    "                for j in range(0,len(temp_threshold)):\n",
    "                    dist += temp_threshold[j][0].calculateDistanceToCluster(temp_cluster[temp_threshold[j][1]])\n",
    "                \n",
    "                if(dist < auxDist):\n",
    "                    generation_cluster = temp_cluster\n",
    "                    auxThreshold = temp_threshold\n",
    "                    auxDist = dist                    \n",
    "            \n",
    "            count += 1\n",
    "        \n",
    "        return generation_cluster,auxThreshold\"\"\""
   ]
  },
  {
   "cell_type": "markdown",
   "metadata": {},
   "source": [
    "## Selección de puntos para el circuncentro"
   ]
  },
  {
   "cell_type": "code",
   "execution_count": null,
   "metadata": {},
   "outputs": [],
   "source": [
    "\"\"\"def CalculateBestFitPoints1(self,listOfPoints):     \n",
    "        \n",
    "        sumX = 0.0\n",
    "        sumY = 0.0\n",
    "        distance = 0.0\n",
    "        auxPoint = []\n",
    "        auxCenter = 0 \n",
    "        \n",
    "        for i in range(0,len(listOfPoints)):\n",
    "            \n",
    "            #furthests point from points        \n",
    "            for j in range(0,len(listOfPoints)):\n",
    "                actDistance = math.sqrt(pow(listOfPoints[j].x-listOfPoints[i].x,2)+pow(listOfPoints[j].y-listOfPoints[i].y,2))\n",
    "                if(actDistance > distance):\n",
    "                    distance = actDistance\n",
    "                    auxPoint = [listOfPoints[i],listOfPoints[j]]\n",
    "            \n",
    "            sumX += listOfPoints[i].x\n",
    "            sumY += listOfPoints[i].y\n",
    "        \n",
    "        p = Point(sumX/len(listOfPoints),sumY/len(listOfPoints))\n",
    "        \n",
    "        vecL = Point((auxPoint[0].x+auxPoint[1].x)/2,(auxPoint[0].y+auxPoint[1].y)/2)\n",
    "    \n",
    "        newVec = Point(p.x-vecL.x,p.y - vecL.y)\n",
    "        rect = Point(newVec.y, -newVec.x)\n",
    "        c = -(rect.x * p.x + rect.y * p.y)\n",
    "        \n",
    "        auxVal = 10\n",
    "        closestPoint = 0\n",
    "        for j in range(0,len(listOfPoints)):\n",
    "            \n",
    "            val = abs(rect.x * listOfPoints[j].x + rect.y * listOfPoints[j].y + c)\n",
    "            if(j == 0):\n",
    "                auxVal = val\n",
    "            else:\n",
    "                if(val < auxVal):\n",
    "                    auxVal = val\n",
    "                    closestPoint = listOfPoints[j]\n",
    "        \n",
    "       \n",
    "        plt.plot(auxPoint[0].x,auxPoint[0].y,'go')\n",
    "        plt.plot(closestPoint.x,closestPoint.y,'go')\n",
    "        plt.plot(auxPoint[1].x,auxPoint[1].y,'go')\n",
    "        \n",
    "        return p,auxPoint\"\"\""
   ]
  },
  {
   "cell_type": "code",
   "execution_count": 14,
   "metadata": {},
   "outputs": [],
   "source": [
    "\"\"\"def calculateBestFitPoints2(self,listOfPoints):     \n",
    "       \n",
    "        #first random point\n",
    "        p1 = rd.randint(0,len(listOfPoints)-1)\n",
    "        \n",
    "        #furthest point\n",
    "        dis = 0.0\n",
    "        p2 = 0\n",
    "        for i in range(0,len(listOfPoints)):\n",
    "            if(i != p1):\n",
    "                aux_dis = listOfPoints[p1].calculateDistanceToPoint(listOfPoints[i])\n",
    "                \n",
    "                if(aux_dis > dis):\n",
    "                    dis = aux_dis\n",
    "                    p2 = i\n",
    "                            \n",
    "        p3 = p1\n",
    "        while p3 == p1 or p3 == p2:\n",
    "            p3 = rd.randint(0,len(listOfPoints)-1)  \n",
    "        \n",
    "        return listOfPoints[p1],listOfPoints[p2],listOfPoints[p3]\"\"\""
   ]
  }
 ],
 "metadata": {
  "kernelspec": {
   "display_name": "Python 3",
   "language": "python",
   "name": "python3"
  },
  "language_info": {
   "codemirror_mode": {
    "name": "ipython",
    "version": 3
   },
   "file_extension": ".py",
   "mimetype": "text/x-python",
   "name": "python",
   "nbconvert_exporter": "python",
   "pygments_lexer": "ipython3",
   "version": "3.7.6"
  }
 },
 "nbformat": 4,
 "nbformat_minor": 4
}
