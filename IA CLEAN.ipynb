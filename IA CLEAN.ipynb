{
 "cells": [
  {
   "cell_type": "markdown",
   "metadata": {},
   "source": [
    "# IMPORTS Y PACKAGES"
   ]
  },
  {
   "cell_type": "code",
   "execution_count": 1,
   "metadata": {},
   "outputs": [],
   "source": [
    "#Packages to install\n",
    "\n",
    "#!pip install pandas\n",
    "#!pip install numpy\n",
    "#!pip install scipy\n",
    "#!pip install matplotlib\n",
    "#!pip install scikit-learn\n",
    "#!pip install ipywidgets"
   ]
  },
  {
   "cell_type": "code",
   "execution_count": 2,
   "metadata": {},
   "outputs": [],
   "source": [
    "#Imports\n",
    "\n",
    "import math\n",
    "import time as time\n",
    "import pandas as pd\n",
    "import numpy as np\n",
    "import scipy as sp\n",
    "import random as rd\n",
    "import ipywidgets as widgets\n",
    "import time\n",
    "from ipywidgets import HBox, VBox, interact, interact_manual,interactive\n",
    "from IPython.display import display,clear_output\n",
    "import matplotlib.pyplot as plt\n",
    "import matplotlib.animation as animation\n",
    "from copy import deepcopy\n",
    "from sklearn import preprocessing\n",
    "\n",
    "#Interactive plot\n",
    "#%matplotlib notebook\n",
    "#%matplotlib inline"
   ]
  },
  {
   "cell_type": "markdown",
   "metadata": {},
   "source": [
    "# CLASES"
   ]
  },
  {
   "cell_type": "markdown",
   "metadata": {},
   "source": [
    "## Clases para generar y mostrar ejemplos"
   ]
  },
  {
   "cell_type": "code",
   "execution_count": 3,
   "metadata": {},
   "outputs": [],
   "source": [
    "class DataSet:\n",
    "    \n",
    "    data = []\n",
    "    points = []\n",
    "    drawPoint = []\n",
    "    \n",
    "    def __init__(self, file_path):\n",
    "        self.file_path = file_path\n",
    "        self.__read(',')\n",
    "        \n",
    "    #Derived\n",
    "    def __read(self, sep):\n",
    "        self.data = pd.read_csv(self.file_path, sep=sep,encoding='utf8')\n",
    "        self.drawPoint = []\n",
    "        points = []\n",
    "        allX = []\n",
    "        allY =[]\n",
    "                \n",
    "        for index, row in self.data.iterrows():\n",
    "            p = Point(row['Coord X'],row['Coord Y'])\n",
    "            points.append(p)\n",
    "            allX.append(p.x)\n",
    "            allY.append(p.y)\n",
    "        \n",
    "        self.points = points\n",
    "        self.drawPoint.append(allX)\n",
    "        self.drawPoint.append(allY)\n",
    "        \n",
    "        return self.points\n",
    "        \n",
    "    def drawData(self, drawType):       \n",
    "        plt.plot(self.drawPoint[0],self.drawPoint[1],drawType)"
   ]
  },
  {
   "cell_type": "code",
   "execution_count": 4,
   "metadata": {},
   "outputs": [],
   "source": [
    "class Canvas:\n",
    "    \n",
    "    width = 0\n",
    "    height = 0\n",
    "    data = []\n",
    "    points = []\n",
    "\n",
    "    def __init__(self, width, height, data):\n",
    "        self.width = width\n",
    "        self.height = height\n",
    "        self.data = data\n",
    "        self.points = self.__dataToPoints()\n",
    "   \n",
    "    #Derived\n",
    "    def __dataToPoints(self):\n",
    "        res = []        \n",
    "        for i in range (0,len(self.data)):            \n",
    "            for j in range(0,self.data[i].numOfPoints):                \n",
    "                point=[]\n",
    "                point.append(self.data[i].xVals[j])\n",
    "                point.append(self.data[i].yVals[j])              \n",
    "                point.append(\"Circulo\"+str(i+1))\n",
    "                \n",
    "                res.append(point)\n",
    "        return res\n",
    "    \n",
    "    def rawPoints(self,rawData):\n",
    "        aux = []\n",
    "        res = []\n",
    "        \n",
    "        for i in range (0,len(rawData)):\n",
    "            \n",
    "            aux.append(rawData[i].x)\n",
    "            aux.append(rawData[i].y)\n",
    "            \n",
    "            res.append(aux)\n",
    "            \n",
    "            aux = []\n",
    "            \n",
    "        self.points = res;\n",
    "    \n",
    "    def drawData(self):\n",
    "        for i in range (0,len(self.points)):\n",
    "            plt.plot(self.points[i][0],self.points[i][1],'ro')\n",
    "            \n",
    "    def drawDataPlot(self):\n",
    "        xs = []\n",
    "        ys = []\n",
    "        \n",
    "        for i in range (0,len(self.points)):\n",
    "            xs.append(self.points[i][0])\n",
    "            ys.append(self.points[i][1])\n",
    "        \n",
    "        return self.data,xs,ys\n",
    "    \n",
    "    def removeRandomPoints(self,percentage):\n",
    "        if len(self.points) != 0:\n",
    "            pointsToRemove = int(len(self.points)*percentage)\n",
    "            newArrayLen = len(self.points)\n",
    "\n",
    "            for i in range (0, pointsToRemove):\n",
    "                j = rd.randint(0,newArrayLen-1)\n",
    "                self.points.pop(j)\n",
    "                newArrayLen -= 1\n",
    "        else:\n",
    "            print(\"Data debe tener al menos un punto.\")\n",
    "    \n",
    "    def insertNoise(self,devX,devY):\n",
    "        noiseX = np.random.normal(0,devX,len(self.points))\n",
    "        noiseY = np.random.normal(0,devY,len(self.points))\n",
    "        \n",
    "        for i in range(0,len(self.points)):\n",
    "            self.points[i][0] += noiseX[i]\n",
    "            self.points[i][1] += noiseY[i]\n",
    "            \n",
    "    def drawRandomCircunferencesRandomRadius(self,numOfCircunferences,precision):   \n",
    "        for i in range (0,numOfCircunferences):\n",
    "            \n",
    "            maxRad = 0\n",
    "            \n",
    "            if(self.width > self.height):\n",
    "                maxRad = self.height/2\n",
    "            else:\n",
    "                 maxRad = self.width/2\n",
    "            \n",
    "            radius = rd.uniform(1,maxRad)\n",
    "            centerX = rd.uniform(radius,self.width-radius)\n",
    "            centerY = rd.uniform(radius,self.height-radius)\n",
    "                       \n",
    "            c = Circunference(Point(centerX,centerY),radius,precision)\n",
    "            self.data.append(c)\n",
    "            c.draw()\n",
    "        \n",
    "        self.points = self.__dataToPoints()\n",
    "            \n",
    "    def drawRandomCircunferencesRadiusRange(self,numOfCircunferences, minRadius, maxRadius, precision):   \n",
    "        for i in range (0,numOfCircunferences):\n",
    "                       \n",
    "            radius = rd.uniform(minRadius,maxRadius)\n",
    "            centerX = rd.uniform(radius,self.width-radius)\n",
    "            centerY = rd.uniform(radius,self.height-radius)                       \n",
    "            c = Circunference(Point(centerX,centerY),radius,precision)\n",
    "            \n",
    "            self.data.append(c)\n",
    "            c.draw()\n",
    "            \n",
    "        self.points = self.__dataToPoints()\n",
    "        \n",
    "    def drawRandomCircunferencesRadiusRangePlot(self,numOfCircunferences, minRadius, maxRadius, precision):    \n",
    "        for i in range (0,numOfCircunferences):\n",
    "                       \n",
    "            radius = rd.uniform(minRadius,maxRadius)\n",
    "            centerX = rd.uniform(radius,self.width-radius)\n",
    "            centerY = rd.uniform(radius,self.height-radius)                       \n",
    "            c = Circunference(Point(centerX,centerY),radius,precision)\n",
    "            \n",
    "            self.data.append(c)\n",
    "            \n",
    "        self.points = self.__dataToPoints()"
   ]
  },
  {
   "cell_type": "markdown",
   "metadata": {},
   "source": [
    "## Clases del dominio del problema"
   ]
  },
  {
   "cell_type": "code",
   "execution_count": 5,
   "metadata": {},
   "outputs": [],
   "source": [
    "class Point:\n",
    "    def __init__(self, x, y):\n",
    "        self.x = x\n",
    "        self.y = y\n",
    "    \n",
    "    def getFurthestPoint(self,points):\n",
    "        res = Point(0,0)\n",
    "        auxDis = 0.0\n",
    "        \n",
    "        for i in range(0,len(points)):\n",
    "            dis = self.calculateDistanceToPoint(points[i])\n",
    "            \n",
    "            if(dis>auxDis):\n",
    "                auxDis = dis\n",
    "                res = points[i]\n",
    "            \n",
    "        return res, auxDis\n",
    "    \n",
    "    def calculateDistanceToCluster(self,c):\n",
    "        dis = self.calculateDistanceToPoint(c.center)\n",
    "        return abs(dis - c.radius)\n",
    "    \n",
    "    def calculateDistanceToCluster_noAbs(self,c):\n",
    "        dis = self.calculateDistanceToPoint(c.center)\n",
    "        return dis - c.radius\n",
    "    \n",
    "    def calculateThreshold(self,circles):\n",
    "        distances = []\n",
    "        distances_n = []\n",
    "        \n",
    "        for i in range(0,len(circles)):\n",
    "            distances.append(self.calculateDistanceToCluster(circles[i]))\n",
    "                \n",
    "        mod = 0.000000000000000000001\n",
    "        for i in range(0,len(distances)):\n",
    "            mod += distances[i]\n",
    "            \n",
    "        distances_n = abs(mod - np.array(distances))*(1/mod)\n",
    "        \n",
    "        return distances_n\n",
    "    \n",
    "    def calculatePerpendicular(self,p):\n",
    "        precision = 0.000001\n",
    "        \n",
    "        #Punto medio\n",
    "        xMean = (self.x + p.x)/2\n",
    "        yMean = (self.y + p.y)/2\n",
    "        \n",
    "        if(p.y - self.y == 0):\n",
    "            self.y += precision\n",
    "        \n",
    "        if(p.x - self.x == 0):\n",
    "            self.x += precision\n",
    "        \n",
    "        #Pendiente usando: y - y1 = m(x - x1) y  mp = -1/m\n",
    "        m = -1/((p.y - self.y)/(p.x - self.x))\n",
    "        \n",
    "        #Se devuelve [x,y,b]\n",
    "        perpendicular = ([-m,1,m*(-xMean)+yMean])\n",
    "        \n",
    "        return perpendicular\n",
    "    \n",
    "    def calculateDistanceToPoint(self,p):\n",
    "        disX = p.x - self.x\n",
    "        disY = p.y - self.y\n",
    "        dis = math.sqrt(disX*disX + disY*disY)\n",
    "        \n",
    "        return dis\n",
    "    \n",
    "    def equals(self,p):\n",
    "        if(self.x == p.x and self.y == p.y):\n",
    "            return 1\n",
    "        else:\n",
    "            return 0\n",
    "        \n",
    "    def print(self):\n",
    "        print(\"(\",self.x,\",\",self.y,\")\")"
   ]
  },
  {
   "cell_type": "code",
   "execution_count": 6,
   "metadata": {},
   "outputs": [],
   "source": [
    "class Circunference:\n",
    "    \n",
    "    center = 0\n",
    "    radius = 0\n",
    "    numOfPoints = 0\n",
    "    xVals = []\n",
    "    yVals = []\n",
    "    \n",
    "    def __init__(self, center, radius, numOfPoints):\n",
    "        self.center = center\n",
    "        self.radius = radius\n",
    "        self.numOfPoints = numOfPoints\n",
    "        self.__calculate()\n",
    "      \n",
    "    #Derived\n",
    "    def __calculate(self):\n",
    "        self.xVals = []\n",
    "        self.yVals = []\n",
    "        \n",
    "        alpha = 2*math.pi/self.numOfPoints\n",
    "        i = 0     \n",
    "        while i < 2*math.pi:\n",
    "            self.xVals.append(self.center.x + self.radius*math.cos(i))\n",
    "            self.yVals.append(self.center.y + self.radius*math.sin(i))\n",
    "            i += alpha\n",
    "            \n",
    "    def update(self, center, radius):\n",
    "        self.center = center\n",
    "        self.radius = radius\n",
    "        self.__calculate()\n",
    "    \n",
    "    def draw(self):\n",
    "        if(len(self.xVals) == 0 or len(self.yVals) == 0):\n",
    "            print('Error when drawing: Values are empty')\n",
    "        else:\n",
    "            xPrimeVals = self.xVals\n",
    "            xPrimeVals.append(xPrimeVals[0])\n",
    "            \n",
    "            yPrimeVals = self.yVals\n",
    "            yPrimeVals.append(yPrimeVals[0])\n",
    "            \n",
    "            plt.plot(xPrimeVals,yPrimeVals)\n",
    "            plt.plot(self.center.x,self.center.y,'bo')\n",
    "    \n",
    "    def drawPlot(self):\n",
    "        fig = plt.figure('fig')\n",
    "        ax = fig.add_subplot(111)\n",
    "                \n",
    "        if(len(self.xVals) == 0 or len(self.yVals) == 0):\n",
    "            print('Error when drawing: Values are empty')\n",
    "        else:\n",
    "            xPrimeVals = self.xVals\n",
    "            xPrimeVals.append(xPrimeVals[0])\n",
    "            \n",
    "            yPrimeVals = self.yVals\n",
    "            yPrimeVals.append(yPrimeVals[0])\n",
    "            \n",
    "            ax.plot(xPrimeVals,yPrimeVals)\n",
    "            ax.plot(self.center.x,self.center.y,'bo')\n",
    "            \n",
    "            return fig,ax\n",
    "            \n",
    "    def drawSubplot(self,axs,it):\n",
    "        if(len(self.xVals) == 0 or len(self.yVals) == 0):\n",
    "            print('Error when drawing: Values are empty')\n",
    "        else:\n",
    "            xPrimeVals = self.xVals\n",
    "            xPrimeVals.append(xPrimeVals[0])\n",
    "            \n",
    "            yPrimeVals = self.yVals\n",
    "            yPrimeVals.append(yPrimeVals[0])\n",
    "            \n",
    "            axs[it].plot(xPrimeVals,yPrimeVals)\n",
    "            axs[it].plot(self.center.x,self.center.y,'bo')\n",
    "                 \n",
    "    def calculateWithCircumcenter(points):\n",
    "        randomPoints = rd.sample(points,3)\n",
    "        p1,p2,p3 = randomPoints[0],randomPoints[1],randomPoints[2]\n",
    "        \n",
    "        #Mediatrices\n",
    "        perp1 = p1.calculatePerpendicular(p2)\n",
    "        perp2 = p1.calculatePerpendicular(p3)\n",
    "        \n",
    "        A = [[perp1[0],perp1[1]],[perp2[0],perp2[1]]]\n",
    "        \n",
    "        #Circuncentro\n",
    "        if(np.linalg.det(A)==0):\n",
    "            return Point(0,0),-1\n",
    "        else:\n",
    "            B = [[perp1[2]],[perp2[2]]]\n",
    "            X = np.linalg.solve(A,B)\n",
    "            circumcenter = Point(X[0],X[1])\n",
    "            \n",
    "            #Radio\n",
    "            radius = circumcenter.calculateDistanceToPoint(p1)\n",
    "\n",
    "            return circumcenter, radius\n",
    "        \n",
    "    def calculateWithBarycentre(list_points):\n",
    "        sumX = 0\n",
    "        sumY = 0\n",
    "        radius = 0\n",
    "        \n",
    "        for i in range(0,len(list_points)):\n",
    "            sumX = sumX + list_points[i].x\n",
    "            sumY = sumY + list_points[i].y\n",
    "        \n",
    "        center = Point(sumX/len(list_points),sumY/len(list_points))\n",
    "        \n",
    "        for i in range(0,len(list_points)):\n",
    "            radius = radius + center.calculateDistanceToPoint(list_points[i])\n",
    "        \n",
    "        radius = radius/len(list_points)\n",
    "        \n",
    "        return center,radius"
   ]
  },
  {
   "cell_type": "markdown",
   "metadata": {},
   "source": [
    "## Clases del algoritmo"
   ]
  },
  {
   "cell_type": "code",
   "execution_count": 7,
   "metadata": {},
   "outputs": [],
   "source": [
    "class ClusteringSolver:\n",
    "    \n",
    "    clustersNumber = 0\n",
    "    points = []\n",
    "    \n",
    "    clusters = []\n",
    "    threshold = []\n",
    "    \n",
    "    sol_clusters = []\n",
    "    sol_threshold = []\n",
    "    \n",
    "    def __init__(self,filePath,clustersNumber):\n",
    "        self.clustersNumber = clustersNumber\n",
    "        self.points = DataSet(filePath).points\n",
    "        \n",
    "        self.clusters = []\n",
    "                    \n",
    "    def initRandomClusters(self):\n",
    "        initialClusters = []\n",
    "            \n",
    "        for i in range(0,self.clustersNumber):\n",
    "            \n",
    "            indexOfRandomPoint = rd.randint(0,len(self.points)-1)\n",
    "            randomPoint = self.points[indexOfRandomPoint]\n",
    "            randomRadius = rd.uniform(1,10)\n",
    "\n",
    "            cluster = Circunference(randomPoint,randomRadius,20)            \n",
    "            initialClusters.append(cluster)\n",
    "\n",
    "        self.clusters = initialClusters\n",
    "    \n",
    "    def calculateThreshold(self):\n",
    "        threshold = []\n",
    "        \n",
    "        for i in range(0,len(self.points)):\n",
    "            point = self.points[i]\n",
    "            threshold.append(point.calculateThreshold(self.clusters))\n",
    "        \n",
    "        return threshold\n",
    "       \n",
    "    def getClustersAssignment(self,threshold):\n",
    "        clustersAssignment = []  \n",
    "        \n",
    "        for i in range(0,len(threshold)):\n",
    "            tuplePointCluster = []\n",
    "            clusterIndex = 0\n",
    "            thresholdVal = 0\n",
    "            point = Point(0,0)\n",
    "            \n",
    "            for j in range(0,len(threshold[i])):\n",
    "                if(j==0):\n",
    "                    thresholdVal = threshold[i][j]\n",
    "                    point = self.points[i]\n",
    "                    clusterIndex = j\n",
    "                else:\n",
    "                    if(threshold[i][j] > thresholdVal):\n",
    "                        thresholdVal = threshold[i][j]\n",
    "                        point = self.points[i]\n",
    "                        clusterIndex = j\n",
    "                        \n",
    "            tuplePointCluster.append(point)\n",
    "            tuplePointCluster.append(clusterIndex)\n",
    "            clustersAssignment.append(tuplePointCluster)\n",
    "            \n",
    "            tuplePointCluster = []\n",
    "            clusterIndex = 0\n",
    "            point = Point(0,0)\n",
    "            thresholdVal = 0\n",
    "    \n",
    "        return clustersAssignment\n",
    "    \n",
    "    def groupPointsByCluster(self,clustersAssignment):\n",
    "        \n",
    "        pointsGroupedByCluster = []\n",
    "        \n",
    "        for k in range(0,len(self.clusters)):\n",
    "                                       \n",
    "            cluster = []\n",
    "\n",
    "            for z in range(0,len(clustersAssignment)):\n",
    "\n",
    "                if(k == clustersAssignment[z][1]):\n",
    "                    point = Point(clustersAssignment[z][0].x,clustersAssignment[z][0].y)\n",
    "                    cluster.append(point)\n",
    "\n",
    "            pointsGroupedByCluster.append(cluster)\n",
    "        \n",
    "        return pointsGroupedByCluster\n",
    "    \n",
    "    def calculateCluster(self,mode,points):\n",
    "        if len(points) == 0:\n",
    "            center = Point(0,0)\n",
    "            radius = -1\n",
    "        else:\n",
    "            if mode == 'c' and len(points)>2:            \n",
    "                radius = -1\n",
    "\n",
    "                while radius == -1:\n",
    "                    center, radius = Circunference.calculateWithCircumcenter(points)        \n",
    "            else:\n",
    "                    center, radius = Circunference.calculateWithBarycentre(points)  \n",
    "        \n",
    "        return center, radius\n",
    "        \n",
    "    def learn(self,generations,precision,limit,mode):\n",
    "        \n",
    "        initTime = time.process_time()\n",
    "        \n",
    "        generationNumber = 0\n",
    "        generationClusters = []\n",
    "        generationAssignment = []    \n",
    "        generationDist = 0       \n",
    "\n",
    "        while generationNumber < generations:\n",
    "        \n",
    "            self.initRandomClusters()\n",
    "            \n",
    "            keepIterating = 1\n",
    "            previousIteration = []\n",
    "            \n",
    "            limIt = 0\n",
    "            while keepIterating == 1:\n",
    "                            \n",
    "                previousIteration = deepcopy(self.clusters)\n",
    "                                \n",
    "                self.threshold = self.calculateThreshold()\n",
    "                clustersAssignment = self.getClustersAssignment(self.threshold)\n",
    "                pointsGroupedByCluster = self.groupPointsByCluster(clustersAssignment)\n",
    "                \n",
    "                dirtyGen = 0\n",
    "                for k in range(0,len(pointsGroupedByCluster)):\n",
    "                    center,radius = self.calculateCluster(mode,pointsGroupedByCluster[k])\n",
    "                    \n",
    "                    if radius == -1:\n",
    "                        generationNumber -= 1\n",
    "                        dirtyGen = 1\n",
    "                        break\n",
    "                        \n",
    "                    self.clusters[k].update(center,radius)\n",
    "            \n",
    "                if dirtyGen == 1:\n",
    "                    break\n",
    "                             \n",
    "                dirtyIt = 0\n",
    "                for j in range(0,len(previousIteration)):\n",
    "                    \n",
    "                    prevCenter = previousIteration[j].center\n",
    "                    prevRadius = previousIteration[j].radius\n",
    "                    \n",
    "                    actualCenter = self.clusters[j].center\n",
    "                    actualRadius = self.clusters[j].radius\n",
    "                    \n",
    "                    centerCond = prevCenter.calculateDistanceToPoint(actualCenter) > precision\n",
    "                    radiusCond = abs(prevRadius - actualRadius) > precision\n",
    "\n",
    "                    if centerCond or radiusCond:\n",
    "                        dirtyIt = 1\n",
    "                \n",
    "                if(dirtyIt == 0 or limIt == limit):                   \n",
    "                    keepIterating = 0       \n",
    "                \n",
    "                limIt += 1\n",
    "            \n",
    "            if generationNumber <= 0:\n",
    "                generationClusters = self.clusters\n",
    "                generationAssignment = clustersAssignment\n",
    "                \n",
    "                for j in range(0,len(generationAssignment)):\n",
    "                    generationDist += generationAssignment[j][0].calculateDistanceToCluster(generationClusters[generationAssignment[j][1]])\n",
    "            else:\n",
    "                tempClusters = self.clusters\n",
    "                tempAssignment = clustersAssignment\n",
    "                dist = 0\n",
    "                for j in range(0,len(tempAssignment)):\n",
    "                    dist += tempAssignment[j][0].calculateDistanceToCluster(tempClusters[tempAssignment[j][1]])\n",
    "                \n",
    "                if(dist < generationDist):\n",
    "                    generationClusters = tempClusters\n",
    "                    generationAssignment = tempAssignment\n",
    "                    generationDist = dist\n",
    "            \n",
    "            generationNumber += 1\n",
    "        \n",
    "        self.sol_clusters = generationClusters\n",
    "        self.sol_threshold = generationAssignment\n",
    "        \n",
    "        print(\"Elapsed time: \",time.process_time()-initTime)"
   ]
  },
  {
   "cell_type": "code",
   "execution_count": 8,
   "metadata": {},
   "outputs": [],
   "source": [
    "class Solution:\n",
    "    \n",
    "    clusteringSolver = 0\n",
    "    finalClusters = []\n",
    "    finalAssignment = []\n",
    "    \n",
    "    def __init__(self, clusteringSolver):\n",
    "        self.clusteringSolver = clusteringSolver\n",
    "        self.finalClusters = self.clusteringSolver.sol_clusters\n",
    "        self.finalAssignment = self.clusteringSolver.sol_threshold\n",
    "       \n",
    "    def eraseNoise(self,minThreshold):\n",
    "        pointsToErase = []\n",
    "        \n",
    "        for i in range(len(self.finalAssignment)-1,-1,-1):\n",
    "            \n",
    "            threshold = self.finalAssignment[i][0].calculateThreshold(self.finalClusters)\n",
    "            \n",
    "            if(threshold[self.finalAssignment[i][1]] < minThreshold):\n",
    "                pointsToErase.append(i)\n",
    "                               \n",
    "        for i in range(0,len(pointsToErase)):\n",
    "            self.finalAssignment.pop(pointsToErase[i])\n",
    "        \n",
    "    def drawSolution(self,minDistanceErase):\n",
    "        self.eraseNoise(minDistanceErase)\n",
    "        \n",
    "        for i in range (0,len(self.finalClusters)):\n",
    "            self.finalClusters[i].draw()\n",
    "\n",
    "        for i in range(0,len(self.finalAssignment)):\n",
    "            if(self.finalAssignment[i][1] == 0):\n",
    "                plt.plot(self.finalAssignment[i][0].x,self.finalAssignment[i][0].y,'go')\n",
    "            elif(self.finalAssignment[i][1] == 1):\n",
    "                plt.plot(self.finalAssignment[i][0].x,self.finalAssignment[i][0].y,'ko')\n",
    "            elif(self.finalAssignment[i][1] == 2):\n",
    "                plt.plot(self.finalAssignment[i][0].x,self.finalAssignment[i][0].y,'ro')\n",
    "            elif(self.finalAssignment[i][1] == 3):\n",
    "                plt.plot(self.finalAssignment[i][0].x,self.finalAssignment[i][0].y,'co')\n",
    "            elif(self.finalAssignment[i][1] == 4):\n",
    "                plt.plot(self.finalAssignment[i][0].x,self.finalAssignment[i][0].y,'mo')\n",
    "            elif(self.finalAssignment[i][1] == 5):\n",
    "                plt.plot(self.finalAssignment[i][0].x,self.finalAssignment[i][0].y,'yo')\n",
    "            else:\n",
    "                plt.plot(self.finalAssignment[i][0].x,self.finalAssignment[i][0].y,'0.5')\n",
    "                "
   ]
  },
  {
   "cell_type": "markdown",
   "metadata": {},
   "source": [
    "## Clases de interfaz"
   ]
  },
  {
   "cell_type": "code",
   "execution_count": 12,
   "metadata": {},
   "outputs": [],
   "source": [
    "class generateUI():\n",
    "    \n",
    "    canvasCC = Canvas(100,100,[])\n",
    "            \n",
    "    def createAndSolve(self):\n",
    "        \n",
    "        filePath = widgets.Text(\n",
    "            value='',\n",
    "            placeholder='C:..',\n",
    "            description='File Path:',\n",
    "            disabled=False\n",
    "        )\n",
    "        \n",
    "        canvasMaxX = widgets.IntSlider(\n",
    "            value = 100,\n",
    "            min = 1,\n",
    "            max = 500,\n",
    "            description = 'Max X:',\n",
    "            orientation = 'horizontal'\n",
    "        )\n",
    "\n",
    "        canvasMaxY = widgets.IntSlider(\n",
    "            value = 100,\n",
    "            min = 1,\n",
    "            max = 500,\n",
    "            description = 'Max Y:',\n",
    "            orientation = 'horizontal'\n",
    "        )\n",
    "\n",
    "        numCircles = widgets.IntSlider(\n",
    "            value = 1,\n",
    "            min = 1,\n",
    "            max = 10,\n",
    "            description = 'Nº Circles:',\n",
    "            orientation = 'horizontal'\n",
    "        )\n",
    "                \n",
    "        numCirclesSol = widgets.IntSlider(\n",
    "            value = 1,\n",
    "            min = 1,\n",
    "            max = 10,\n",
    "            description = 'Nº Circles:',\n",
    "            orientation = 'horizontal'\n",
    "        )\n",
    "\n",
    "        rangeRadius = widgets.IntRangeSlider(\n",
    "            value = [5,10],\n",
    "            min = 1,\n",
    "            max = 10,\n",
    "            description = 'Radius:',\n",
    "            orientation = 'horizontal'\n",
    "        )\n",
    "\n",
    "        circlePrecision = widgets.IntSlider(\n",
    "            value = 20,\n",
    "            min = 1,\n",
    "            max = 20,\n",
    "            description = 'Circle Precision:',\n",
    "            orientation = 'horizontal'\n",
    "        )\n",
    "\n",
    "        removePercentage = widgets.FloatSlider(\n",
    "            value = 0.1,\n",
    "            min = 0,\n",
    "            max = 1,\n",
    "            step = 0.1,\n",
    "            description = 'Remove %:',\n",
    "            orientation = 'horizontal'\n",
    "        )\n",
    "\n",
    "        noisePercentage = widgets.FloatSlider(\n",
    "            value = 0.1,\n",
    "            min = 0,\n",
    "            max = 1.5,\n",
    "            step = 0.1,\n",
    "            description = 'Noise %:',\n",
    "            orientation = 'horizontal'\n",
    "        )\n",
    "\n",
    "        genNumber = widgets.IntSlider(\n",
    "            value = 1,\n",
    "            min = 1,\n",
    "            max = 500,\n",
    "            description = 'Generations:',\n",
    "            orientation = 'horizontal'\n",
    "        )\n",
    "\n",
    "        precisionSolver = widgets.FloatSlider(\n",
    "            value = 0.1,\n",
    "            min = 0,\n",
    "            max = 1,\n",
    "            step = 0.1,\n",
    "            description = 'Precision:',\n",
    "            orientation = 'horizontal'\n",
    "        )\n",
    "\n",
    "        maxLimitIt = widgets.IntSlider(\n",
    "            value = 1,\n",
    "            min = 1,\n",
    "            max = 50,\n",
    "            description = 'Max It:',\n",
    "            orientation = 'horizontal'\n",
    "        )\n",
    "\n",
    "        mode = widgets.SelectMultiple(\n",
    "            options=['b','c'],\n",
    "            value=['b'],\n",
    "            description='Mode',\n",
    "            disabled=False\n",
    "        )\n",
    "\n",
    "        noiseReduction = widgets.FloatSlider(\n",
    "            value = 0.1,\n",
    "            min = 0.850,\n",
    "            max = 1,\n",
    "            step = 0.001,\n",
    "            readout_format='.3f',\n",
    "            description = 'Threshold:',\n",
    "            orientation = 'horizontal'\n",
    "        )\n",
    "                \n",
    "        @interact_manual(nc=numCircles,rd=rangeRadius,cp=circlePrecision)\n",
    "        def generate(nc,rd,cp):\n",
    "\n",
    "            global canvasCC\n",
    "            plt.figure(2)\n",
    "\n",
    "            canvas = Canvas(100,100,[])\n",
    "            canvas.drawRandomCircunferencesRadiusRangePlot(nc,rd[0],rd[1],cp)\n",
    "\n",
    "            canvasCC = deepcopy(canvas)\n",
    "\n",
    "            clusters,xs,ys = canvas.drawDataPlot()\n",
    "\n",
    "            for i in range(0,len(clusters)):\n",
    "                clusters[i].draw()\n",
    "\n",
    "            plt.plot(xs,ys,'ro')\n",
    "            plt.show()\n",
    "\n",
    "        @interact_manual(fp=filePath,rp=removePercentage,nop=noisePercentage)\n",
    "        def edit(fp,rp,nop):\n",
    "            plt.figure(2)\n",
    "\n",
    "            edit_canvas = deepcopy(canvasCC)\n",
    "            edit_canvas.removeRandomPoints(rp)\n",
    "            edit_canvas.insertNoise(nop,nop)\n",
    "\n",
    "            clusters,xs,ys = edit_canvas.drawDataPlot()\n",
    "\n",
    "            for i in range(0,len(clusters)):\n",
    "                clusters[i].draw()\n",
    "\n",
    "            plt.plot(xs,ys,'ro')\n",
    "            plt.show()\n",
    "\n",
    "            file_path_ex = fp\n",
    "            headers = ['Coord X','Coord Y', 'Circulo']\n",
    "            df = pd.DataFrame(edit_canvas.points, columns= headers)\n",
    "            df = df.sample(frac=1)\n",
    "            df.to_csv(file_path_ex, columns=headers, index=False, encoding=\"utf8\")\n",
    "\n",
    "            setData = DataSet(file_path_ex)\n",
    "\n",
    "        @interact_manual(gn=genNumber,nc=numCirclesSol,p=precisionSolver,mxL=maxLimitIt,m=mode,nr=noiseReduction)\n",
    "        def solve(gn,nc,p,mxL,m,nr):\n",
    "\n",
    "            file_path_ex = filePath.value\n",
    "            csExample = ClusteringSolver(file_path_ex,nc)\n",
    "            csExample.learn(gn,p,mxL,m[0])\n",
    "            solEx = Solution(csExample)\n",
    "            solEx.drawSolution(nr)\n",
    "            \n",
    "    def loadAndSolve(self):\n",
    "        \n",
    "        filePath = widgets.Text(\n",
    "            value='',\n",
    "            placeholder='C:..',\n",
    "            description='File Path:',\n",
    "            disabled=False\n",
    "        )\n",
    "        \n",
    "        numCircles = widgets.IntSlider(\n",
    "            value = 1,\n",
    "            min = 1,\n",
    "            max = 10,\n",
    "            description = 'Nº Circles:',\n",
    "            orientation = 'horizontal'\n",
    "        )\n",
    "        \n",
    "        genNumber = widgets.IntSlider(\n",
    "            value = 1,\n",
    "            min = 1,\n",
    "            max = 500,\n",
    "            description = 'Generations:',\n",
    "            orientation = 'horizontal'\n",
    "        )\n",
    "\n",
    "        precisionSolver = widgets.FloatSlider(\n",
    "            value = 0.1,\n",
    "            min = 0,\n",
    "            max = 1,\n",
    "            step = 0.1,\n",
    "            description = 'Precision:',\n",
    "            orientation = 'horizontal'\n",
    "        )\n",
    "\n",
    "        maxLimitIt = widgets.IntSlider(\n",
    "            value = 1,\n",
    "            min = 1,\n",
    "            max = 50,\n",
    "            description = 'Max It:',\n",
    "            orientation = 'horizontal'\n",
    "        )\n",
    "\n",
    "        mode = widgets.SelectMultiple(\n",
    "            options=['b','c'],\n",
    "            value=['b'],\n",
    "            description='Mode',\n",
    "            disabled=False\n",
    "        )\n",
    "\n",
    "        noiseReduction = widgets.FloatSlider(\n",
    "            value = 0.1,\n",
    "            min = 0.850,\n",
    "            max = 1,\n",
    "            step = 0.001,\n",
    "            readout_format='.3f',\n",
    "            description = 'Threshold:',\n",
    "            orientation = 'horizontal'\n",
    "        )\n",
    "        \n",
    "        removePercentage = widgets.FloatSlider(\n",
    "            value = 0.1,\n",
    "            min = 0,\n",
    "            max = 1,\n",
    "            step = 0.1,\n",
    "            description = 'Remove %:',\n",
    "            orientation = 'horizontal'\n",
    "        )\n",
    "\n",
    "        noisePercentage = widgets.FloatSlider(\n",
    "            value = 0.1,\n",
    "            min = 0,\n",
    "            max = 1.5,\n",
    "            step = 0.1,\n",
    "            description = 'Noise %:',\n",
    "            orientation = 'horizontal'\n",
    "        )\n",
    "        \n",
    "        @interact_manual(fp=filePath)\n",
    "        def edit_load(fp):\n",
    "            \n",
    "            setData = DataSet(fp)\n",
    "            setData.drawData('ro')\n",
    "            \n",
    "        @interact_manual(gn=genNumber, nc=numCircles,p=precisionSolver,mxL=maxLimitIt,m=mode,nr=noiseReduction)\n",
    "        def solve_load(gn,nc,p,mxL,m,nr):\n",
    "            \n",
    "            file_path_ex = filePath.value         \n",
    "            csExample = ClusteringSolver(file_path_ex,nc)\n",
    "            csExample.learn(gn,p,mxL,m[0])\n",
    "            solEx = Solution(csExample)\n",
    "            solEx.drawSolution(nr)"
   ]
  },
  {
   "cell_type": "markdown",
   "metadata": {},
   "source": [
    "# EJEMPLOS\n",
    "## Generador de Ejemplos\n",
    "### Generamos un Canvas de ejemplo"
   ]
  },
  {
   "cell_type": "code",
   "execution_count": 274,
   "metadata": {},
   "outputs": [
    {
     "data": {
      "image/png": "[encoded data removed]",
      "text/plain": [
       "<Figure size 432x288 with 1 Axes>"
      ]
     },
     "metadata": {
      "needs_background": "light"
     },
     "output_type": "display_data"
    }
   ],
   "source": [
    "canvas = Canvas(100,100,[])\n",
    "canvas.drawRandomCircunferencesRadiusRange(6,5,10,20)\n",
    "canvasCopy = deepcopy(canvas)\n",
    "canvas.removeRandomPoints(0.3)\n",
    "canvas.insertNoise(0.5,0.9)\n",
    "canvas.drawData()"
   ]
  },
  {
   "cell_type": "code",
   "execution_count": 275,
   "metadata": {},
   "outputs": [],
   "source": [
    "canvas2 = deepcopy(canvasCopy)"
   ]
  },
  {
   "cell_type": "code",
   "execution_count": 276,
   "metadata": {},
   "outputs": [
    {
     "data": {
      "image/png": "[encoded data removed]",
      "text/plain": [
       "<Figure size 432x288 with 1 Axes>"
      ]
     },
     "metadata": {
      "needs_background": "light"
     },
     "output_type": "display_data"
    }
   ],
   "source": [
    "canvas2.removeRandomPoints(0.3)\n",
    "canvas2.insertNoise(0.1,0.1)\n",
    "canvas2.drawData()"
   ]
  },
  {
   "cell_type": "markdown",
   "metadata": {},
   "source": [
    "### Guardamos el Canvas en un archivo Excel\n"
   ]
  },
  {
   "cell_type": "code",
   "execution_count": 277,
   "metadata": {},
   "outputs": [],
   "source": [
    "file_path_ex = r\"Datos/canvas_export2.csv\"\n",
    "headers = ['Coord X','Coord Y', 'Circulo']\n",
    "df = pd.DataFrame(canvas.points, columns= headers)\n",
    "df = df.sample(frac=1)\n",
    "df.to_csv(file_path_ex, columns=headers, index=False, encoding=\"utf8\")"
   ]
  },
  {
   "cell_type": "markdown",
   "metadata": {},
   "source": [
    "### Convertimos el archivo Excel en un DataSet y mostramos los datos"
   ]
  },
  {
   "cell_type": "code",
   "execution_count": 278,
   "metadata": {},
   "outputs": [
    {
     "data": {
      "image/png": "[encoded data removed]",
      "text/plain": [
       "<Figure size 432x288 with 1 Axes>"
      ]
     },
     "metadata": {
      "needs_background": "light"
     },
     "output_type": "display_data"
    }
   ],
   "source": [
    "setData = DataSet(file_path_ex)\n",
    "setData.drawData('ro')"
   ]
  },
  {
   "cell_type": "markdown",
   "metadata": {},
   "source": [
    "### Ejecutamos el algoritmo y mostramos la solución\n",
    "<ol>\n",
    "<li>Instaciamos un objeto ClusteringSolver con el archivo Excel y el número de clusters.</li>\n",
    "<li>Ejecutamos el algoritmo.</li>\n",
    "<li>Instaciamos un objeto Solution con el resultado del algoritmo.</li>\n",
    "<li>Mostramos la solución eliminando el ruido que deseemos.</li>\n",
    "</ol>"
   ]
  },
  {
   "cell_type": "code",
   "execution_count": 279,
   "metadata": {},
   "outputs": [
    {
     "name": "stdout",
     "output_type": "stream",
     "text": [
      "Elapsed time:  8.515625\n"
     ]
    },
    {
     "data": {
      "image/png": "[encoded data removed]",
      "text/plain": [
       "<Figure size 432x288 with 1 Axes>"
      ]
     },
     "metadata": {
      "needs_background": "light"
     },
     "output_type": "display_data"
    }
   ],
   "source": [
    "csExample = ClusteringSolver(file_path_ex,6)\n",
    "csExample.learn(50,0.01,30,'c')\n",
    "solEx = Solution(csExample)\n",
    "solEx.drawSolution(0.8)"
   ]
  },
  {
   "cell_type": "markdown",
   "metadata": {},
   "source": [
    "## Ejemplos aportados por el tutor\n",
    "### Ejemplo 1"
   ]
  },
  {
   "cell_type": "code",
   "execution_count": 280,
   "metadata": {},
   "outputs": [
    {
     "data": {
      "image/png": "[encoded data removed]",
      "text/plain": [
       "<Figure size 432x288 with 1 Axes>"
      ]
     },
     "metadata": {
      "needs_background": "light"
     },
     "output_type": "display_data"
    }
   ],
   "source": [
    "file_path1 = r\"Datos/datos_prueba_1.csv\"\n",
    "setData = DataSet(file_path1)\n",
    "setData.drawData('ro')"
   ]
  },
  {
   "cell_type": "code",
   "execution_count": 281,
   "metadata": {},
   "outputs": [
    {
     "name": "stdout",
     "output_type": "stream",
     "text": [
      "Elapsed time:  0.296875\n"
     ]
    },
    {
     "data": {
      "image/png": "[encoded data removed]",
      "text/plain": [
       "<Figure size 432x288 with 1 Axes>"
      ]
     },
     "metadata": {
      "needs_background": "light"
     },
     "output_type": "display_data"
    }
   ],
   "source": [
    "cs1 = ClusteringSolver(file_path1,2)\n",
    "cs1.learn(10,0.01,50,'c')\n",
    "sol1 = Solution(cs1)\n",
    "sol1.drawSolution(0.99)"
   ]
  },
  {
   "cell_type": "markdown",
   "metadata": {},
   "source": [
    "### Ejemplo 2"
   ]
  },
  {
   "cell_type": "code",
   "execution_count": 282,
   "metadata": {},
   "outputs": [
    {
     "data": {
      "image/png": "[encoded data removed]",
      "text/plain": [
       "<Figure size 432x288 with 1 Axes>"
      ]
     },
     "metadata": {
      "needs_background": "light"
     },
     "output_type": "display_data"
    }
   ],
   "source": [
    "file_path2 = r\"C:Datos/datos_prueba_2.csv\"\n",
    "setData = DataSet(file_path2)\n",
    "setData.drawData('ro')"
   ]
  },
  {
   "cell_type": "code",
   "execution_count": 283,
   "metadata": {
    "scrolled": true
   },
   "outputs": [
    {
     "name": "stdout",
     "output_type": "stream",
     "text": [
      "Elapsed time:  5.609375\n"
     ]
    },
    {
     "data": {
      "image/png": "[encoded data removed]",
      "text/plain": [
       "<Figure size 432x288 with 1 Axes>"
      ]
     },
     "metadata": {
      "needs_background": "light"
     },
     "output_type": "display_data"
    }
   ],
   "source": [
    "cs2 = ClusteringSolver(file_path2,3)\n",
    "cs2.learn(50,0.01,30,'c')\n",
    "sol2 = Solution(cs2)\n",
    "sol2.drawSolution(0.95)"
   ]
  },
  {
   "cell_type": "markdown",
   "metadata": {},
   "source": [
    "## Interfaz de usuario"
   ]
  },
  {
   "cell_type": "code",
   "execution_count": 13,
   "metadata": {},
   "outputs": [
    {
     "data": {
      "application/vnd.jupyter.widget-view+json": {
       "model_id": "c3bfba76b7cd4046b8f0bd156b0f803d",
       "version_major": 2,
       "version_minor": 0
      },
      "text/plain": [
       "interactive(children=(IntSlider(value=1, description='Nº Circles:', max=10, min=1), IntRangeSlider(value=(5, 1…"
      ]
     },
     "metadata": {},
     "output_type": "display_data"
    },
    {
     "data": {
      "application/vnd.jupyter.widget-view+json": {
       "model_id": "23eb6e0e869a494ab44e9d222b72e8a6",
       "version_major": 2,
       "version_minor": 0
      },
      "text/plain": [
       "interactive(children=(Text(value='', description='File Path:', placeholder='C:..'), FloatSlider(value=0.1, des…"
      ]
     },
     "metadata": {},
     "output_type": "display_data"
    },
    {
     "data": {
      "application/vnd.jupyter.widget-view+json": {
       "model_id": "b21b4cfe8ef5458c83cd6cae902ee826",
       "version_major": 2,
       "version_minor": 0
      },
      "text/plain": [
       "interactive(children=(IntSlider(value=1, description='Generations:', max=500, min=1), IntSlider(value=1, descr…"
      ]
     },
     "metadata": {},
     "output_type": "display_data"
    }
   ],
   "source": [
    "UI = generateUI()\n",
    "UI.createAndSolve()"
   ]
  },
  {
   "cell_type": "code",
   "execution_count": 11,
   "metadata": {},
   "outputs": [
    {
     "data": {
      "application/vnd.jupyter.widget-view+json": {
       "model_id": "527d0bae5bdd41dc97d6ed76c34d478a",
       "version_major": 2,
       "version_minor": 0
      },
      "text/plain": [
       "interactive(children=(Text(value='', description='File Path:', placeholder='C:..'), Button(description='Run In…"
      ]
     },
     "metadata": {},
     "output_type": "display_data"
    },
    {
     "data": {
      "application/vnd.jupyter.widget-view+json": {
       "model_id": "3a85be4761064e538a2333a11ce298a1",
       "version_major": 2,
       "version_minor": 0
      },
      "text/plain": [
       "interactive(children=(IntSlider(value=1, description='Generations:', max=500, min=1), IntSlider(value=1, descr…"
      ]
     },
     "metadata": {},
     "output_type": "display_data"
    }
   ],
   "source": [
    "UI2 = generateUI()\n",
    "UI2.loadAndSolve()"
   ]
  },
  {
   "cell_type": "markdown",
   "metadata": {},
   "source": [
    "# Código descartado"
   ]
  },
  {
   "cell_type": "markdown",
   "metadata": {},
   "source": [
    "## Versión iterativa del algoritmo"
   ]
  },
  {
   "cell_type": "code",
   "execution_count": 18,
   "metadata": {},
   "outputs": [
    {
     "ename": "SyntaxError",
     "evalue": "EOF while scanning triple-quoted string literal (<ipython-input-18-87f751064139>, line 65)",
     "output_type": "error",
     "traceback": [
      "\u001b[1;36m  File \u001b[1;32m\"<ipython-input-18-87f751064139>\"\u001b[1;36m, line \u001b[1;32m65\u001b[0m\n\u001b[1;33m    return generation_cluster,auxThreshold\u001b[0m\n\u001b[1;37m                                          \n^\u001b[0m\n\u001b[1;31mSyntaxError\u001b[0m\u001b[1;31m:\u001b[0m EOF while scanning triple-quoted string literal\n"
     ]
    }
   ],
   "source": [
    "\"\"\"def learn_it(self,generations,iterations,mode):\n",
    "        \n",
    "        generation_cluster = []\n",
    "        auxThreshold = []\n",
    "        auxDist = 0\n",
    "        \n",
    "        count = 0\n",
    "        while count < generations:\n",
    "            #Initilization\n",
    "            self.initRandomCluster()\n",
    "        \n",
    "            for j in range(0,iterations):\n",
    "                                \n",
    "                data_to_cluster = []\n",
    "                data = self.calculateThreshold()\n",
    "                            \n",
    "                for k in range(0,len(self.clusters)):\n",
    "                                       \n",
    "                    cluster = []\n",
    "                           \n",
    "                    for z in range(0,len(data)):\n",
    "                                                \n",
    "                        if(k == data[z][1]):\n",
    "                            p = Point(data[z][0].x,data[z][0].y)\n",
    "                            cluster.append(p)\n",
    "                           \n",
    "                    data_to_cluster.append(cluster)\n",
    "                \n",
    "                dirty = 0\n",
    "                for k in range(0,len(data_to_cluster)):\n",
    "                    \n",
    "                    c,r = self.calculateCircunference(mode,data_to_cluster[k])\n",
    "        \n",
    "                    if r == -1:\n",
    "                        count -= 1\n",
    "                        dirty = 1\n",
    "                        break\n",
    "                        \n",
    "                    self.clusters[k].update(c,r)     \n",
    "            \n",
    "                if dirty == 1:\n",
    "                    break\n",
    "            \n",
    "            #Check Best Generation\n",
    "            if count <= 0:\n",
    "                generation_cluster = self.clusters\n",
    "                auxThreshold = data\n",
    "                \n",
    "                for j in range(0,len(auxThreshold)):\n",
    "                    auxDist += auxThreshold[j][0].calculateDistanceToCluster(generation_cluster[auxThreshold[j][1]])\n",
    "            else:\n",
    "                temp_cluster = self.clusters\n",
    "                temp_threshold = data\n",
    "                dist = 0\n",
    "                for j in range(0,len(temp_threshold)):\n",
    "                    dist += temp_threshold[j][0].calculateDistanceToCluster(temp_cluster[temp_threshold[j][1]])\n",
    "                \n",
    "                if(dist < auxDist):\n",
    "                    generation_cluster = temp_cluster\n",
    "                    auxThreshold = temp_threshold\n",
    "                    auxDist = dist                    \n",
    "            \n",
    "            count += 1\n",
    "        \n",
    "        return generation_cluster,auxThreshold\"\"\""
   ]
  },
  {
   "cell_type": "markdown",
   "metadata": {},
   "source": [
    "## Selección de puntos para el circuncentro"
   ]
  },
  {
   "cell_type": "code",
   "execution_count": null,
   "metadata": {},
   "outputs": [],
   "source": [
    "\"\"\"def CalculateBestFitPoints1(self,listOfPoints):     \n",
    "        \n",
    "        sumX = 0.0\n",
    "        sumY = 0.0\n",
    "        distance = 0.0\n",
    "        auxPoint = []\n",
    "        auxCenter = 0 \n",
    "        \n",
    "        for i in range(0,len(listOfPoints)):\n",
    "            \n",
    "            #furthests point from points        \n",
    "            for j in range(0,len(listOfPoints)):\n",
    "                actDistance = math.sqrt(pow(listOfPoints[j].x-listOfPoints[i].x,2)+pow(listOfPoints[j].y-listOfPoints[i].y,2))\n",
    "                if(actDistance > distance):\n",
    "                    distance = actDistance\n",
    "                    auxPoint = [listOfPoints[i],listOfPoints[j]]\n",
    "            \n",
    "            sumX += listOfPoints[i].x\n",
    "            sumY += listOfPoints[i].y\n",
    "        \n",
    "        p = Point(sumX/len(listOfPoints),sumY/len(listOfPoints))\n",
    "        \n",
    "        vecL = Point((auxPoint[0].x+auxPoint[1].x)/2,(auxPoint[0].y+auxPoint[1].y)/2)\n",
    "    \n",
    "        newVec = Point(p.x-vecL.x,p.y - vecL.y)\n",
    "        rect = Point(newVec.y, -newVec.x)\n",
    "        c = -(rect.x * p.x + rect.y * p.y)\n",
    "        \n",
    "        auxVal = 10\n",
    "        closestPoint = 0\n",
    "        for j in range(0,len(listOfPoints)):\n",
    "            \n",
    "            val = abs(rect.x * listOfPoints[j].x + rect.y * listOfPoints[j].y + c)\n",
    "            if(j == 0):\n",
    "                auxVal = val\n",
    "            else:\n",
    "                if(val < auxVal):\n",
    "                    auxVal = val\n",
    "                    closestPoint = listOfPoints[j]\n",
    "        \n",
    "       \n",
    "        plt.plot(auxPoint[0].x,auxPoint[0].y,'go')\n",
    "        plt.plot(closestPoint.x,closestPoint.y,'go')\n",
    "        plt.plot(auxPoint[1].x,auxPoint[1].y,'go')\n",
    "        \n",
    "        return p,auxPoint\"\"\""
   ]
  },
  {
   "cell_type": "code",
   "execution_count": 14,
   "metadata": {},
   "outputs": [],
   "source": [
    "\"\"\"def calculateBestFitPoints2(self,listOfPoints):     \n",
    "       \n",
    "        #first random point\n",
    "        p1 = rd.randint(0,len(listOfPoints)-1)\n",
    "        \n",
    "        #furthest point\n",
    "        dis = 0.0\n",
    "        p2 = 0\n",
    "        for i in range(0,len(listOfPoints)):\n",
    "            if(i != p1):\n",
    "                aux_dis = listOfPoints[p1].calculateDistanceToPoint(listOfPoints[i])\n",
    "                \n",
    "                if(aux_dis > dis):\n",
    "                    dis = aux_dis\n",
    "                    p2 = i\n",
    "                            \n",
    "        p3 = p1\n",
    "        while p3 == p1 or p3 == p2:\n",
    "            p3 = rd.randint(0,len(listOfPoints)-1)  \n",
    "        \n",
    "        return listOfPoints[p1],listOfPoints[p2],listOfPoints[p3]\"\"\""
   ]
  }
 ],
 "metadata": {
  "kernelspec": {
   "display_name": "Python 3",
   "language": "python",
   "name": "python3"
  },
  "language_info": {
   "codemirror_mode": {
    "name": "ipython",
    "version": 3
   },
   "file_extension": ".py",
   "mimetype": "text/x-python",
   "name": "python",
   "nbconvert_exporter": "python",
   "pygments_lexer": "ipython3",
   "version": "3.7.6"
  }
 },
 "nbformat": 4,
 "nbformat_minor": 4
}
